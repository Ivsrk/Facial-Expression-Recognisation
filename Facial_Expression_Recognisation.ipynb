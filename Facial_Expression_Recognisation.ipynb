{
  "nbformat": 4,
  "nbformat_minor": 0,
  "metadata": {
    "colab": {
      "name": "Facial Expression Recognisation.ipynb",
      "provenance": [],
      "collapsed_sections": [],
      "toc_visible": true,
      "include_colab_link": true
    },
    "kernelspec": {
      "name": "python3",
      "display_name": "Python 3"
    },
    "accelerator": "GPU"
  },
  "cells": [
    {
      "cell_type": "markdown",
      "metadata": {
        "id": "view-in-github",
        "colab_type": "text"
      },
      "source": [
        "<a href=\"https://colab.research.google.com/github/Ivsrk/Facial-Expression-Recognisation/blob/master/Facial_Expression_Recognisation.ipynb\" target=\"_parent\"><img src=\"https://colab.research.google.com/assets/colab-badge.svg\" alt=\"Open In Colab\"/></a>"
      ]
    },
    {
      "cell_type": "code",
      "metadata": {
        "id": "-u12UL-Hfl1n",
        "colab_type": "code",
        "outputId": "be1d2ad4-7ac0-4257-9fb3-63861b7e2f7f",
        "colab": {
          "base_uri": "https://localhost:8080/",
          "height": 125
        }
      },
      "source": [
        "from google.colab import drive\n",
        "drive.mount('/content/drive')"
      ],
      "execution_count": 0,
      "outputs": [
        {
          "output_type": "stream",
          "text": [
            "Go to this URL in a browser: https://accounts.google.com/o/oauth2/auth?client_id=947318989803-6bn6qk8qdgf4n4g3pfee6491hc0brc4i.apps.googleusercontent.com&redirect_uri=urn%3Aietf%3Awg%3Aoauth%3A2.0%3Aoob&scope=email%20https%3A%2F%2Fwww.googleapis.com%2Fauth%2Fdocs.test%20https%3A%2F%2Fwww.googleapis.com%2Fauth%2Fdrive%20https%3A%2F%2Fwww.googleapis.com%2Fauth%2Fdrive.photos.readonly%20https%3A%2F%2Fwww.googleapis.com%2Fauth%2Fpeopleapi.readonly&response_type=code\n",
            "\n",
            "Enter your authorization code:\n",
            "··········\n",
            "Mounted at /content/drive\n"
          ],
          "name": "stdout"
        }
      ]
    },
    {
      "cell_type": "code",
      "metadata": {
        "id": "-x88TZFDK6f_",
        "colab_type": "code",
        "outputId": "a0088928-a129-47f3-bb8c-4a7f4340aeef",
        "colab": {
          "base_uri": "https://localhost:8080/",
          "height": 81
        }
      },
      "source": [
        "import keras\n",
        "from keras.models import Sequential\n",
        "from keras.layers import Dense,Conv2D,MaxPooling2D,Dropout,Flatten,BatchNormalization,Activation\n",
        "from keras.utils import to_categorical\n",
        "import tensorflow as tf\n",
        "\n",
        "import matplotlib.pyplot as plt\n",
        "%matplotlib inline\n",
        "from __future__ import print_function\n"
      ],
      "execution_count": 0,
      "outputs": [
        {
          "output_type": "stream",
          "text": [
            "Using TensorFlow backend.\n"
          ],
          "name": "stderr"
        },
        {
          "output_type": "display_data",
          "data": {
            "text/html": [
              "<p style=\"color: red;\">\n",
              "The default version of TensorFlow in Colab will soon switch to TensorFlow 2.x.<br>\n",
              "We recommend you <a href=\"https://www.tensorflow.org/guide/migrate\" target=\"_blank\">upgrade</a> now \n",
              "or ensure your notebook will continue to use TensorFlow 1.x via the <code>%tensorflow_version 1.x</code> magic:\n",
              "<a href=\"https://colab.research.google.com/notebooks/tensorflow_version.ipynb\" target=\"_blank\">more info</a>.</p>\n"
            ],
            "text/plain": [
              "<IPython.core.display.HTML object>"
            ]
          },
          "metadata": {
            "tags": []
          }
        }
      ]
    },
    {
      "cell_type": "code",
      "metadata": {
        "id": "odsOah3yYIXt",
        "colab_type": "code",
        "colab": {}
      },
      "source": [
        "import numpy as np\n",
        "import pandas as pd\n",
        "#Reading the dataset\n",
        "dataset = pd.read_csv(\"/content/drive/My Drive/fer2013.csv\")\n",
        "train = dataset[dataset[\"Usage\"] == \"Training\"]\n",
        "test = dataset[dataset[\"Usage\"] == \"PublicTest\"]"
      ],
      "execution_count": 0,
      "outputs": []
    },
    {
      "cell_type": "code",
      "metadata": {
        "id": "fnpaEyEHE_Fg",
        "colab_type": "code",
        "outputId": "633bf142-d186-412e-e470-df0ea2f83818",
        "colab": {
          "base_uri": "https://localhost:8080/",
          "height": 228
        }
      },
      "source": [
        "# converting string to numpy array\n",
        "train['pixels'] = train['pixels'].apply(lambda pixel : np.fromstring(pixel, sep = ' '))\n",
        "test['pixels'] = test['pixels'].apply(lambda pixel : np.fromstring(pixel, sep = ' '))"
      ],
      "execution_count": 0,
      "outputs": [
        {
          "output_type": "stream",
          "text": [
            "/usr/local/lib/python3.6/dist-packages/ipykernel_launcher.py:1: SettingWithCopyWarning: \n",
            "A value is trying to be set on a copy of a slice from a DataFrame.\n",
            "Try using .loc[row_indexer,col_indexer] = value instead\n",
            "\n",
            "See the caveats in the documentation: http://pandas.pydata.org/pandas-docs/stable/user_guide/indexing.html#returning-a-view-versus-a-copy\n",
            "  \"\"\"Entry point for launching an IPython kernel.\n",
            "/usr/local/lib/python3.6/dist-packages/ipykernel_launcher.py:2: SettingWithCopyWarning: \n",
            "A value is trying to be set on a copy of a slice from a DataFrame.\n",
            "Try using .loc[row_indexer,col_indexer] = value instead\n",
            "\n",
            "See the caveats in the documentation: http://pandas.pydata.org/pandas-docs/stable/user_guide/indexing.html#returning-a-view-versus-a-copy\n",
            "  \n"
          ],
          "name": "stderr"
        }
      ]
    },
    {
      "cell_type": "code",
      "metadata": {
        "id": "d7MiWGkJ5OOW",
        "colab_type": "code",
        "outputId": "e4c89bf5-55bd-4ffb-89b8-a9faa6bf5266",
        "colab": {
          "base_uri": "https://localhost:8080/",
          "height": 195
        }
      },
      "source": [
        "#sample training data\n",
        "train.head()"
      ],
      "execution_count": 0,
      "outputs": [
        {
          "output_type": "execute_result",
          "data": {
            "text/html": [
              "<div>\n",
              "<style scoped>\n",
              "    .dataframe tbody tr th:only-of-type {\n",
              "        vertical-align: middle;\n",
              "    }\n",
              "\n",
              "    .dataframe tbody tr th {\n",
              "        vertical-align: top;\n",
              "    }\n",
              "\n",
              "    .dataframe thead th {\n",
              "        text-align: right;\n",
              "    }\n",
              "</style>\n",
              "<table border=\"1\" class=\"dataframe\">\n",
              "  <thead>\n",
              "    <tr style=\"text-align: right;\">\n",
              "      <th></th>\n",
              "      <th>emotion</th>\n",
              "      <th>pixels</th>\n",
              "      <th>Usage</th>\n",
              "    </tr>\n",
              "  </thead>\n",
              "  <tbody>\n",
              "    <tr>\n",
              "      <th>0</th>\n",
              "      <td>0</td>\n",
              "      <td>[70.0, 80.0, 82.0, 72.0, 58.0, 58.0, 60.0, 63....</td>\n",
              "      <td>Training</td>\n",
              "    </tr>\n",
              "    <tr>\n",
              "      <th>1</th>\n",
              "      <td>0</td>\n",
              "      <td>[151.0, 150.0, 147.0, 155.0, 148.0, 133.0, 111...</td>\n",
              "      <td>Training</td>\n",
              "    </tr>\n",
              "    <tr>\n",
              "      <th>2</th>\n",
              "      <td>2</td>\n",
              "      <td>[231.0, 212.0, 156.0, 164.0, 174.0, 138.0, 161...</td>\n",
              "      <td>Training</td>\n",
              "    </tr>\n",
              "    <tr>\n",
              "      <th>3</th>\n",
              "      <td>4</td>\n",
              "      <td>[24.0, 32.0, 36.0, 30.0, 32.0, 23.0, 19.0, 20....</td>\n",
              "      <td>Training</td>\n",
              "    </tr>\n",
              "    <tr>\n",
              "      <th>4</th>\n",
              "      <td>6</td>\n",
              "      <td>[4.0, 0.0, 0.0, 0.0, 0.0, 0.0, 0.0, 0.0, 0.0, ...</td>\n",
              "      <td>Training</td>\n",
              "    </tr>\n",
              "  </tbody>\n",
              "</table>\n",
              "</div>"
            ],
            "text/plain": [
              "   emotion                                             pixels     Usage\n",
              "0        0  [70.0, 80.0, 82.0, 72.0, 58.0, 58.0, 60.0, 63....  Training\n",
              "1        0  [151.0, 150.0, 147.0, 155.0, 148.0, 133.0, 111...  Training\n",
              "2        2  [231.0, 212.0, 156.0, 164.0, 174.0, 138.0, 161...  Training\n",
              "3        4  [24.0, 32.0, 36.0, 30.0, 32.0, 23.0, 19.0, 20....  Training\n",
              "4        6  [4.0, 0.0, 0.0, 0.0, 0.0, 0.0, 0.0, 0.0, 0.0, ...  Training"
            ]
          },
          "metadata": {
            "tags": []
          },
          "execution_count": 5
        }
      ]
    },
    {
      "cell_type": "code",
      "metadata": {
        "id": "Acbyee6WgF7R",
        "colab_type": "code",
        "outputId": "621d06c3-25e6-4487-bbd5-cd53e9c6881e",
        "colab": {
          "base_uri": "https://localhost:8080/",
          "height": 195
        }
      },
      "source": [
        "\n",
        "#sample test data\n",
        "test.head()"
      ],
      "execution_count": 0,
      "outputs": [
        {
          "output_type": "execute_result",
          "data": {
            "text/html": [
              "<div>\n",
              "<style scoped>\n",
              "    .dataframe tbody tr th:only-of-type {\n",
              "        vertical-align: middle;\n",
              "    }\n",
              "\n",
              "    .dataframe tbody tr th {\n",
              "        vertical-align: top;\n",
              "    }\n",
              "\n",
              "    .dataframe thead th {\n",
              "        text-align: right;\n",
              "    }\n",
              "</style>\n",
              "<table border=\"1\" class=\"dataframe\">\n",
              "  <thead>\n",
              "    <tr style=\"text-align: right;\">\n",
              "      <th></th>\n",
              "      <th>emotion</th>\n",
              "      <th>pixels</th>\n",
              "      <th>Usage</th>\n",
              "    </tr>\n",
              "  </thead>\n",
              "  <tbody>\n",
              "    <tr>\n",
              "      <th>28709</th>\n",
              "      <td>0</td>\n",
              "      <td>[254.0, 254.0, 254.0, 254.0, 254.0, 249.0, 255...</td>\n",
              "      <td>PublicTest</td>\n",
              "    </tr>\n",
              "    <tr>\n",
              "      <th>28710</th>\n",
              "      <td>1</td>\n",
              "      <td>[156.0, 184.0, 198.0, 202.0, 204.0, 207.0, 210...</td>\n",
              "      <td>PublicTest</td>\n",
              "    </tr>\n",
              "    <tr>\n",
              "      <th>28711</th>\n",
              "      <td>4</td>\n",
              "      <td>[69.0, 118.0, 61.0, 60.0, 96.0, 121.0, 103.0, ...</td>\n",
              "      <td>PublicTest</td>\n",
              "    </tr>\n",
              "    <tr>\n",
              "      <th>28712</th>\n",
              "      <td>6</td>\n",
              "      <td>[205.0, 203.0, 236.0, 157.0, 83.0, 158.0, 120....</td>\n",
              "      <td>PublicTest</td>\n",
              "    </tr>\n",
              "    <tr>\n",
              "      <th>28713</th>\n",
              "      <td>3</td>\n",
              "      <td>[87.0, 79.0, 74.0, 66.0, 74.0, 96.0, 77.0, 80....</td>\n",
              "      <td>PublicTest</td>\n",
              "    </tr>\n",
              "  </tbody>\n",
              "</table>\n",
              "</div>"
            ],
            "text/plain": [
              "       emotion                                             pixels       Usage\n",
              "28709        0  [254.0, 254.0, 254.0, 254.0, 254.0, 249.0, 255...  PublicTest\n",
              "28710        1  [156.0, 184.0, 198.0, 202.0, 204.0, 207.0, 210...  PublicTest\n",
              "28711        4  [69.0, 118.0, 61.0, 60.0, 96.0, 121.0, 103.0, ...  PublicTest\n",
              "28712        6  [205.0, 203.0, 236.0, 157.0, 83.0, 158.0, 120....  PublicTest\n",
              "28713        3  [87.0, 79.0, 74.0, 66.0, 74.0, 96.0, 77.0, 80....  PublicTest"
            ]
          },
          "metadata": {
            "tags": []
          },
          "execution_count": 6
        }
      ]
    },
    {
      "cell_type": "code",
      "metadata": {
        "id": "XG1WmoGSI-Ia",
        "colab_type": "code",
        "outputId": "130edcc8-2d32-4a4b-b847-80b9fd5b159c",
        "colab": {
          "base_uri": "https://localhost:8080/",
          "height": 52
        }
      },
      "source": [
        "X_train = train.iloc[:, 1].values\n",
        "y_train = train.iloc[:, 0].values\n",
        "X_test = test.iloc[:, 1].values\n",
        "y_test = test.iloc[:, 0].values\n",
        "\n",
        "X_train = np.vstack(X_train)\n",
        "X_test = np.vstack(X_test)\n",
        "\n",
        "X_train = np.reshape(X_train, (X_train.shape[0],48,48,1))\n",
        "y_train = np.reshape(y_train, (y_train.shape[0],1))\n",
        "X_test = np.reshape(X_test, (X_test.shape[0],48,48,1))\n",
        "y_test = np.reshape(y_test, (y_test.shape[0],1))\n",
        "\n",
        "print(\"shape of X_train and y_train is \" + str(X_train.shape) +\" and \" + str(y_train.shape) +\" respectively.\")\n",
        "print(\"shape of X_test and y_test is \" + str(X_test.shape) +\" and \" + str(y_test.shape) +\" respectively.\")\n"
      ],
      "execution_count": 0,
      "outputs": [
        {
          "output_type": "stream",
          "text": [
            "shape of X_train and y_train is (28709, 48, 48, 1) and (28709, 1) respectively.\n",
            "shape of X_test and y_test is (3589, 48, 48, 1) and (3589, 1) respectively.\n"
          ],
          "name": "stdout"
        }
      ]
    },
    {
      "cell_type": "code",
      "metadata": {
        "id": "96OrSzMdJN3W",
        "colab_type": "code",
        "colab": {}
      },
      "source": [
        "# Change to float datatype\n",
        "train_data = X_train.astype('float32')\n",
        "test_data = X_test.astype('float32')\n",
        "\n",
        "# Scale the data to lie between 0 to 1\n",
        "train_data /= 255\n",
        "test_data /= 255\n",
        "\n",
        "# Change the labels from integer to categorical data\n",
        "train_labels_one_hot = to_categorical(y_train)\n",
        "test_labels_one_hot = to_categorical(y_test)"
      ],
      "execution_count": 0,
      "outputs": []
    },
    {
      "cell_type": "code",
      "metadata": {
        "id": "HdaMC1_zJSBn",
        "colab_type": "code",
        "outputId": "4841f77c-fb4c-45c5-eff8-624e9bef5c99",
        "colab": {
          "base_uri": "https://localhost:8080/",
          "height": 52
        }
      },
      "source": [
        "\n",
        "classes = np.unique(y_train)\n",
        "nClasses = len(classes)\n",
        "print('Total number of outputs : ', nClasses)\n",
        "print('Output classes : ', classes)\n",
        "\n",
        "nRows,nCols,nDims = X_train.shape[1:]\n",
        "input_shape = (nRows, nCols, nDims)"
      ],
      "execution_count": 0,
      "outputs": [
        {
          "output_type": "stream",
          "text": [
            "Total number of outputs :  7\n",
            "Output classes :  [0 1 2 3 4 5 6]\n"
          ],
          "name": "stdout"
        }
      ]
    },
    {
      "cell_type": "code",
      "metadata": {
        "id": "GkYlQEgLJUHL",
        "colab_type": "code",
        "colab": {}
      },
      "source": [
        "\n",
        "def get_label(argument):\n",
        "    labels = {0:'Angry', 1:'Disgust', 2:'Fear', 3:'Happy', 4:'Sad' , 5:'Surprise', 6:'Neutral'}\n",
        "    return(labels.get(argument, \"Invalid emotion\"))"
      ],
      "execution_count": 0,
      "outputs": []
    },
    {
      "cell_type": "code",
      "metadata": {
        "id": "Kz6SkymBJWeU",
        "colab_type": "code",
        "outputId": "9df43eda-2e30-4af6-b276-f481fe2b048b",
        "colab": {
          "base_uri": "https://localhost:8080/",
          "height": 180
        }
      },
      "source": [
        "# resize plots\n",
        "plt.figure(figsize=[6,4])\n",
        "#plotting a sample training image\n",
        "plt.subplot(1,3,1)\n",
        "plt.imshow(np.squeeze(X_train[7]), cmap='gray')\n",
        "plt.title(\"Ground Truth : {}\".format(get_label(int(y_train[7]))))\n",
        "#plotting another image\n",
        "plt.subplot(1,3,3)\n",
        "plt.imshow(np.squeeze(X_test[2]), cmap='gray')\n",
        "plt.title(\"Ground Truth : {}\".format(get_label(int(y_test[2]))))"
      ],
      "execution_count": 0,
      "outputs": [
        {
          "output_type": "execute_result",
          "data": {
            "text/plain": [
              "Text(0.5, 1.0, 'Ground Truth : Sad')"
            ]
          },
          "metadata": {
            "tags": []
          },
          "execution_count": 11
        },
        {
          "output_type": "display_data",
          "data": {
            "image/png": "[encoded data removed]",
            "text/plain": [
              "<Figure size 432x288 with 2 Axes>"
            ]
          },
          "metadata": {
            "tags": []
          }
        }
      ]
    },
    {
      "cell_type": "markdown",
      "metadata": {
        "id": "HvZXbAKNK7c6",
        "colab_type": "text"
      },
      "source": [
        "# General Model"
      ]
    },
    {
      "cell_type": "code",
      "metadata": {
        "id": "eYk2lMiIJYXu",
        "colab_type": "code",
        "colab": {}
      },
      "source": [
        "# General Model\n",
        "\n",
        "def createModel():\n",
        "    \n",
        "    #Model Initialization\n",
        "    model = Sequential() \n",
        "    \n",
        "    #Adding Input Layer\n",
        "    model.add(Conv2D(32, (3, 3), padding='same', activation='relu', input_shape=input_shape))\n",
        "    model.add(Conv2D(32, (3, 3), activation='relu'))\n",
        "    model.add(MaxPooling2D(pool_size=(2, 2)))\n",
        "    model.add(Dropout(0.25))\n",
        "\n",
        "    model.add(Conv2D(64, (3, 3), padding='same', activation='relu'))\n",
        "    #model.add(Conv2D(64, (3, 3), activation='relu'))\n",
        "    model.add(MaxPooling2D(pool_size=(2, 2)))\n",
        "    model.add(Dropout(0.25))\n",
        "    \n",
        "    model.add(Conv2D(128, (3, 3), padding='same', activation='relu'))\n",
        "    #model.add(Conv2D(64, (3, 3), activation='relu'))\n",
        "    model.add(MaxPooling2D(pool_size=(2, 2)))\n",
        "    model.add(Dropout(0.25))\n",
        "  \n",
        "    #Flattening\n",
        "    model.add(Flatten())\n",
        "    \n",
        "    \n",
        "    #Adding fully connected layer\n",
        "    model.add(Dense(512, activation='relu'))\n",
        "    model.add(Dropout(0.4))\n",
        "    \n",
        "    #Adding Output Layer\n",
        "    model.add(Dense(nClasses, activation='softmax'))\n",
        "     \n",
        "    return model"
      ],
      "execution_count": 0,
      "outputs": []
    },
    {
      "cell_type": "markdown",
      "metadata": {
        "id": "wkUFgDEVLA9p",
        "colab_type": "text"
      },
      "source": [
        "# Curves"
      ]
    },
    {
      "cell_type": "code",
      "metadata": {
        "id": "OBoYDuTQFNRP",
        "colab_type": "code",
        "colab": {}
      },
      "source": [
        "\n",
        "#Plotting accuracy and loss curves for 1st model\n",
        "def loss_curves(history):\n",
        "  loss_train = history.history['loss']\n",
        "  loss_val = history.history['val_loss']\n",
        "  epochs = range(0,100)\n",
        "  plt.plot(epochs, loss_train, 'b', label='Training Error')\n",
        "  plt.plot(epochs, loss_val, 'r', label='testing Error')\n",
        "  plt.title('Training and Testing Error')\n",
        "  plt.xlabel('Epochs')\n",
        "  plt.ylabel('Error')\n",
        "  plt.legend()\n",
        "  plt.show()\n",
        "def acc_curves(history):\n",
        "  # Accuracy Curves\n",
        "  acc_train = history.history['acc']\n",
        "  acc_val = history.history['val_acc']\n",
        "  epochs = range(0,100)\n",
        "  plt.plot(epochs, loss_train, 'b', label='Training Accuracy')\n",
        "  plt.plot(epochs, loss_val, 'r', label='testing accuracy')\n",
        "  plt.title('Training and Testing Accuracy')\n",
        "  plt.xlabel('Epochs')\n",
        "  plt.ylabel('Accuracy')\n",
        "  plt.legend()\n",
        "  plt.show()\n",
        "  "
      ],
      "execution_count": 0,
      "outputs": []
    },
    {
      "cell_type": "markdown",
      "metadata": {
        "id": "AXHh_1Ij31G4",
        "colab_type": "text"
      },
      "source": [
        "# Model 1 for RMSPROP\n"
      ]
    },
    {
      "cell_type": "code",
      "metadata": {
        "id": "9kSSiJtLJasC",
        "colab_type": "code",
        "outputId": "4043b5fa-75fb-4c90-c74c-0a7b8114214e",
        "colab": {
          "base_uri": "https://localhost:8080/",
          "height": 650
        }
      },
      "source": [
        "#Model 1 for RMSPROP\n",
        "model1 = createModel()\n",
        "batch_size = 256\n",
        "epochs = 100\n",
        "model1.compile(optimizer='rmsprop', loss='categorical_crossentropy', metrics=['accuracy'])\n",
        "model1.summary()"
      ],
      "execution_count": 0,
      "outputs": [
        {
          "output_type": "stream",
          "text": [
            "Model: \"sequential_6\"\n",
            "_________________________________________________________________\n",
            "Layer (type)                 Output Shape              Param #   \n",
            "=================================================================\n",
            "conv2d_21 (Conv2D)           (None, 48, 48, 32)        320       \n",
            "_________________________________________________________________\n",
            "conv2d_22 (Conv2D)           (None, 46, 46, 32)        9248      \n",
            "_________________________________________________________________\n",
            "max_pooling2d_16 (MaxPooling (None, 23, 23, 32)        0         \n",
            "_________________________________________________________________\n",
            "dropout_21 (Dropout)         (None, 23, 23, 32)        0         \n",
            "_________________________________________________________________\n",
            "conv2d_23 (Conv2D)           (None, 23, 23, 64)        18496     \n",
            "_________________________________________________________________\n",
            "max_pooling2d_17 (MaxPooling (None, 11, 11, 64)        0         \n",
            "_________________________________________________________________\n",
            "dropout_22 (Dropout)         (None, 11, 11, 64)        0         \n",
            "_________________________________________________________________\n",
            "conv2d_24 (Conv2D)           (None, 11, 11, 128)       73856     \n",
            "_________________________________________________________________\n",
            "max_pooling2d_18 (MaxPooling (None, 5, 5, 128)         0         \n",
            "_________________________________________________________________\n",
            "dropout_23 (Dropout)         (None, 5, 5, 128)         0         \n",
            "_________________________________________________________________\n",
            "flatten_6 (Flatten)          (None, 3200)              0         \n",
            "_________________________________________________________________\n",
            "dense_11 (Dense)             (None, 512)               1638912   \n",
            "_________________________________________________________________\n",
            "dropout_24 (Dropout)         (None, 512)               0         \n",
            "_________________________________________________________________\n",
            "dense_12 (Dense)             (None, 7)                 3591      \n",
            "=================================================================\n",
            "Total params: 1,744,423\n",
            "Trainable params: 1,744,423\n",
            "Non-trainable params: 0\n",
            "_________________________________________________________________\n"
          ],
          "name": "stdout"
        }
      ]
    },
    {
      "cell_type": "code",
      "metadata": {
        "id": "f9ak8R4QJc6Y",
        "colab_type": "code",
        "outputId": "ac9d12d4-7613-4b56-fbdc-ceae46cdf57e",
        "colab": {
          "base_uri": "https://localhost:8080/",
          "height": 1000
        }
      },
      "source": [
        "history = model1.fit(train_data, train_labels_one_hot, batch_size=batch_size, epochs=epochs, verbose=1, \n",
        "                   validation_data=(test_data, test_labels_one_hot))"
      ],
      "execution_count": 0,
      "outputs": [
        {
          "output_type": "stream",
          "text": [
            "Train on 28709 samples, validate on 3589 samples\n",
            "Epoch 1/100\n",
            "28709/28709 [==============================] - 10s 343us/step - loss: 1.8129 - acc: 0.2527 - val_loss: 1.7418 - val_acc: 0.2873\n",
            "Epoch 2/100\n",
            "28709/28709 [==============================] - 9s 304us/step - loss: 1.6288 - acc: 0.3602 - val_loss: 1.5237 - val_acc: 0.4118\n",
            "Epoch 3/100\n",
            "28709/28709 [==============================] - 9s 303us/step - loss: 1.4950 - acc: 0.4198 - val_loss: 1.4889 - val_acc: 0.4263\n",
            "Epoch 4/100\n",
            "28709/28709 [==============================] - 9s 305us/step - loss: 1.3902 - acc: 0.4653 - val_loss: 1.3430 - val_acc: 0.4921\n",
            "Epoch 5/100\n",
            "28709/28709 [==============================] - 9s 306us/step - loss: 1.3171 - acc: 0.4998 - val_loss: 1.2834 - val_acc: 0.5071\n",
            "Epoch 6/100\n",
            "28709/28709 [==============================] - 9s 304us/step - loss: 1.2527 - acc: 0.5245 - val_loss: 1.3537 - val_acc: 0.4815\n",
            "Epoch 7/100\n",
            "28709/28709 [==============================] - 9s 306us/step - loss: 1.2066 - acc: 0.5446 - val_loss: 1.2188 - val_acc: 0.5394\n",
            "Epoch 8/100\n",
            "28709/28709 [==============================] - 9s 305us/step - loss: 1.1617 - acc: 0.5621 - val_loss: 1.1999 - val_acc: 0.5450\n",
            "Epoch 9/100\n",
            "28709/28709 [==============================] - 9s 304us/step - loss: 1.1176 - acc: 0.5795 - val_loss: 1.2199 - val_acc: 0.5333\n",
            "Epoch 10/100\n",
            "28709/28709 [==============================] - 9s 304us/step - loss: 1.0808 - acc: 0.5953 - val_loss: 1.1583 - val_acc: 0.5631\n",
            "Epoch 11/100\n",
            "28709/28709 [==============================] - 9s 305us/step - loss: 1.0442 - acc: 0.6071 - val_loss: 1.2319 - val_acc: 0.5366\n",
            "Epoch 12/100\n",
            "28709/28709 [==============================] - 9s 305us/step - loss: 1.0105 - acc: 0.6230 - val_loss: 1.1461 - val_acc: 0.5648\n",
            "Epoch 13/100\n",
            "28709/28709 [==============================] - 9s 304us/step - loss: 0.9722 - acc: 0.6411 - val_loss: 1.1562 - val_acc: 0.5695\n",
            "Epoch 14/100\n",
            "28709/28709 [==============================] - 9s 303us/step - loss: 0.9418 - acc: 0.6467 - val_loss: 1.1036 - val_acc: 0.5840\n",
            "Epoch 15/100\n",
            "28709/28709 [==============================] - 9s 304us/step - loss: 0.9090 - acc: 0.6643 - val_loss: 1.0820 - val_acc: 0.5965\n",
            "Epoch 16/100\n",
            "28709/28709 [==============================] - 9s 304us/step - loss: 0.8797 - acc: 0.6762 - val_loss: 1.1093 - val_acc: 0.5893\n",
            "Epoch 17/100\n",
            "28709/28709 [==============================] - 9s 307us/step - loss: 0.8486 - acc: 0.6877 - val_loss: 1.0893 - val_acc: 0.5982\n",
            "Epoch 18/100\n",
            "28709/28709 [==============================] - 9s 306us/step - loss: 0.8205 - acc: 0.6963 - val_loss: 1.1434 - val_acc: 0.5991\n",
            "Epoch 19/100\n",
            "28709/28709 [==============================] - 9s 305us/step - loss: 0.7801 - acc: 0.7141 - val_loss: 1.0908 - val_acc: 0.6052\n",
            "Epoch 20/100\n",
            "28709/28709 [==============================] - 9s 306us/step - loss: 0.7593 - acc: 0.7227 - val_loss: 1.0994 - val_acc: 0.6147\n",
            "Epoch 21/100\n",
            "28709/28709 [==============================] - 9s 305us/step - loss: 0.7307 - acc: 0.7304 - val_loss: 1.0952 - val_acc: 0.6130\n",
            "Epoch 22/100\n",
            "28709/28709 [==============================] - 9s 305us/step - loss: 0.7071 - acc: 0.7416 - val_loss: 1.1511 - val_acc: 0.6188\n",
            "Epoch 23/100\n",
            "28709/28709 [==============================] - 9s 305us/step - loss: 0.6847 - acc: 0.7495 - val_loss: 1.0987 - val_acc: 0.6124\n",
            "Epoch 24/100\n",
            "28709/28709 [==============================] - 9s 305us/step - loss: 0.6674 - acc: 0.7534 - val_loss: 1.2262 - val_acc: 0.6149\n",
            "Epoch 25/100\n",
            "28709/28709 [==============================] - 9s 305us/step - loss: 0.6426 - acc: 0.7651 - val_loss: 1.1769 - val_acc: 0.6158\n",
            "Epoch 26/100\n",
            "28709/28709 [==============================] - 9s 306us/step - loss: 0.6256 - acc: 0.7698 - val_loss: 1.1366 - val_acc: 0.6108\n",
            "Epoch 27/100\n",
            "28709/28709 [==============================] - 9s 307us/step - loss: 0.6066 - acc: 0.7810 - val_loss: 1.1439 - val_acc: 0.6180\n",
            "Epoch 28/100\n",
            "28709/28709 [==============================] - 9s 306us/step - loss: 0.5917 - acc: 0.7838 - val_loss: 1.1066 - val_acc: 0.6144\n",
            "Epoch 29/100\n",
            "28709/28709 [==============================] - 9s 307us/step - loss: 0.5714 - acc: 0.7922 - val_loss: 1.2880 - val_acc: 0.6172\n",
            "Epoch 30/100\n",
            "28709/28709 [==============================] - 9s 305us/step - loss: 0.5637 - acc: 0.7956 - val_loss: 1.1433 - val_acc: 0.6155\n",
            "Epoch 31/100\n",
            "28709/28709 [==============================] - 9s 306us/step - loss: 0.5528 - acc: 0.7998 - val_loss: 1.2264 - val_acc: 0.6082\n",
            "Epoch 32/100\n",
            "28709/28709 [==============================] - 9s 306us/step - loss: 0.5265 - acc: 0.8066 - val_loss: 1.1882 - val_acc: 0.6205\n",
            "Epoch 33/100\n",
            "28709/28709 [==============================] - 9s 306us/step - loss: 0.5206 - acc: 0.8113 - val_loss: 1.2351 - val_acc: 0.6135\n",
            "Epoch 34/100\n",
            "28709/28709 [==============================] - 9s 306us/step - loss: 0.5149 - acc: 0.8135 - val_loss: 1.2322 - val_acc: 0.6213\n",
            "Epoch 35/100\n",
            "28709/28709 [==============================] - 9s 306us/step - loss: 0.5019 - acc: 0.8199 - val_loss: 1.1790 - val_acc: 0.6300\n",
            "Epoch 36/100\n",
            "28709/28709 [==============================] - 9s 307us/step - loss: 0.4928 - acc: 0.8242 - val_loss: 1.2979 - val_acc: 0.6208\n",
            "Epoch 37/100\n",
            "28709/28709 [==============================] - 9s 306us/step - loss: 0.4915 - acc: 0.8259 - val_loss: 1.2663 - val_acc: 0.6247\n",
            "Epoch 38/100\n",
            "28709/28709 [==============================] - 9s 307us/step - loss: 0.4654 - acc: 0.8355 - val_loss: 1.2494 - val_acc: 0.6174\n",
            "Epoch 39/100\n",
            "28709/28709 [==============================] - 9s 306us/step - loss: 0.4637 - acc: 0.8337 - val_loss: 1.3707 - val_acc: 0.6147\n",
            "Epoch 40/100\n",
            "28709/28709 [==============================] - 9s 306us/step - loss: 0.4602 - acc: 0.8347 - val_loss: 1.3320 - val_acc: 0.6124\n",
            "Epoch 41/100\n",
            "28709/28709 [==============================] - 9s 304us/step - loss: 0.4502 - acc: 0.8405 - val_loss: 1.2530 - val_acc: 0.6158\n",
            "Epoch 42/100\n",
            "28709/28709 [==============================] - 9s 307us/step - loss: 0.4456 - acc: 0.8384 - val_loss: 1.2991 - val_acc: 0.6199\n",
            "Epoch 43/100\n",
            "28709/28709 [==============================] - 9s 307us/step - loss: 0.4431 - acc: 0.8417 - val_loss: 1.3200 - val_acc: 0.6280\n",
            "Epoch 44/100\n",
            "28709/28709 [==============================] - 9s 306us/step - loss: 0.4358 - acc: 0.8467 - val_loss: 1.3430 - val_acc: 0.6266\n",
            "Epoch 45/100\n",
            "28709/28709 [==============================] - 9s 305us/step - loss: 0.4268 - acc: 0.8490 - val_loss: 1.2470 - val_acc: 0.6258\n",
            "Epoch 46/100\n",
            "28709/28709 [==============================] - 9s 306us/step - loss: 0.4165 - acc: 0.8510 - val_loss: 1.3005 - val_acc: 0.6216\n",
            "Epoch 47/100\n",
            "28709/28709 [==============================] - 9s 306us/step - loss: 0.4198 - acc: 0.8479 - val_loss: 1.4294 - val_acc: 0.6172\n",
            "Epoch 48/100\n",
            "28709/28709 [==============================] - 9s 305us/step - loss: 0.4203 - acc: 0.8511 - val_loss: 1.1706 - val_acc: 0.6141\n",
            "Epoch 49/100\n",
            "28709/28709 [==============================] - 9s 306us/step - loss: 0.4095 - acc: 0.8556 - val_loss: 1.3732 - val_acc: 0.6174\n",
            "Epoch 50/100\n",
            "28709/28709 [==============================] - 9s 307us/step - loss: 0.4071 - acc: 0.8550 - val_loss: 1.1648 - val_acc: 0.6121\n",
            "Epoch 51/100\n",
            "28709/28709 [==============================] - 9s 306us/step - loss: 0.4108 - acc: 0.8544 - val_loss: 1.3060 - val_acc: 0.6247\n",
            "Epoch 52/100\n",
            "28709/28709 [==============================] - 9s 306us/step - loss: 0.4013 - acc: 0.8576 - val_loss: 1.4201 - val_acc: 0.6038\n",
            "Epoch 53/100\n",
            "28709/28709 [==============================] - 9s 308us/step - loss: 0.4077 - acc: 0.8582 - val_loss: 1.6420 - val_acc: 0.6160\n",
            "Epoch 54/100\n",
            "28709/28709 [==============================] - 9s 307us/step - loss: 0.4037 - acc: 0.8598 - val_loss: 1.1927 - val_acc: 0.6082\n",
            "Epoch 55/100\n",
            "28709/28709 [==============================] - 9s 306us/step - loss: 0.4075 - acc: 0.8579 - val_loss: 1.4338 - val_acc: 0.6250\n",
            "Epoch 56/100\n",
            "28709/28709 [==============================] - 9s 307us/step - loss: 0.3971 - acc: 0.8628 - val_loss: 1.3770 - val_acc: 0.6213\n",
            "Epoch 57/100\n",
            "28709/28709 [==============================] - 9s 304us/step - loss: 0.3961 - acc: 0.8596 - val_loss: 1.3183 - val_acc: 0.6183\n",
            "Epoch 58/100\n",
            "28709/28709 [==============================] - 9s 306us/step - loss: 0.3962 - acc: 0.8640 - val_loss: 1.2541 - val_acc: 0.6222\n",
            "Epoch 59/100\n",
            "28709/28709 [==============================] - 9s 306us/step - loss: 0.3860 - acc: 0.8645 - val_loss: 1.4211 - val_acc: 0.6194\n",
            "Epoch 60/100\n",
            "28709/28709 [==============================] - 9s 305us/step - loss: 0.3838 - acc: 0.8675 - val_loss: 1.4361 - val_acc: 0.6244\n",
            "Epoch 61/100\n",
            "28709/28709 [==============================] - 9s 304us/step - loss: 0.3869 - acc: 0.8644 - val_loss: 1.3761 - val_acc: 0.6261\n",
            "Epoch 62/100\n",
            "28709/28709 [==============================] - 9s 306us/step - loss: 0.3869 - acc: 0.8657 - val_loss: 1.3855 - val_acc: 0.6305\n",
            "Epoch 63/100\n",
            "28709/28709 [==============================] - 9s 304us/step - loss: 0.3828 - acc: 0.8679 - val_loss: 1.1980 - val_acc: 0.6096\n",
            "Epoch 64/100\n",
            "28709/28709 [==============================] - 9s 304us/step - loss: 0.3843 - acc: 0.8664 - val_loss: 1.4153 - val_acc: 0.6160\n",
            "Epoch 65/100\n",
            "28709/28709 [==============================] - 9s 304us/step - loss: 0.3803 - acc: 0.8700 - val_loss: 1.2280 - val_acc: 0.6141\n",
            "Epoch 66/100\n",
            "28709/28709 [==============================] - 9s 304us/step - loss: 0.3798 - acc: 0.8708 - val_loss: 1.2080 - val_acc: 0.6094\n",
            "Epoch 67/100\n",
            "28709/28709 [==============================] - 9s 307us/step - loss: 0.3798 - acc: 0.8716 - val_loss: 1.2277 - val_acc: 0.6119\n",
            "Epoch 68/100\n",
            "28709/28709 [==============================] - 9s 304us/step - loss: 0.3747 - acc: 0.8702 - val_loss: 1.5401 - val_acc: 0.6222\n",
            "Epoch 69/100\n",
            "28709/28709 [==============================] - 9s 306us/step - loss: 0.3769 - acc: 0.8715 - val_loss: 1.5941 - val_acc: 0.6252\n",
            "Epoch 70/100\n",
            "28709/28709 [==============================] - 9s 304us/step - loss: 0.3700 - acc: 0.8763 - val_loss: 1.1841 - val_acc: 0.6160\n",
            "Epoch 71/100\n",
            "28709/28709 [==============================] - 9s 304us/step - loss: 0.3719 - acc: 0.8725 - val_loss: 1.6649 - val_acc: 0.6291\n",
            "Epoch 72/100\n",
            "28709/28709 [==============================] - 9s 303us/step - loss: 0.3766 - acc: 0.8735 - val_loss: 1.3950 - val_acc: 0.6219\n",
            "Epoch 73/100\n",
            "28709/28709 [==============================] - 9s 303us/step - loss: 0.3659 - acc: 0.8772 - val_loss: 1.5302 - val_acc: 0.6172\n",
            "Epoch 74/100\n",
            "28709/28709 [==============================] - 9s 302us/step - loss: 0.3691 - acc: 0.8740 - val_loss: 1.2510 - val_acc: 0.6149\n",
            "Epoch 75/100\n",
            "28709/28709 [==============================] - 9s 298us/step - loss: 0.3762 - acc: 0.8714 - val_loss: 1.4881 - val_acc: 0.6233\n",
            "Epoch 76/100\n",
            "28709/28709 [==============================] - 9s 298us/step - loss: 0.3711 - acc: 0.8766 - val_loss: 1.5431 - val_acc: 0.6194\n",
            "Epoch 77/100\n",
            "28709/28709 [==============================] - 9s 300us/step - loss: 0.3700 - acc: 0.8774 - val_loss: 1.5673 - val_acc: 0.6191\n",
            "Epoch 78/100\n",
            "28709/28709 [==============================] - 9s 299us/step - loss: 0.3701 - acc: 0.8774 - val_loss: 1.4925 - val_acc: 0.6222\n",
            "Epoch 79/100\n",
            "28709/28709 [==============================] - 9s 301us/step - loss: 0.3640 - acc: 0.8780 - val_loss: 1.2063 - val_acc: 0.6018\n",
            "Epoch 80/100\n",
            "28709/28709 [==============================] - 9s 303us/step - loss: 0.3532 - acc: 0.8832 - val_loss: 1.4314 - val_acc: 0.6183\n",
            "Epoch 81/100\n",
            "28709/28709 [==============================] - 9s 304us/step - loss: 0.3561 - acc: 0.8790 - val_loss: 1.7695 - val_acc: 0.6163\n",
            "Epoch 82/100\n",
            "28709/28709 [==============================] - 9s 306us/step - loss: 0.3594 - acc: 0.8782 - val_loss: 1.5212 - val_acc: 0.6222\n",
            "Epoch 83/100\n",
            "28709/28709 [==============================] - 9s 306us/step - loss: 0.3583 - acc: 0.8807 - val_loss: 1.4810 - val_acc: 0.6113\n",
            "Epoch 84/100\n",
            "28709/28709 [==============================] - 9s 305us/step - loss: 0.3642 - acc: 0.8791 - val_loss: 1.7630 - val_acc: 0.6202\n",
            "Epoch 85/100\n",
            "28709/28709 [==============================] - 9s 305us/step - loss: 0.3678 - acc: 0.8783 - val_loss: 1.2618 - val_acc: 0.6130\n",
            "Epoch 86/100\n",
            "28709/28709 [==============================] - 9s 304us/step - loss: 0.3559 - acc: 0.8812 - val_loss: 1.3453 - val_acc: 0.6094\n",
            "Epoch 87/100\n",
            "28709/28709 [==============================] - 9s 307us/step - loss: 0.3594 - acc: 0.8784 - val_loss: 1.5184 - val_acc: 0.6138\n",
            "Epoch 88/100\n",
            "28709/28709 [==============================] - 9s 305us/step - loss: 0.3619 - acc: 0.8808 - val_loss: 1.5066 - val_acc: 0.6197\n",
            "Epoch 89/100\n",
            "28709/28709 [==============================] - 9s 305us/step - loss: 0.3540 - acc: 0.8821 - val_loss: 1.3020 - val_acc: 0.5904\n",
            "Epoch 90/100\n",
            "28709/28709 [==============================] - 9s 305us/step - loss: 0.3613 - acc: 0.8815 - val_loss: 1.4881 - val_acc: 0.6305\n",
            "Epoch 91/100\n",
            "28709/28709 [==============================] - 9s 306us/step - loss: 0.3601 - acc: 0.8827 - val_loss: 1.3843 - val_acc: 0.6071\n",
            "Epoch 92/100\n",
            "28709/28709 [==============================] - 9s 303us/step - loss: 0.3539 - acc: 0.8806 - val_loss: 1.8562 - val_acc: 0.5988\n",
            "Epoch 93/100\n",
            "28709/28709 [==============================] - 9s 305us/step - loss: 0.3642 - acc: 0.8805 - val_loss: 1.3429 - val_acc: 0.6038\n",
            "Epoch 94/100\n",
            "28709/28709 [==============================] - 9s 305us/step - loss: 0.3634 - acc: 0.8791 - val_loss: 1.3302 - val_acc: 0.6236\n",
            "Epoch 95/100\n",
            "28709/28709 [==============================] - 9s 304us/step - loss: 0.3554 - acc: 0.8829 - val_loss: 1.3373 - val_acc: 0.6250\n",
            "Epoch 96/100\n",
            "28709/28709 [==============================] - 9s 305us/step - loss: 0.3494 - acc: 0.8855 - val_loss: 1.1956 - val_acc: 0.6124\n",
            "Epoch 97/100\n",
            "28709/28709 [==============================] - 9s 305us/step - loss: 0.3623 - acc: 0.8803 - val_loss: 1.4879 - val_acc: 0.6119\n",
            "Epoch 98/100\n",
            "28709/28709 [==============================] - 9s 306us/step - loss: 0.3616 - acc: 0.8826 - val_loss: 1.7677 - val_acc: 0.6124\n",
            "Epoch 99/100\n",
            "28709/28709 [==============================] - 9s 303us/step - loss: 0.3539 - acc: 0.8849 - val_loss: 1.4432 - val_acc: 0.6163\n",
            "Epoch 100/100\n",
            "28709/28709 [==============================] - 9s 305us/step - loss: 0.3412 - acc: 0.8841 - val_loss: 1.2023 - val_acc: 0.5943\n"
          ],
          "name": "stdout"
        }
      ]
    },
    {
      "cell_type": "code",
      "metadata": {
        "id": "cSXolSNXJe8h",
        "colab_type": "code",
        "outputId": "3140ae9a-32fe-4a8b-8762-04ded15f6ec2",
        "colab": {
          "base_uri": "https://localhost:8080/",
          "height": 34
        }
      },
      "source": [
        "los1,acc1=model1.evaluate(test_data, test_labels_one_hot)"
      ],
      "execution_count": 0,
      "outputs": [
        {
          "output_type": "stream",
          "text": [
            "3589/3589 [==============================] - 1s 163us/step\n"
          ],
          "name": "stdout"
        }
      ]
    },
    {
      "cell_type": "code",
      "metadata": {
        "id": "7r_OYw4_6yXt",
        "colab_type": "code",
        "outputId": "cb0313fc-a9e8-4a36-c0b8-a6d3120c44c9",
        "colab": {
          "base_uri": "https://localhost:8080/",
          "height": 295
        }
      },
      "source": [
        "#Loss curves for RMSPROP\n",
        "loss_curves(history)"
      ],
      "execution_count": 0,
      "outputs": [
        {
          "output_type": "display_data",
          "data": {
            "image/png": "[encoded data removed]",
            "text/plain": [
              "<Figure size 432x288 with 1 Axes>"
            ]
          },
          "metadata": {
            "tags": []
          }
        }
      ]
    },
    {
      "cell_type": "markdown",
      "metadata": {
        "id": "0LwJ8rTAJ4hQ",
        "colab_type": "text"
      },
      "source": [
        "# **MODEL 2 USING  SGD**"
      ]
    },
    {
      "cell_type": "code",
      "metadata": {
        "id": "NbqbgkWVJ27f",
        "colab_type": "code",
        "outputId": "6a7d8fcf-663a-4119-bf00-f683c4b78e26",
        "colab": {
          "base_uri": "https://localhost:8080/",
          "height": 650
        }
      },
      "source": [
        "\n",
        "model2 = createModel()\n",
        "batch_size = 256\n",
        "epochs = 100\n",
        "model2.compile(optimizer='sgd', loss='categorical_crossentropy', metrics=['accuracy'])\n",
        "\n",
        "model2.summary()"
      ],
      "execution_count": 0,
      "outputs": [
        {
          "output_type": "stream",
          "text": [
            "Model: \"sequential_7\"\n",
            "_________________________________________________________________\n",
            "Layer (type)                 Output Shape              Param #   \n",
            "=================================================================\n",
            "conv2d_25 (Conv2D)           (None, 48, 48, 32)        320       \n",
            "_________________________________________________________________\n",
            "conv2d_26 (Conv2D)           (None, 46, 46, 32)        9248      \n",
            "_________________________________________________________________\n",
            "max_pooling2d_19 (MaxPooling (None, 23, 23, 32)        0         \n",
            "_________________________________________________________________\n",
            "dropout_25 (Dropout)         (None, 23, 23, 32)        0         \n",
            "_________________________________________________________________\n",
            "conv2d_27 (Conv2D)           (None, 23, 23, 64)        18496     \n",
            "_________________________________________________________________\n",
            "max_pooling2d_20 (MaxPooling (None, 11, 11, 64)        0         \n",
            "_________________________________________________________________\n",
            "dropout_26 (Dropout)         (None, 11, 11, 64)        0         \n",
            "_________________________________________________________________\n",
            "conv2d_28 (Conv2D)           (None, 11, 11, 128)       73856     \n",
            "_________________________________________________________________\n",
            "max_pooling2d_21 (MaxPooling (None, 5, 5, 128)         0         \n",
            "_________________________________________________________________\n",
            "dropout_27 (Dropout)         (None, 5, 5, 128)         0         \n",
            "_________________________________________________________________\n",
            "flatten_7 (Flatten)          (None, 3200)              0         \n",
            "_________________________________________________________________\n",
            "dense_13 (Dense)             (None, 512)               1638912   \n",
            "_________________________________________________________________\n",
            "dropout_28 (Dropout)         (None, 512)               0         \n",
            "_________________________________________________________________\n",
            "dense_14 (Dense)             (None, 7)                 3591      \n",
            "=================================================================\n",
            "Total params: 1,744,423\n",
            "Trainable params: 1,744,423\n",
            "Non-trainable params: 0\n",
            "_________________________________________________________________\n"
          ],
          "name": "stdout"
        }
      ]
    },
    {
      "cell_type": "code",
      "metadata": {
        "id": "iGcdYKd2J3jx",
        "colab_type": "code",
        "outputId": "92215001-475d-43cf-f2bf-d0414ef63c6a",
        "colab": {
          "base_uri": "https://localhost:8080/",
          "height": 1000
        }
      },
      "source": [
        "\n",
        "history = model2.fit(train_data, train_labels_one_hot, batch_size=batch_size, epochs=epochs, verbose=1, \n",
        "                   validation_data=(test_data, test_labels_one_hot))"
      ],
      "execution_count": 0,
      "outputs": [
        {
          "output_type": "stream",
          "text": [
            "Train on 28709 samples, validate on 3589 samples\n",
            "Epoch 1/100\n",
            "28709/28709 [==============================] - 9s 302us/step - loss: 1.5054 - acc: 0.4211 - val_loss: 1.4746 - val_acc: 0.4455\n",
            "Epoch 2/100\n",
            "28709/28709 [==============================] - 8s 295us/step - loss: 1.5003 - acc: 0.4215 - val_loss: 1.5089 - val_acc: 0.4166\n",
            "Epoch 3/100\n",
            "28709/28709 [==============================] - 9s 299us/step - loss: 1.5021 - acc: 0.4244 - val_loss: 1.4702 - val_acc: 0.4394\n",
            "Epoch 4/100\n",
            "28709/28709 [==============================] - 8s 296us/step - loss: 1.4942 - acc: 0.4238 - val_loss: 1.4645 - val_acc: 0.4475\n",
            "Epoch 5/100\n",
            "28709/28709 [==============================] - 9s 299us/step - loss: 1.4924 - acc: 0.4240 - val_loss: 1.4776 - val_acc: 0.4397\n",
            "Epoch 6/100\n",
            "28709/28709 [==============================] - 9s 297us/step - loss: 1.4880 - acc: 0.4296 - val_loss: 1.4652 - val_acc: 0.4508\n",
            "Epoch 7/100\n",
            "28709/28709 [==============================] - 9s 297us/step - loss: 1.4900 - acc: 0.4265 - val_loss: 1.4524 - val_acc: 0.4556\n",
            "Epoch 8/100\n",
            "28709/28709 [==============================] - 9s 298us/step - loss: 1.4824 - acc: 0.4287 - val_loss: 1.4530 - val_acc: 0.4444\n",
            "Epoch 9/100\n",
            "28709/28709 [==============================] - 9s 298us/step - loss: 1.4810 - acc: 0.4323 - val_loss: 1.4586 - val_acc: 0.4567\n",
            "Epoch 10/100\n",
            "28709/28709 [==============================] - 9s 297us/step - loss: 1.4755 - acc: 0.4310 - val_loss: 1.4517 - val_acc: 0.4531\n",
            "Epoch 11/100\n",
            "28709/28709 [==============================] - 9s 298us/step - loss: 1.4772 - acc: 0.4336 - val_loss: 1.4481 - val_acc: 0.4642\n",
            "Epoch 12/100\n",
            "28709/28709 [==============================] - 9s 296us/step - loss: 1.4722 - acc: 0.4379 - val_loss: 1.4399 - val_acc: 0.4659\n",
            "Epoch 13/100\n",
            "28709/28709 [==============================] - 9s 298us/step - loss: 1.4687 - acc: 0.4395 - val_loss: 1.4320 - val_acc: 0.4597\n",
            "Epoch 14/100\n",
            "28709/28709 [==============================] - 9s 299us/step - loss: 1.4666 - acc: 0.4352 - val_loss: 1.4520 - val_acc: 0.4581\n",
            "Epoch 15/100\n",
            "28709/28709 [==============================] - 9s 298us/step - loss: 1.4638 - acc: 0.4370 - val_loss: 1.4305 - val_acc: 0.4695\n",
            "Epoch 16/100\n",
            "28709/28709 [==============================] - 9s 297us/step - loss: 1.4624 - acc: 0.4397 - val_loss: 1.4286 - val_acc: 0.4609\n",
            "Epoch 17/100\n",
            "28709/28709 [==============================] - 9s 298us/step - loss: 1.4571 - acc: 0.4426 - val_loss: 1.4205 - val_acc: 0.4714\n",
            "Epoch 18/100\n",
            "28709/28709 [==============================] - 9s 298us/step - loss: 1.4546 - acc: 0.4432 - val_loss: 1.4216 - val_acc: 0.4656\n",
            "Epoch 19/100\n",
            "28709/28709 [==============================] - 9s 297us/step - loss: 1.4517 - acc: 0.4451 - val_loss: 1.4231 - val_acc: 0.4597\n",
            "Epoch 20/100\n",
            "28709/28709 [==============================] - 9s 298us/step - loss: 1.4490 - acc: 0.4437 - val_loss: 1.4184 - val_acc: 0.4751\n",
            "Epoch 21/100\n",
            "28709/28709 [==============================] - 9s 298us/step - loss: 1.4462 - acc: 0.4475 - val_loss: 1.4185 - val_acc: 0.4673\n",
            "Epoch 22/100\n",
            "28709/28709 [==============================] - 9s 297us/step - loss: 1.4467 - acc: 0.4441 - val_loss: 1.4050 - val_acc: 0.4742\n",
            "Epoch 23/100\n",
            "28709/28709 [==============================] - 9s 297us/step - loss: 1.4354 - acc: 0.4538 - val_loss: 1.4444 - val_acc: 0.4447\n",
            "Epoch 24/100\n",
            "28709/28709 [==============================] - 9s 297us/step - loss: 1.4386 - acc: 0.4473 - val_loss: 1.4065 - val_acc: 0.4726\n",
            "Epoch 25/100\n",
            "28709/28709 [==============================] - 9s 297us/step - loss: 1.4339 - acc: 0.4503 - val_loss: 1.3961 - val_acc: 0.4720\n",
            "Epoch 26/100\n",
            "28709/28709 [==============================] - 9s 299us/step - loss: 1.4285 - acc: 0.4537 - val_loss: 1.3904 - val_acc: 0.4854\n",
            "Epoch 27/100\n",
            "28709/28709 [==============================] - 9s 297us/step - loss: 1.4251 - acc: 0.4537 - val_loss: 1.3974 - val_acc: 0.4787\n",
            "Epoch 28/100\n",
            "28709/28709 [==============================] - 9s 299us/step - loss: 1.4244 - acc: 0.4561 - val_loss: 1.4626 - val_acc: 0.4349\n",
            "Epoch 29/100\n",
            "28709/28709 [==============================] - 9s 298us/step - loss: 1.4272 - acc: 0.4526 - val_loss: 1.3947 - val_acc: 0.4834\n",
            "Epoch 30/100\n",
            "28709/28709 [==============================] - 9s 299us/step - loss: 1.4196 - acc: 0.4587 - val_loss: 1.3838 - val_acc: 0.4770\n",
            "Epoch 31/100\n",
            "28709/28709 [==============================] - 9s 296us/step - loss: 1.4162 - acc: 0.4582 - val_loss: 1.3775 - val_acc: 0.4909\n",
            "Epoch 32/100\n",
            "28709/28709 [==============================] - 8s 295us/step - loss: 1.4133 - acc: 0.4612 - val_loss: 1.3821 - val_acc: 0.4792\n",
            "Epoch 33/100\n",
            "28709/28709 [==============================] - 8s 295us/step - loss: 1.4086 - acc: 0.4602 - val_loss: 1.3861 - val_acc: 0.4831\n",
            "Epoch 34/100\n",
            "28709/28709 [==============================] - 8s 295us/step - loss: 1.4074 - acc: 0.4629 - val_loss: 1.3973 - val_acc: 0.4787\n",
            "Epoch 35/100\n",
            "28709/28709 [==============================] - 8s 293us/step - loss: 1.3996 - acc: 0.4678 - val_loss: 1.4792 - val_acc: 0.4227\n",
            "Epoch 36/100\n",
            "28709/28709 [==============================] - 8s 293us/step - loss: 1.3994 - acc: 0.4656 - val_loss: 1.3598 - val_acc: 0.4876\n",
            "Epoch 37/100\n",
            "28709/28709 [==============================] - 8s 296us/step - loss: 1.3972 - acc: 0.4665 - val_loss: 1.3631 - val_acc: 0.4948\n",
            "Epoch 38/100\n",
            "28709/28709 [==============================] - 9s 296us/step - loss: 1.3918 - acc: 0.4678 - val_loss: 1.3836 - val_acc: 0.4765\n",
            "Epoch 39/100\n",
            "28709/28709 [==============================] - 8s 295us/step - loss: 1.3891 - acc: 0.4703 - val_loss: 1.3579 - val_acc: 0.4935\n",
            "Epoch 40/100\n",
            "28709/28709 [==============================] - 8s 295us/step - loss: 1.3836 - acc: 0.4709 - val_loss: 1.3620 - val_acc: 0.4840\n",
            "Epoch 41/100\n",
            "28709/28709 [==============================] - 8s 293us/step - loss: 1.3858 - acc: 0.4650 - val_loss: 1.3753 - val_acc: 0.4726\n",
            "Epoch 42/100\n",
            "28709/28709 [==============================] - 8s 295us/step - loss: 1.3813 - acc: 0.4720 - val_loss: 1.3465 - val_acc: 0.4943\n",
            "Epoch 43/100\n",
            "28709/28709 [==============================] - 9s 296us/step - loss: 1.3780 - acc: 0.4749 - val_loss: 1.3563 - val_acc: 0.4882\n",
            "Epoch 44/100\n",
            "28709/28709 [==============================] - 9s 296us/step - loss: 1.3817 - acc: 0.4706 - val_loss: 1.4189 - val_acc: 0.4466\n",
            "Epoch 45/100\n",
            "28709/28709 [==============================] - 8s 295us/step - loss: 1.3715 - acc: 0.4727 - val_loss: 1.3389 - val_acc: 0.4957\n",
            "Epoch 46/100\n",
            "28709/28709 [==============================] - 9s 296us/step - loss: 1.3667 - acc: 0.4780 - val_loss: 1.3432 - val_acc: 0.4859\n",
            "Epoch 47/100\n",
            "28709/28709 [==============================] - 9s 297us/step - loss: 1.3684 - acc: 0.4766 - val_loss: 1.3435 - val_acc: 0.4929\n",
            "Epoch 48/100\n",
            "28709/28709 [==============================] - 8s 295us/step - loss: 1.3678 - acc: 0.4804 - val_loss: 1.3852 - val_acc: 0.4631\n",
            "Epoch 49/100\n",
            "28709/28709 [==============================] - 8s 294us/step - loss: 1.3639 - acc: 0.4797 - val_loss: 1.3282 - val_acc: 0.4985\n",
            "Epoch 50/100\n",
            "28709/28709 [==============================] - 9s 297us/step - loss: 1.3536 - acc: 0.4832 - val_loss: 1.3451 - val_acc: 0.4965\n",
            "Epoch 51/100\n",
            "28709/28709 [==============================] - 8s 295us/step - loss: 1.3578 - acc: 0.4789 - val_loss: 1.3380 - val_acc: 0.4884\n",
            "Epoch 52/100\n",
            "28709/28709 [==============================] - 9s 296us/step - loss: 1.3571 - acc: 0.4808 - val_loss: 1.3200 - val_acc: 0.5032\n",
            "Epoch 53/100\n",
            "28709/28709 [==============================] - 9s 297us/step - loss: 1.3499 - acc: 0.4834 - val_loss: 1.3228 - val_acc: 0.5049\n",
            "Epoch 54/100\n",
            "28709/28709 [==============================] - 9s 297us/step - loss: 1.3464 - acc: 0.4865 - val_loss: 1.3173 - val_acc: 0.5057\n",
            "Epoch 55/100\n",
            "28709/28709 [==============================] - 8s 294us/step - loss: 1.3446 - acc: 0.4893 - val_loss: 1.3167 - val_acc: 0.4987\n",
            "Epoch 56/100\n",
            "28709/28709 [==============================] - 9s 296us/step - loss: 1.3457 - acc: 0.4881 - val_loss: 1.3583 - val_acc: 0.4918\n",
            "Epoch 57/100\n",
            "28709/28709 [==============================] - 9s 296us/step - loss: 1.3408 - acc: 0.4896 - val_loss: 1.3240 - val_acc: 0.5032\n",
            "Epoch 58/100\n",
            "28709/28709 [==============================] - 9s 296us/step - loss: 1.3392 - acc: 0.4888 - val_loss: 1.3210 - val_acc: 0.5057\n",
            "Epoch 59/100\n",
            "28709/28709 [==============================] - 9s 297us/step - loss: 1.3324 - acc: 0.4954 - val_loss: 1.3121 - val_acc: 0.5015\n",
            "Epoch 60/100\n",
            "28709/28709 [==============================] - 9s 297us/step - loss: 1.3357 - acc: 0.4918 - val_loss: 1.3160 - val_acc: 0.5054\n",
            "Epoch 61/100\n",
            "28709/28709 [==============================] - 8s 295us/step - loss: 1.3313 - acc: 0.4935 - val_loss: 1.3025 - val_acc: 0.5060\n",
            "Epoch 62/100\n",
            "28709/28709 [==============================] - 8s 295us/step - loss: 1.3298 - acc: 0.4920 - val_loss: 1.3015 - val_acc: 0.5082\n",
            "Epoch 63/100\n",
            "28709/28709 [==============================] - 8s 294us/step - loss: 1.3284 - acc: 0.4950 - val_loss: 1.3096 - val_acc: 0.4976\n",
            "Epoch 64/100\n",
            "28709/28709 [==============================] - 8s 294us/step - loss: 1.3240 - acc: 0.4915 - val_loss: 1.2998 - val_acc: 0.5082\n",
            "Epoch 65/100\n",
            "28709/28709 [==============================] - 9s 298us/step - loss: 1.3217 - acc: 0.4964 - val_loss: 1.2932 - val_acc: 0.5113\n",
            "Epoch 66/100\n",
            "28709/28709 [==============================] - 9s 297us/step - loss: 1.3216 - acc: 0.4948 - val_loss: 1.2949 - val_acc: 0.5082\n",
            "Epoch 67/100\n",
            "28709/28709 [==============================] - 9s 296us/step - loss: 1.3149 - acc: 0.4964 - val_loss: 1.2870 - val_acc: 0.5130\n",
            "Epoch 68/100\n",
            "28709/28709 [==============================] - 8s 295us/step - loss: 1.3153 - acc: 0.4959 - val_loss: 1.2942 - val_acc: 0.5102\n",
            "Epoch 69/100\n",
            "28709/28709 [==============================] - 8s 295us/step - loss: 1.3146 - acc: 0.4976 - val_loss: 1.2867 - val_acc: 0.5104\n",
            "Epoch 70/100\n",
            "28709/28709 [==============================] - 9s 297us/step - loss: 1.3100 - acc: 0.4990 - val_loss: 1.2869 - val_acc: 0.5141\n",
            "Epoch 71/100\n",
            "28709/28709 [==============================] - 8s 296us/step - loss: 1.3093 - acc: 0.5035 - val_loss: 1.2920 - val_acc: 0.5093\n",
            "Epoch 72/100\n",
            "28709/28709 [==============================] - 8s 296us/step - loss: 1.3072 - acc: 0.5047 - val_loss: 1.2883 - val_acc: 0.5054\n",
            "Epoch 73/100\n",
            "28709/28709 [==============================] - 8s 296us/step - loss: 1.3034 - acc: 0.5012 - val_loss: 1.2762 - val_acc: 0.5157\n",
            "Epoch 74/100\n",
            "28709/28709 [==============================] - 9s 297us/step - loss: 1.3004 - acc: 0.5027 - val_loss: 1.2751 - val_acc: 0.5185\n",
            "Epoch 75/100\n",
            "28709/28709 [==============================] - 8s 296us/step - loss: 1.2950 - acc: 0.5069 - val_loss: 1.2713 - val_acc: 0.5149\n",
            "Epoch 76/100\n",
            "28709/28709 [==============================] - 8s 295us/step - loss: 1.2953 - acc: 0.5045 - val_loss: 1.3091 - val_acc: 0.5024\n",
            "Epoch 77/100\n",
            "28709/28709 [==============================] - 8s 296us/step - loss: 1.2924 - acc: 0.5075 - val_loss: 1.2826 - val_acc: 0.5194\n",
            "Epoch 78/100\n",
            "28709/28709 [==============================] - 8s 295us/step - loss: 1.2908 - acc: 0.5081 - val_loss: 1.3106 - val_acc: 0.5096\n",
            "Epoch 79/100\n",
            "28709/28709 [==============================] - 8s 294us/step - loss: 1.2893 - acc: 0.5079 - val_loss: 1.2665 - val_acc: 0.5213\n",
            "Epoch 80/100\n",
            "28709/28709 [==============================] - 9s 297us/step - loss: 1.2850 - acc: 0.5096 - val_loss: 1.2726 - val_acc: 0.5096\n",
            "Epoch 81/100\n",
            "28709/28709 [==============================] - 8s 296us/step - loss: 1.2877 - acc: 0.5087 - val_loss: 1.2719 - val_acc: 0.5085\n",
            "Epoch 82/100\n",
            "28709/28709 [==============================] - 8s 295us/step - loss: 1.2820 - acc: 0.5110 - val_loss: 1.2634 - val_acc: 0.5155\n",
            "Epoch 83/100\n",
            "28709/28709 [==============================] - 9s 296us/step - loss: 1.2803 - acc: 0.5104 - val_loss: 1.2673 - val_acc: 0.5213\n",
            "Epoch 84/100\n",
            "28709/28709 [==============================] - 8s 296us/step - loss: 1.2798 - acc: 0.5117 - val_loss: 1.2774 - val_acc: 0.5196\n",
            "Epoch 85/100\n",
            "28709/28709 [==============================] - 9s 297us/step - loss: 1.2747 - acc: 0.5147 - val_loss: 1.2597 - val_acc: 0.5230\n",
            "Epoch 86/100\n",
            "28709/28709 [==============================] - 8s 293us/step - loss: 1.2777 - acc: 0.5107 - val_loss: 1.2575 - val_acc: 0.5202\n",
            "Epoch 87/100\n",
            "28709/28709 [==============================] - 9s 297us/step - loss: 1.2724 - acc: 0.5164 - val_loss: 1.2581 - val_acc: 0.5277\n",
            "Epoch 88/100\n",
            "28709/28709 [==============================] - 9s 296us/step - loss: 1.2686 - acc: 0.5184 - val_loss: 1.2499 - val_acc: 0.5227\n",
            "Epoch 89/100\n",
            "28709/28709 [==============================] - 8s 296us/step - loss: 1.2701 - acc: 0.5152 - val_loss: 1.2489 - val_acc: 0.5227\n",
            "Epoch 90/100\n",
            "28709/28709 [==============================] - 8s 294us/step - loss: 1.2658 - acc: 0.5186 - val_loss: 1.2471 - val_acc: 0.5255\n",
            "Epoch 91/100\n",
            "28709/28709 [==============================] - 9s 297us/step - loss: 1.2652 - acc: 0.5147 - val_loss: 1.2550 - val_acc: 0.5263\n",
            "Epoch 92/100\n",
            "28709/28709 [==============================] - 9s 296us/step - loss: 1.2620 - acc: 0.5193 - val_loss: 1.2506 - val_acc: 0.5288\n",
            "Epoch 93/100\n",
            "28709/28709 [==============================] - 8s 292us/step - loss: 1.2614 - acc: 0.5204 - val_loss: 1.2531 - val_acc: 0.5249\n",
            "Epoch 94/100\n",
            "28709/28709 [==============================] - 9s 298us/step - loss: 1.2534 - acc: 0.5221 - val_loss: 1.2760 - val_acc: 0.5213\n",
            "Epoch 95/100\n",
            "28709/28709 [==============================] - 9s 297us/step - loss: 1.2525 - acc: 0.5235 - val_loss: 1.2754 - val_acc: 0.5222\n",
            "Epoch 96/100\n",
            "28709/28709 [==============================] - 9s 297us/step - loss: 1.2514 - acc: 0.5257 - val_loss: 1.2470 - val_acc: 0.5213\n",
            "Epoch 97/100\n",
            "28709/28709 [==============================] - 9s 297us/step - loss: 1.2511 - acc: 0.5240 - val_loss: 1.2363 - val_acc: 0.5311\n",
            "Epoch 98/100\n",
            "28709/28709 [==============================] - 9s 297us/step - loss: 1.2502 - acc: 0.5284 - val_loss: 1.2494 - val_acc: 0.5252\n",
            "Epoch 99/100\n",
            "28709/28709 [==============================] - 8s 296us/step - loss: 1.2518 - acc: 0.5214 - val_loss: 1.2371 - val_acc: 0.5294\n",
            "Epoch 100/100\n",
            "28709/28709 [==============================] - 9s 298us/step - loss: 1.2448 - acc: 0.5268 - val_loss: 1.2315 - val_acc: 0.5294\n"
          ],
          "name": "stdout"
        }
      ]
    },
    {
      "cell_type": "code",
      "metadata": {
        "id": "77TBP5g4KLM-",
        "colab_type": "code",
        "outputId": "9c762f09-d991-46a2-a857-7aa563106c25",
        "colab": {
          "base_uri": "https://localhost:8080/",
          "height": 34
        }
      },
      "source": [
        "\n",
        "los2,acc2=model2.evaluate(test_data, test_labels_one_hot)"
      ],
      "execution_count": 0,
      "outputs": [
        {
          "output_type": "stream",
          "text": [
            "3589/3589 [==============================] - 1s 223us/step\n"
          ],
          "name": "stdout"
        }
      ]
    },
    {
      "cell_type": "code",
      "metadata": {
        "id": "WEjMlufjS586",
        "colab_type": "code",
        "outputId": "c646aa7b-3159-41e9-cecf-ffe1d2f0f62d",
        "colab": {
          "base_uri": "https://localhost:8080/",
          "height": 295
        }
      },
      "source": [
        "loss_curves(history)"
      ],
      "execution_count": 0,
      "outputs": [
        {
          "output_type": "display_data",
          "data": {
            "image/png": "[encoded data removed]",
            "text/plain": [
              "<Figure size 432x288 with 1 Axes>"
            ]
          },
          "metadata": {
            "tags": []
          }
        }
      ]
    },
    {
      "cell_type": "markdown",
      "metadata": {
        "id": "hldZUZjNLL1c",
        "colab_type": "text"
      },
      "source": [
        "# Model 3 Using Adam"
      ]
    },
    {
      "cell_type": "code",
      "metadata": {
        "id": "SGTjfJXRKP-6",
        "colab_type": "code",
        "outputId": "57c90a07-e4ba-4c44-ad78-8597f5d13bd9",
        "colab": {
          "base_uri": "https://localhost:8080/",
          "height": 650
        }
      },
      "source": [
        "\n",
        "model3 = createModel()\n",
        "batch_size = 256\n",
        "epochs = 100\n",
        "model3.compile(optimizer='adam', loss='categorical_crossentropy', metrics=['accuracy'])\n",
        "\n",
        "model3.summary()"
      ],
      "execution_count": 0,
      "outputs": [
        {
          "output_type": "stream",
          "text": [
            "Model: \"sequential_8\"\n",
            "_________________________________________________________________\n",
            "Layer (type)                 Output Shape              Param #   \n",
            "=================================================================\n",
            "conv2d_29 (Conv2D)           (None, 48, 48, 32)        320       \n",
            "_________________________________________________________________\n",
            "conv2d_30 (Conv2D)           (None, 46, 46, 32)        9248      \n",
            "_________________________________________________________________\n",
            "max_pooling2d_22 (MaxPooling (None, 23, 23, 32)        0         \n",
            "_________________________________________________________________\n",
            "dropout_29 (Dropout)         (None, 23, 23, 32)        0         \n",
            "_________________________________________________________________\n",
            "conv2d_31 (Conv2D)           (None, 23, 23, 64)        18496     \n",
            "_________________________________________________________________\n",
            "max_pooling2d_23 (MaxPooling (None, 11, 11, 64)        0         \n",
            "_________________________________________________________________\n",
            "dropout_30 (Dropout)         (None, 11, 11, 64)        0         \n",
            "_________________________________________________________________\n",
            "conv2d_32 (Conv2D)           (None, 11, 11, 128)       73856     \n",
            "_________________________________________________________________\n",
            "max_pooling2d_24 (MaxPooling (None, 5, 5, 128)         0         \n",
            "_________________________________________________________________\n",
            "dropout_31 (Dropout)         (None, 5, 5, 128)         0         \n",
            "_________________________________________________________________\n",
            "flatten_8 (Flatten)          (None, 3200)              0         \n",
            "_________________________________________________________________\n",
            "dense_15 (Dense)             (None, 512)               1638912   \n",
            "_________________________________________________________________\n",
            "dropout_32 (Dropout)         (None, 512)               0         \n",
            "_________________________________________________________________\n",
            "dense_16 (Dense)             (None, 7)                 3591      \n",
            "=================================================================\n",
            "Total params: 1,744,423\n",
            "Trainable params: 1,744,423\n",
            "Non-trainable params: 0\n",
            "_________________________________________________________________\n"
          ],
          "name": "stdout"
        }
      ]
    },
    {
      "cell_type": "code",
      "metadata": {
        "id": "iJdWVEt_KQSj",
        "colab_type": "code",
        "outputId": "8ea2d2bd-e3b2-4b40-cb05-d85d17db6853",
        "colab": {
          "base_uri": "https://localhost:8080/",
          "height": 1000
        }
      },
      "source": [
        "\n",
        "history = model3.fit(train_data, train_labels_one_hot, batch_size=batch_size, epochs=epochs, verbose=1, \n",
        "                   validation_data=(test_data, test_labels_one_hot))"
      ],
      "execution_count": 0,
      "outputs": [
        {
          "output_type": "stream",
          "text": [
            "Train on 28709 samples, validate on 3589 samples\n",
            "Epoch 1/100\n",
            "28709/28709 [==============================] - 10s 362us/step - loss: 1.7949 - acc: 0.2577 - val_loss: 1.7127 - val_acc: 0.3277\n",
            "Epoch 2/100\n",
            "28709/28709 [==============================] - 9s 311us/step - loss: 1.6072 - acc: 0.3735 - val_loss: 1.4883 - val_acc: 0.4263\n",
            "Epoch 3/100\n",
            "28709/28709 [==============================] - 9s 311us/step - loss: 1.4648 - acc: 0.4392 - val_loss: 1.3887 - val_acc: 0.4734\n",
            "Epoch 4/100\n",
            "28709/28709 [==============================] - 9s 311us/step - loss: 1.3679 - acc: 0.4771 - val_loss: 1.2878 - val_acc: 0.5174\n",
            "Epoch 5/100\n",
            "28709/28709 [==============================] - 9s 313us/step - loss: 1.2954 - acc: 0.5064 - val_loss: 1.2338 - val_acc: 0.5235\n",
            "Epoch 6/100\n",
            "28709/28709 [==============================] - 9s 313us/step - loss: 1.2398 - acc: 0.5301 - val_loss: 1.2028 - val_acc: 0.5442\n",
            "Epoch 7/100\n",
            "28709/28709 [==============================] - 9s 311us/step - loss: 1.1955 - acc: 0.5497 - val_loss: 1.1702 - val_acc: 0.5561\n",
            "Epoch 8/100\n",
            "28709/28709 [==============================] - 9s 312us/step - loss: 1.1574 - acc: 0.5632 - val_loss: 1.1513 - val_acc: 0.5637\n",
            "Epoch 9/100\n",
            "28709/28709 [==============================] - 9s 313us/step - loss: 1.1147 - acc: 0.5797 - val_loss: 1.1460 - val_acc: 0.5651\n",
            "Epoch 10/100\n",
            "28709/28709 [==============================] - 9s 311us/step - loss: 1.0803 - acc: 0.5969 - val_loss: 1.1366 - val_acc: 0.5704\n",
            "Epoch 11/100\n",
            "28709/28709 [==============================] - 9s 312us/step - loss: 1.0511 - acc: 0.6055 - val_loss: 1.1050 - val_acc: 0.5790\n",
            "Epoch 12/100\n",
            "28709/28709 [==============================] - 9s 312us/step - loss: 1.0135 - acc: 0.6199 - val_loss: 1.0998 - val_acc: 0.5896\n",
            "Epoch 13/100\n",
            "28709/28709 [==============================] - 9s 311us/step - loss: 0.9799 - acc: 0.6322 - val_loss: 1.0876 - val_acc: 0.5935\n",
            "Epoch 14/100\n",
            "28709/28709 [==============================] - 9s 313us/step - loss: 0.9610 - acc: 0.6414 - val_loss: 1.0894 - val_acc: 0.5904\n",
            "Epoch 15/100\n",
            "28709/28709 [==============================] - 9s 312us/step - loss: 0.9265 - acc: 0.6533 - val_loss: 1.0781 - val_acc: 0.5979\n",
            "Epoch 16/100\n",
            "28709/28709 [==============================] - 9s 311us/step - loss: 0.8964 - acc: 0.6660 - val_loss: 1.0699 - val_acc: 0.6024\n",
            "Epoch 17/100\n",
            "28709/28709 [==============================] - 9s 311us/step - loss: 0.8692 - acc: 0.6749 - val_loss: 1.0752 - val_acc: 0.5988\n",
            "Epoch 18/100\n",
            "28709/28709 [==============================] - 9s 312us/step - loss: 0.8364 - acc: 0.6898 - val_loss: 1.0696 - val_acc: 0.6091\n",
            "Epoch 19/100\n",
            "28709/28709 [==============================] - 9s 311us/step - loss: 0.8119 - acc: 0.7017 - val_loss: 1.0718 - val_acc: 0.6041\n",
            "Epoch 20/100\n",
            "28709/28709 [==============================] - 9s 311us/step - loss: 0.7908 - acc: 0.7031 - val_loss: 1.0781 - val_acc: 0.6038\n",
            "Epoch 21/100\n",
            "28709/28709 [==============================] - 9s 311us/step - loss: 0.7609 - acc: 0.7160 - val_loss: 1.0873 - val_acc: 0.6094\n",
            "Epoch 22/100\n",
            "28709/28709 [==============================] - 9s 314us/step - loss: 0.7383 - acc: 0.7267 - val_loss: 1.1029 - val_acc: 0.6052\n",
            "Epoch 23/100\n",
            "28709/28709 [==============================] - 9s 311us/step - loss: 0.7124 - acc: 0.7347 - val_loss: 1.0926 - val_acc: 0.6149\n",
            "Epoch 24/100\n",
            "28709/28709 [==============================] - 9s 312us/step - loss: 0.7019 - acc: 0.7399 - val_loss: 1.1138 - val_acc: 0.6052\n",
            "Epoch 25/100\n",
            "28709/28709 [==============================] - 9s 312us/step - loss: 0.6813 - acc: 0.7465 - val_loss: 1.1232 - val_acc: 0.6113\n",
            "Epoch 26/100\n",
            "28709/28709 [==============================] - 9s 312us/step - loss: 0.6546 - acc: 0.7552 - val_loss: 1.1239 - val_acc: 0.6152\n",
            "Epoch 27/100\n",
            "28709/28709 [==============================] - 9s 312us/step - loss: 0.6362 - acc: 0.7635 - val_loss: 1.1248 - val_acc: 0.6141\n",
            "Epoch 28/100\n",
            "28709/28709 [==============================] - 9s 312us/step - loss: 0.6188 - acc: 0.7716 - val_loss: 1.1424 - val_acc: 0.6149\n",
            "Epoch 29/100\n",
            "28709/28709 [==============================] - 9s 310us/step - loss: 0.6009 - acc: 0.7766 - val_loss: 1.1507 - val_acc: 0.6169\n",
            "Epoch 30/100\n",
            "28709/28709 [==============================] - 9s 312us/step - loss: 0.5959 - acc: 0.7807 - val_loss: 1.1601 - val_acc: 0.6160\n",
            "Epoch 31/100\n",
            "28709/28709 [==============================] - 9s 313us/step - loss: 0.5812 - acc: 0.7868 - val_loss: 1.1752 - val_acc: 0.6127\n",
            "Epoch 32/100\n",
            "28709/28709 [==============================] - 9s 313us/step - loss: 0.5593 - acc: 0.7969 - val_loss: 1.1738 - val_acc: 0.6094\n",
            "Epoch 33/100\n",
            "28709/28709 [==============================] - 9s 313us/step - loss: 0.5515 - acc: 0.7968 - val_loss: 1.1631 - val_acc: 0.6177\n",
            "Epoch 34/100\n",
            "28709/28709 [==============================] - 9s 312us/step - loss: 0.5334 - acc: 0.8037 - val_loss: 1.2021 - val_acc: 0.6188\n",
            "Epoch 35/100\n",
            "28709/28709 [==============================] - 9s 311us/step - loss: 0.5194 - acc: 0.8097 - val_loss: 1.2172 - val_acc: 0.6096\n",
            "Epoch 36/100\n",
            "28709/28709 [==============================] - 9s 312us/step - loss: 0.5119 - acc: 0.8123 - val_loss: 1.2069 - val_acc: 0.6110\n",
            "Epoch 37/100\n",
            "28709/28709 [==============================] - 9s 314us/step - loss: 0.5084 - acc: 0.8129 - val_loss: 1.2076 - val_acc: 0.6160\n",
            "Epoch 38/100\n",
            "28709/28709 [==============================] - 9s 312us/step - loss: 0.4945 - acc: 0.8194 - val_loss: 1.2389 - val_acc: 0.6105\n",
            "Epoch 39/100\n",
            "28709/28709 [==============================] - 9s 312us/step - loss: 0.4801 - acc: 0.8206 - val_loss: 1.2378 - val_acc: 0.6169\n",
            "Epoch 40/100\n",
            "28709/28709 [==============================] - 9s 315us/step - loss: 0.4809 - acc: 0.8235 - val_loss: 1.2434 - val_acc: 0.6172\n",
            "Epoch 41/100\n",
            "28709/28709 [==============================] - 9s 312us/step - loss: 0.4707 - acc: 0.8270 - val_loss: 1.2389 - val_acc: 0.6191\n",
            "Epoch 42/100\n",
            "28709/28709 [==============================] - 9s 312us/step - loss: 0.4676 - acc: 0.8286 - val_loss: 1.2707 - val_acc: 0.6147\n",
            "Epoch 43/100\n",
            "28709/28709 [==============================] - 9s 312us/step - loss: 0.4538 - acc: 0.8343 - val_loss: 1.2759 - val_acc: 0.6144\n",
            "Epoch 44/100\n",
            "28709/28709 [==============================] - 9s 313us/step - loss: 0.4472 - acc: 0.8370 - val_loss: 1.2571 - val_acc: 0.6149\n",
            "Epoch 45/100\n",
            "28709/28709 [==============================] - 9s 313us/step - loss: 0.4392 - acc: 0.8413 - val_loss: 1.2931 - val_acc: 0.6116\n",
            "Epoch 46/100\n",
            "28709/28709 [==============================] - 9s 313us/step - loss: 0.4304 - acc: 0.8427 - val_loss: 1.2893 - val_acc: 0.6160\n",
            "Epoch 47/100\n",
            "28709/28709 [==============================] - 9s 311us/step - loss: 0.4219 - acc: 0.8464 - val_loss: 1.2918 - val_acc: 0.6191\n",
            "Epoch 48/100\n",
            "28709/28709 [==============================] - 9s 312us/step - loss: 0.4194 - acc: 0.8467 - val_loss: 1.3018 - val_acc: 0.6127\n",
            "Epoch 49/100\n",
            "28709/28709 [==============================] - 9s 309us/step - loss: 0.4052 - acc: 0.8515 - val_loss: 1.2695 - val_acc: 0.6105\n",
            "Epoch 50/100\n",
            "28709/28709 [==============================] - 9s 311us/step - loss: 0.4037 - acc: 0.8536 - val_loss: 1.2760 - val_acc: 0.6149\n",
            "Epoch 51/100\n",
            "28709/28709 [==============================] - 9s 311us/step - loss: 0.4038 - acc: 0.8531 - val_loss: 1.2887 - val_acc: 0.6186\n",
            "Epoch 52/100\n",
            "28709/28709 [==============================] - 9s 310us/step - loss: 0.3876 - acc: 0.8595 - val_loss: 1.3137 - val_acc: 0.6177\n",
            "Epoch 53/100\n",
            "28709/28709 [==============================] - 9s 312us/step - loss: 0.3897 - acc: 0.8574 - val_loss: 1.3382 - val_acc: 0.6127\n",
            "Epoch 54/100\n",
            "28709/28709 [==============================] - 9s 311us/step - loss: 0.3749 - acc: 0.8646 - val_loss: 1.3414 - val_acc: 0.6174\n",
            "Epoch 55/100\n",
            "28709/28709 [==============================] - 9s 311us/step - loss: 0.3800 - acc: 0.8640 - val_loss: 1.3219 - val_acc: 0.6147\n",
            "Epoch 56/100\n",
            "28709/28709 [==============================] - 9s 311us/step - loss: 0.3759 - acc: 0.8640 - val_loss: 1.3236 - val_acc: 0.6130\n",
            "Epoch 57/100\n",
            "28709/28709 [==============================] - 9s 311us/step - loss: 0.3750 - acc: 0.8639 - val_loss: 1.3541 - val_acc: 0.6121\n",
            "Epoch 58/100\n",
            "28709/28709 [==============================] - 9s 312us/step - loss: 0.3707 - acc: 0.8661 - val_loss: 1.3478 - val_acc: 0.6080\n",
            "Epoch 59/100\n",
            "28709/28709 [==============================] - 9s 312us/step - loss: 0.3585 - acc: 0.8697 - val_loss: 1.3827 - val_acc: 0.6174\n",
            "Epoch 60/100\n",
            "28709/28709 [==============================] - 9s 312us/step - loss: 0.3612 - acc: 0.8696 - val_loss: 1.3489 - val_acc: 0.6180\n",
            "Epoch 61/100\n",
            "28709/28709 [==============================] - 9s 314us/step - loss: 0.3590 - acc: 0.8693 - val_loss: 1.3444 - val_acc: 0.6121\n",
            "Epoch 62/100\n",
            "28709/28709 [==============================] - 9s 313us/step - loss: 0.3518 - acc: 0.8747 - val_loss: 1.3697 - val_acc: 0.6138\n",
            "Epoch 63/100\n",
            "28709/28709 [==============================] - 9s 314us/step - loss: 0.3538 - acc: 0.8715 - val_loss: 1.3309 - val_acc: 0.6155\n",
            "Epoch 64/100\n",
            "28709/28709 [==============================] - 9s 313us/step - loss: 0.3512 - acc: 0.8717 - val_loss: 1.3755 - val_acc: 0.6155\n",
            "Epoch 65/100\n",
            "28709/28709 [==============================] - 9s 312us/step - loss: 0.3335 - acc: 0.8797 - val_loss: 1.4043 - val_acc: 0.6096\n",
            "Epoch 66/100\n",
            "28709/28709 [==============================] - 9s 313us/step - loss: 0.3314 - acc: 0.8804 - val_loss: 1.3367 - val_acc: 0.6197\n",
            "Epoch 67/100\n",
            "28709/28709 [==============================] - 9s 310us/step - loss: 0.3310 - acc: 0.8789 - val_loss: 1.3902 - val_acc: 0.6110\n",
            "Epoch 68/100\n",
            "28709/28709 [==============================] - 9s 310us/step - loss: 0.3328 - acc: 0.8803 - val_loss: 1.3754 - val_acc: 0.6144\n",
            "Epoch 69/100\n",
            "28709/28709 [==============================] - 9s 312us/step - loss: 0.3340 - acc: 0.8793 - val_loss: 1.3634 - val_acc: 0.6199\n",
            "Epoch 70/100\n",
            "28709/28709 [==============================] - 9s 313us/step - loss: 0.3250 - acc: 0.8817 - val_loss: 1.4173 - val_acc: 0.6230\n",
            "Epoch 71/100\n",
            "28709/28709 [==============================] - 9s 312us/step - loss: 0.3285 - acc: 0.8833 - val_loss: 1.4195 - val_acc: 0.6105\n",
            "Epoch 72/100\n",
            "28709/28709 [==============================] - 9s 312us/step - loss: 0.3225 - acc: 0.8831 - val_loss: 1.3581 - val_acc: 0.6133\n",
            "Epoch 73/100\n",
            "28709/28709 [==============================] - 9s 310us/step - loss: 0.3199 - acc: 0.8863 - val_loss: 1.3879 - val_acc: 0.6152\n",
            "Epoch 74/100\n",
            "28709/28709 [==============================] - 9s 313us/step - loss: 0.3048 - acc: 0.8897 - val_loss: 1.4207 - val_acc: 0.6085\n",
            "Epoch 75/100\n",
            "28709/28709 [==============================] - 9s 312us/step - loss: 0.3154 - acc: 0.8850 - val_loss: 1.4294 - val_acc: 0.6113\n",
            "Epoch 76/100\n",
            "28709/28709 [==============================] - 9s 310us/step - loss: 0.3095 - acc: 0.8886 - val_loss: 1.4133 - val_acc: 0.6124\n",
            "Epoch 77/100\n",
            "28709/28709 [==============================] - 9s 313us/step - loss: 0.3053 - acc: 0.8899 - val_loss: 1.4464 - val_acc: 0.6166\n",
            "Epoch 78/100\n",
            "28709/28709 [==============================] - 9s 312us/step - loss: 0.3027 - acc: 0.8910 - val_loss: 1.4045 - val_acc: 0.6174\n",
            "Epoch 79/100\n",
            "28709/28709 [==============================] - 9s 311us/step - loss: 0.3082 - acc: 0.8885 - val_loss: 1.4007 - val_acc: 0.6071\n",
            "Epoch 80/100\n",
            "28709/28709 [==============================] - 9s 313us/step - loss: 0.2976 - acc: 0.8944 - val_loss: 1.4072 - val_acc: 0.6085\n",
            "Epoch 81/100\n",
            "28709/28709 [==============================] - 9s 312us/step - loss: 0.3017 - acc: 0.8922 - val_loss: 1.4351 - val_acc: 0.6105\n",
            "Epoch 82/100\n",
            "28709/28709 [==============================] - 9s 311us/step - loss: 0.2886 - acc: 0.8940 - val_loss: 1.4279 - val_acc: 0.6121\n",
            "Epoch 83/100\n",
            "28709/28709 [==============================] - 9s 311us/step - loss: 0.2952 - acc: 0.8947 - val_loss: 1.4490 - val_acc: 0.6160\n",
            "Epoch 84/100\n",
            "28709/28709 [==============================] - 9s 309us/step - loss: 0.2861 - acc: 0.8983 - val_loss: 1.4429 - val_acc: 0.6082\n",
            "Epoch 85/100\n",
            "28709/28709 [==============================] - 9s 312us/step - loss: 0.2854 - acc: 0.8979 - val_loss: 1.4669 - val_acc: 0.6133\n",
            "Epoch 86/100\n",
            "28709/28709 [==============================] - 9s 312us/step - loss: 0.2864 - acc: 0.8971 - val_loss: 1.4769 - val_acc: 0.6141\n",
            "Epoch 87/100\n",
            "28709/28709 [==============================] - 9s 310us/step - loss: 0.2836 - acc: 0.8974 - val_loss: 1.4725 - val_acc: 0.6174\n",
            "Epoch 88/100\n",
            "28709/28709 [==============================] - 9s 312us/step - loss: 0.2893 - acc: 0.8966 - val_loss: 1.4790 - val_acc: 0.6152\n",
            "Epoch 89/100\n",
            "28709/28709 [==============================] - 9s 312us/step - loss: 0.2855 - acc: 0.8964 - val_loss: 1.5031 - val_acc: 0.6174\n",
            "Epoch 90/100\n",
            "28709/28709 [==============================] - 9s 312us/step - loss: 0.2770 - acc: 0.9008 - val_loss: 1.4870 - val_acc: 0.6183\n",
            "Epoch 91/100\n",
            "28709/28709 [==============================] - 9s 310us/step - loss: 0.2848 - acc: 0.8972 - val_loss: 1.4671 - val_acc: 0.6110\n",
            "Epoch 92/100\n",
            "28709/28709 [==============================] - 9s 312us/step - loss: 0.2720 - acc: 0.9013 - val_loss: 1.4515 - val_acc: 0.6116\n",
            "Epoch 93/100\n",
            "28709/28709 [==============================] - 9s 311us/step - loss: 0.2704 - acc: 0.9029 - val_loss: 1.4654 - val_acc: 0.6160\n",
            "Epoch 94/100\n",
            "28709/28709 [==============================] - 9s 312us/step - loss: 0.2699 - acc: 0.9039 - val_loss: 1.4665 - val_acc: 0.6144\n",
            "Epoch 95/100\n",
            "28709/28709 [==============================] - 9s 312us/step - loss: 0.2679 - acc: 0.9039 - val_loss: 1.4406 - val_acc: 0.6121\n",
            "Epoch 96/100\n",
            "28709/28709 [==============================] - 9s 313us/step - loss: 0.2715 - acc: 0.9044 - val_loss: 1.4145 - val_acc: 0.6074\n",
            "Epoch 97/100\n",
            "28709/28709 [==============================] - 9s 312us/step - loss: 0.2667 - acc: 0.9060 - val_loss: 1.4624 - val_acc: 0.6152\n",
            "Epoch 98/100\n",
            "28709/28709 [==============================] - 9s 311us/step - loss: 0.2670 - acc: 0.9041 - val_loss: 1.4951 - val_acc: 0.6135\n",
            "Epoch 99/100\n",
            "28709/28709 [==============================] - 9s 313us/step - loss: 0.2671 - acc: 0.9048 - val_loss: 1.4404 - val_acc: 0.6188\n",
            "Epoch 100/100\n",
            "28709/28709 [==============================] - 9s 312us/step - loss: 0.2583 - acc: 0.9081 - val_loss: 1.4840 - val_acc: 0.6163\n"
          ],
          "name": "stdout"
        }
      ]
    },
    {
      "cell_type": "code",
      "metadata": {
        "id": "i-dzwHQXKQVj",
        "colab_type": "code",
        "outputId": "495131ec-bdbd-4350-9d2d-2158cdb0d292",
        "colab": {
          "base_uri": "https://localhost:8080/",
          "height": 34
        }
      },
      "source": [
        "los3,acc3=model3.evaluate(test_data, test_labels_one_hot)"
      ],
      "execution_count": 0,
      "outputs": [
        {
          "output_type": "stream",
          "text": [
            "3589/3589 [==============================] - 1s 167us/step\n"
          ],
          "name": "stdout"
        }
      ]
    },
    {
      "cell_type": "code",
      "metadata": {
        "id": "4JEtHLyfLZQB",
        "colab_type": "code",
        "outputId": "179f9911-61f3-48f9-ff2f-e8ba9aaf2a60",
        "colab": {
          "base_uri": "https://localhost:8080/",
          "height": 295
        }
      },
      "source": [
        "loss_curves(history)  "
      ],
      "execution_count": 0,
      "outputs": [
        {
          "output_type": "display_data",
          "data": {
            "image/png": "[encoded data removed]",
            "text/plain": [
              "<Figure size 432x288 with 1 Axes>"
            ]
          },
          "metadata": {
            "tags": []
          }
        }
      ]
    },
    {
      "cell_type": "markdown",
      "metadata": {
        "id": "7zp1BP1H1bJV",
        "colab_type": "text"
      },
      "source": [
        ""
      ]
    },
    {
      "cell_type": "markdown",
      "metadata": {
        "id": "kXHoTqPdiAhN",
        "colab_type": "text"
      },
      "source": [
        "#Model 4 for adagrad"
      ]
    },
    {
      "cell_type": "code",
      "metadata": {
        "id": "z5gmg6OLKQbr",
        "colab_type": "code",
        "outputId": "3b1c7250-22ba-47ba-add3-9f3da0aa62e2",
        "colab": {
          "base_uri": "https://localhost:8080/",
          "height": 650
        }
      },
      "source": [
        "\n",
        "model4 = createModel()\n",
        "batch_size = 256\n",
        "epochs = 100\n",
        "model4.compile(optimizer='adagrad', loss='categorical_crossentropy', metrics=['accuracy'])\n",
        "\n",
        "model4.summary()"
      ],
      "execution_count": 0,
      "outputs": [
        {
          "output_type": "stream",
          "text": [
            "Model: \"sequential_9\"\n",
            "_________________________________________________________________\n",
            "Layer (type)                 Output Shape              Param #   \n",
            "=================================================================\n",
            "conv2d_33 (Conv2D)           (None, 48, 48, 32)        320       \n",
            "_________________________________________________________________\n",
            "conv2d_34 (Conv2D)           (None, 46, 46, 32)        9248      \n",
            "_________________________________________________________________\n",
            "max_pooling2d_25 (MaxPooling (None, 23, 23, 32)        0         \n",
            "_________________________________________________________________\n",
            "dropout_33 (Dropout)         (None, 23, 23, 32)        0         \n",
            "_________________________________________________________________\n",
            "conv2d_35 (Conv2D)           (None, 23, 23, 64)        18496     \n",
            "_________________________________________________________________\n",
            "max_pooling2d_26 (MaxPooling (None, 11, 11, 64)        0         \n",
            "_________________________________________________________________\n",
            "dropout_34 (Dropout)         (None, 11, 11, 64)        0         \n",
            "_________________________________________________________________\n",
            "conv2d_36 (Conv2D)           (None, 11, 11, 128)       73856     \n",
            "_________________________________________________________________\n",
            "max_pooling2d_27 (MaxPooling (None, 5, 5, 128)         0         \n",
            "_________________________________________________________________\n",
            "dropout_35 (Dropout)         (None, 5, 5, 128)         0         \n",
            "_________________________________________________________________\n",
            "flatten_9 (Flatten)          (None, 3200)              0         \n",
            "_________________________________________________________________\n",
            "dense_17 (Dense)             (None, 512)               1638912   \n",
            "_________________________________________________________________\n",
            "dropout_36 (Dropout)         (None, 512)               0         \n",
            "_________________________________________________________________\n",
            "dense_18 (Dense)             (None, 7)                 3591      \n",
            "=================================================================\n",
            "Total params: 1,744,423\n",
            "Trainable params: 1,744,423\n",
            "Non-trainable params: 0\n",
            "_________________________________________________________________\n"
          ],
          "name": "stdout"
        }
      ]
    },
    {
      "cell_type": "code",
      "metadata": {
        "id": "LqyoyjoCKQif",
        "colab_type": "code",
        "outputId": "f08c1b70-73fd-4601-e2dd-f8a05f797681",
        "colab": {
          "base_uri": "https://localhost:8080/",
          "height": 422
        }
      },
      "source": [
        "\n",
        "history = model4.fit(train_data, train_labels_one_hot, batch_size=batch_size, epochs=epochs, verbose=1, \n",
        "                   validation_data=(test_data, test_labels_one_hot))"
      ],
      "execution_count": 0,
      "outputs": [
        {
          "output_type": "stream",
          "text": [
            "Train on 28709 samples, validate on 3589 samples\n",
            "Epoch 1/100\n",
            "15360/28709 [===============>..............] - ETA: 3s - loss: 0.2819 - acc: 0.8977"
          ],
          "name": "stdout"
        },
        {
          "output_type": "error",
          "ename": "KeyboardInterrupt",
          "evalue": "ignored",
          "traceback": [
            "\u001b[0;31m---------------------------------------------------------------------------\u001b[0m",
            "\u001b[0;31mKeyboardInterrupt\u001b[0m                         Traceback (most recent call last)",
            "\u001b[0;32m<ipython-input-105-1742ba349d90>\u001b[0m in \u001b[0;36m<module>\u001b[0;34m()\u001b[0m\n\u001b[1;32m      1\u001b[0m \u001b[0;34m\u001b[0m\u001b[0m\n\u001b[1;32m      2\u001b[0m history = model4.fit(train_data, train_labels_one_hot, batch_size=batch_size, epochs=epochs, verbose=1, \n\u001b[0;32m----> 3\u001b[0;31m                    validation_data=(test_data, test_labels_one_hot))\n\u001b[0m",
            "\u001b[0;32m/usr/local/lib/python3.6/dist-packages/keras/engine/training.py\u001b[0m in \u001b[0;36mfit\u001b[0;34m(self, x, y, batch_size, epochs, verbose, callbacks, validation_split, validation_data, shuffle, class_weight, sample_weight, initial_epoch, steps_per_epoch, validation_steps, validation_freq, max_queue_size, workers, use_multiprocessing, **kwargs)\u001b[0m\n\u001b[1;32m   1176\u001b[0m                                         \u001b[0msteps_per_epoch\u001b[0m\u001b[0;34m=\u001b[0m\u001b[0msteps_per_epoch\u001b[0m\u001b[0;34m,\u001b[0m\u001b[0;34m\u001b[0m\u001b[0;34m\u001b[0m\u001b[0m\n\u001b[1;32m   1177\u001b[0m                                         \u001b[0mvalidation_steps\u001b[0m\u001b[0;34m=\u001b[0m\u001b[0mvalidation_steps\u001b[0m\u001b[0;34m,\u001b[0m\u001b[0;34m\u001b[0m\u001b[0;34m\u001b[0m\u001b[0m\n\u001b[0;32m-> 1178\u001b[0;31m                                         validation_freq=validation_freq)\n\u001b[0m\u001b[1;32m   1179\u001b[0m \u001b[0;34m\u001b[0m\u001b[0m\n\u001b[1;32m   1180\u001b[0m     def evaluate(self,\n",
            "\u001b[0;32m/usr/local/lib/python3.6/dist-packages/keras/engine/training_arrays.py\u001b[0m in \u001b[0;36mfit_loop\u001b[0;34m(model, fit_function, fit_inputs, out_labels, batch_size, epochs, verbose, callbacks, val_function, val_inputs, shuffle, callback_metrics, initial_epoch, steps_per_epoch, validation_steps, validation_freq)\u001b[0m\n\u001b[1;32m    202\u001b[0m                     \u001b[0mins_batch\u001b[0m\u001b[0;34m[\u001b[0m\u001b[0mi\u001b[0m\u001b[0;34m]\u001b[0m \u001b[0;34m=\u001b[0m \u001b[0mins_batch\u001b[0m\u001b[0;34m[\u001b[0m\u001b[0mi\u001b[0m\u001b[0;34m]\u001b[0m\u001b[0;34m.\u001b[0m\u001b[0mtoarray\u001b[0m\u001b[0;34m(\u001b[0m\u001b[0;34m)\u001b[0m\u001b[0;34m\u001b[0m\u001b[0;34m\u001b[0m\u001b[0m\n\u001b[1;32m    203\u001b[0m \u001b[0;34m\u001b[0m\u001b[0m\n\u001b[0;32m--> 204\u001b[0;31m                 \u001b[0mouts\u001b[0m \u001b[0;34m=\u001b[0m \u001b[0mfit_function\u001b[0m\u001b[0;34m(\u001b[0m\u001b[0mins_batch\u001b[0m\u001b[0;34m)\u001b[0m\u001b[0;34m\u001b[0m\u001b[0;34m\u001b[0m\u001b[0m\n\u001b[0m\u001b[1;32m    205\u001b[0m                 \u001b[0mouts\u001b[0m \u001b[0;34m=\u001b[0m \u001b[0mto_list\u001b[0m\u001b[0;34m(\u001b[0m\u001b[0mouts\u001b[0m\u001b[0;34m)\u001b[0m\u001b[0;34m\u001b[0m\u001b[0;34m\u001b[0m\u001b[0m\n\u001b[1;32m    206\u001b[0m                 \u001b[0;32mfor\u001b[0m \u001b[0ml\u001b[0m\u001b[0;34m,\u001b[0m \u001b[0mo\u001b[0m \u001b[0;32min\u001b[0m \u001b[0mzip\u001b[0m\u001b[0;34m(\u001b[0m\u001b[0mout_labels\u001b[0m\u001b[0;34m,\u001b[0m \u001b[0mouts\u001b[0m\u001b[0;34m)\u001b[0m\u001b[0;34m:\u001b[0m\u001b[0;34m\u001b[0m\u001b[0;34m\u001b[0m\u001b[0m\n",
            "\u001b[0;32m/usr/local/lib/python3.6/dist-packages/keras/backend/tensorflow_backend.py\u001b[0m in \u001b[0;36m__call__\u001b[0;34m(self, inputs)\u001b[0m\n\u001b[1;32m   2977\u001b[0m                     \u001b[0;32mreturn\u001b[0m \u001b[0mself\u001b[0m\u001b[0;34m.\u001b[0m\u001b[0m_legacy_call\u001b[0m\u001b[0;34m(\u001b[0m\u001b[0minputs\u001b[0m\u001b[0;34m)\u001b[0m\u001b[0;34m\u001b[0m\u001b[0;34m\u001b[0m\u001b[0m\n\u001b[1;32m   2978\u001b[0m \u001b[0;34m\u001b[0m\u001b[0m\n\u001b[0;32m-> 2979\u001b[0;31m             \u001b[0;32mreturn\u001b[0m \u001b[0mself\u001b[0m\u001b[0;34m.\u001b[0m\u001b[0m_call\u001b[0m\u001b[0;34m(\u001b[0m\u001b[0minputs\u001b[0m\u001b[0;34m)\u001b[0m\u001b[0;34m\u001b[0m\u001b[0;34m\u001b[0m\u001b[0m\n\u001b[0m\u001b[1;32m   2980\u001b[0m         \u001b[0;32melse\u001b[0m\u001b[0;34m:\u001b[0m\u001b[0;34m\u001b[0m\u001b[0;34m\u001b[0m\u001b[0m\n\u001b[1;32m   2981\u001b[0m             \u001b[0;32mif\u001b[0m \u001b[0mpy_any\u001b[0m\u001b[0;34m(\u001b[0m\u001b[0mis_tensor\u001b[0m\u001b[0;34m(\u001b[0m\u001b[0mx\u001b[0m\u001b[0;34m)\u001b[0m \u001b[0;32mfor\u001b[0m \u001b[0mx\u001b[0m \u001b[0;32min\u001b[0m \u001b[0minputs\u001b[0m\u001b[0;34m)\u001b[0m\u001b[0;34m:\u001b[0m\u001b[0;34m\u001b[0m\u001b[0;34m\u001b[0m\u001b[0m\n",
            "\u001b[0;32m/usr/local/lib/python3.6/dist-packages/keras/backend/tensorflow_backend.py\u001b[0m in \u001b[0;36m_call\u001b[0;34m(self, inputs)\u001b[0m\n\u001b[1;32m   2935\u001b[0m             \u001b[0mfetched\u001b[0m \u001b[0;34m=\u001b[0m \u001b[0mself\u001b[0m\u001b[0;34m.\u001b[0m\u001b[0m_callable_fn\u001b[0m\u001b[0;34m(\u001b[0m\u001b[0;34m*\u001b[0m\u001b[0marray_vals\u001b[0m\u001b[0;34m,\u001b[0m \u001b[0mrun_metadata\u001b[0m\u001b[0;34m=\u001b[0m\u001b[0mself\u001b[0m\u001b[0;34m.\u001b[0m\u001b[0mrun_metadata\u001b[0m\u001b[0;34m)\u001b[0m\u001b[0;34m\u001b[0m\u001b[0;34m\u001b[0m\u001b[0m\n\u001b[1;32m   2936\u001b[0m         \u001b[0;32melse\u001b[0m\u001b[0;34m:\u001b[0m\u001b[0;34m\u001b[0m\u001b[0;34m\u001b[0m\u001b[0m\n\u001b[0;32m-> 2937\u001b[0;31m             \u001b[0mfetched\u001b[0m \u001b[0;34m=\u001b[0m \u001b[0mself\u001b[0m\u001b[0;34m.\u001b[0m\u001b[0m_callable_fn\u001b[0m\u001b[0;34m(\u001b[0m\u001b[0;34m*\u001b[0m\u001b[0marray_vals\u001b[0m\u001b[0;34m)\u001b[0m\u001b[0;34m\u001b[0m\u001b[0;34m\u001b[0m\u001b[0m\n\u001b[0m\u001b[1;32m   2938\u001b[0m         \u001b[0;32mreturn\u001b[0m \u001b[0mfetched\u001b[0m\u001b[0;34m[\u001b[0m\u001b[0;34m:\u001b[0m\u001b[0mlen\u001b[0m\u001b[0;34m(\u001b[0m\u001b[0mself\u001b[0m\u001b[0;34m.\u001b[0m\u001b[0moutputs\u001b[0m\u001b[0;34m)\u001b[0m\u001b[0;34m]\u001b[0m\u001b[0;34m\u001b[0m\u001b[0;34m\u001b[0m\u001b[0m\n\u001b[1;32m   2939\u001b[0m \u001b[0;34m\u001b[0m\u001b[0m\n",
            "\u001b[0;32m/usr/local/lib/python3.6/dist-packages/tensorflow_core/python/client/session.py\u001b[0m in \u001b[0;36m__call__\u001b[0;34m(self, *args, **kwargs)\u001b[0m\n\u001b[1;32m   1470\u001b[0m         ret = tf_session.TF_SessionRunCallable(self._session._session,\n\u001b[1;32m   1471\u001b[0m                                                \u001b[0mself\u001b[0m\u001b[0;34m.\u001b[0m\u001b[0m_handle\u001b[0m\u001b[0;34m,\u001b[0m \u001b[0margs\u001b[0m\u001b[0;34m,\u001b[0m\u001b[0;34m\u001b[0m\u001b[0;34m\u001b[0m\u001b[0m\n\u001b[0;32m-> 1472\u001b[0;31m                                                run_metadata_ptr)\n\u001b[0m\u001b[1;32m   1473\u001b[0m         \u001b[0;32mif\u001b[0m \u001b[0mrun_metadata\u001b[0m\u001b[0;34m:\u001b[0m\u001b[0;34m\u001b[0m\u001b[0;34m\u001b[0m\u001b[0m\n\u001b[1;32m   1474\u001b[0m           \u001b[0mproto_data\u001b[0m \u001b[0;34m=\u001b[0m \u001b[0mtf_session\u001b[0m\u001b[0;34m.\u001b[0m\u001b[0mTF_GetBuffer\u001b[0m\u001b[0;34m(\u001b[0m\u001b[0mrun_metadata_ptr\u001b[0m\u001b[0;34m)\u001b[0m\u001b[0;34m\u001b[0m\u001b[0;34m\u001b[0m\u001b[0m\n",
            "\u001b[0;31mKeyboardInterrupt\u001b[0m: "
          ]
        }
      ]
    },
    {
      "cell_type": "code",
      "metadata": {
        "id": "FQpyWv2oKQp4",
        "colab_type": "code",
        "outputId": "9ab6ea3a-be5f-413e-b9b1-f66dfbd7ed4a",
        "colab": {
          "base_uri": "https://localhost:8080/",
          "height": 34
        }
      },
      "source": [
        "los4,acc4=model4.evaluate(test_data, test_labels_one_hot)"
      ],
      "execution_count": 0,
      "outputs": [
        {
          "output_type": "stream",
          "text": [
            "3589/3589 [==============================] - 1s 169us/step\n"
          ],
          "name": "stdout"
        }
      ]
    },
    {
      "cell_type": "code",
      "metadata": {
        "id": "4doX_wHzLsXH",
        "colab_type": "code",
        "outputId": "c344e9d7-0ec4-44c9-e7f1-f728965a59c1",
        "colab": {
          "base_uri": "https://localhost:8080/",
          "height": 295
        }
      },
      "source": [
        "loss_curves(history)"
      ],
      "execution_count": 0,
      "outputs": [
        {
          "output_type": "display_data",
          "data": {
            "image/png": "[encoded data removed]",
            "text/plain": [
              "<Figure size 432x288 with 1 Axes>"
            ]
          },
          "metadata": {
            "tags": []
          }
        }
      ]
    },
    {
      "cell_type": "markdown",
      "metadata": {
        "id": "IThtKXYyK-Tj",
        "colab_type": "text"
      },
      "source": [
        "# **VISUALISATION**"
      ]
    },
    {
      "cell_type": "code",
      "metadata": {
        "id": "ncBMOvtPKQwn",
        "colab_type": "code",
        "outputId": "340e2aa3-7503-4d3a-a3da-f21a19af1aca",
        "colab": {
          "base_uri": "https://localhost:8080/",
          "height": 265
        }
      },
      "source": [
        "df = pd.DataFrame({'Optimizers':[ 'RmsProp','SGD', 'adam','adagrad'], 'Accuracy':[acc1*100,acc2*100,acc3*100,acc4*100]})\n",
        "ax = df.plot.barh(x='Optimizers', y='Accuracy')\n",
        "    "
      ],
      "execution_count": 0,
      "outputs": [
        {
          "output_type": "display_data",
          "data": {
            "image/png": "[encoded data removed]",
            "text/plain": [
              "<Figure size 432x288 with 1 Axes>"
            ]
          },
          "metadata": {
            "tags": []
          }
        }
      ]
    },
    {
      "cell_type": "markdown",
      "metadata": {
        "id": "TbEPIsZCij52",
        "colab_type": "text"
      },
      "source": [
        "# Testing with the runtime image"
      ]
    },
    {
      "cell_type": "markdown",
      "metadata": {
        "id": "OLVi9Ca_ijr2",
        "colab_type": "text"
      },
      "source": [
        ""
      ]
    },
    {
      "cell_type": "code",
      "metadata": {
        "id": "iKBqtkdUyDBN",
        "colab_type": "code",
        "colab": {}
      },
      "source": [
        "from IPython.display import display, Javascript\n",
        "from google.colab.output import eval_js\n",
        "from base64 import b64decode\n",
        "\n",
        "def take_photo(filename='photo.jpg', quality=0.8):\n",
        "  js = Javascript('''\n",
        "    async function takePhoto(quality) {\n",
        "      const div = document.createElement('div');\n",
        "      const capture = document.createElement('button');\n",
        "      capture.textContent = 'Capture';\n",
        "      div.appendChild(capture);\n",
        "\n",
        "      const video = document.createElement('video');\n",
        "      video.style.display = 'block';\n",
        "      const stream = await navigator.mediaDevices.getUserMedia({video: true});\n",
        "\n",
        "      document.body.appendChild(div);\n",
        "      div.appendChild(video);\n",
        "      0.\n",
        "      video.srcObject = stream;\n",
        "      await video.play();\n",
        "\n",
        "      // Resize the output to fit the video element.\n",
        "      google.colab.output.setIframeHeight(document.documentElement.scrollHeight, true);\n",
        "\n",
        "      // Wait for Capture to be clicked.\n",
        "      await new Promise((resolve) => capture.onclick = resolve);\n",
        "\n",
        "      const canvas = document.createElement('canvas');\n",
        "      canvas.width = video.videoWidth;\n",
        "      canvas.height = video.videoHeight;\n",
        "      canvas.getContext('2d').drawImage(video, 0, 0);\n",
        "      stream.getVideoTracks()[0].stop();\n",
        "      div.remove();\n",
        "      return canvas.toDataURL('image/jpeg', quality);\n",
        "    }\n",
        "    ''')\n",
        "  display(js)\n",
        "  data = eval_js('takePhoto({})'.format(quality))\n",
        "  binary = b64decode(data.split(',')[1])\n",
        "  with open(filename, 'wb') as f:\n",
        "    f.write(binary)\n",
        "  return filename"
      ],
      "execution_count": 0,
      "outputs": []
    },
    {
      "cell_type": "code",
      "metadata": {
        "id": "fc8V3iezyC--",
        "colab_type": "code",
        "outputId": "71caaa2e-7bd8-4dc0-8007-a681463240f9",
        "colab": {
          "base_uri": "https://localhost:8080/",
          "height": 514
        }
      },
      "source": [
        "from IPython.display import Image\n",
        "try:\n",
        "  filename = take_photo()\n",
        "  print('Saved to {}'.format(filename))\n",
        "  \n",
        "  # Show the image which was just taken.\n",
        "  display(Image(filename))\n",
        "except Exception as err:\n",
        "  # Errors will be thrown if the user does not have a webcam or if they do not\n",
        "  # grant the page permission to access it.\n",
        "  print(str(err))"
      ],
      "execution_count": 0,
      "outputs": [
        {
          "output_type": "display_data",
          "data": {
            "application/javascript": [
              "\n",
              "    async function takePhoto(quality) {\n",
              "      const div = document.createElement('div');\n",
              "      const capture = document.createElement('button');\n",
              "      capture.textContent = 'Capture';\n",
              "      div.appendChild(capture);\n",
              "\n",
              "      const video = document.createElement('video');\n",
              "      video.style.display = 'block';\n",
              "      const stream = await navigator.mediaDevices.getUserMedia({video: true});\n",
              "\n",
              "      document.body.appendChild(div);\n",
              "      div.appendChild(video);\n",
              "      0.\n",
              "      video.srcObject = stream;\n",
              "      await video.play();\n",
              "\n",
              "      // Resize the output to fit the video element.\n",
              "      google.colab.output.setIframeHeight(document.documentElement.scrollHeight, true);\n",
              "\n",
              "      // Wait for Capture to be clicked.\n",
              "      await new Promise((resolve) => capture.onclick = resolve);\n",
              "\n",
              "      const canvas = document.createElement('canvas');\n",
              "      canvas.width = video.videoWidth;\n",
              "      canvas.height = video.videoHeight;\n",
              "      canvas.getContext('2d').drawImage(video, 0, 0);\n",
              "      stream.getVideoTracks()[0].stop();\n",
              "      div.remove();\n",
              "      return canvas.toDataURL('image/jpeg', quality);\n",
              "    }\n",
              "    "
            ],
            "text/plain": [
              "<IPython.core.display.Javascript object>"
            ]
          },
          "metadata": {
            "tags": []
          }
        },
        {
          "output_type": "stream",
          "text": [
            "Saved to photo.jpg\n"
          ],
          "name": "stdout"
        },
        {
          "output_type": "display_data",
          "data": {
            "image/jpeg": "[encoded data removed]",
            "text/plain": [
              "<IPython.core.display.Image object>"
            ]
          },
          "metadata": {
            "tags": []
          }
        }
      ]
    },
    {
      "cell_type": "code",
      "metadata": {
        "id": "i2QvFe1V9WlR",
        "colab_type": "code",
        "colab": {}
      },
      "source": [
        ""
      ],
      "execution_count": 0,
      "outputs": []
    },
    {
      "cell_type": "code",
      "metadata": {
        "id": "C5QLuaJGuJe6",
        "colab_type": "code",
        "outputId": "5221c20c-f3b4-4e47-d40b-a71aac900d4f",
        "colab": {
          "base_uri": "https://localhost:8080/",
          "height": 258
        }
      },
      "source": [
        "#Cropping image\n",
        "\n",
        "from PIL import Image\n",
        "import cv2\n",
        "import matplotlib.pyplot as plt\n",
        "\n",
        "faces = []\n",
        "\n",
        "img = Image.open(\"/content/angry1.jpg\")\n",
        "face_cascade = cv2.CascadeClassifier('haarcascade_frontalface_default.xml')\n",
        "faces = face_cascade.detectMultiScale(np.asarray(img), 1.3, 5)\n",
        "for (x, y, w, h) in faces:\n",
        "  if len(faces) == 1:\n",
        "    crop_img = img.crop((x,y,x+w,y+h))\n",
        "  else:\n",
        "    print(\"multiple faces detected, passing over image\")\n",
        "\n",
        "plt.imshow(crop_img)\n",
        "crop_img.save('photo.jpg')"
      ],
      "execution_count": 0,
      "outputs": [
        {
          "output_type": "error",
          "ename": "error",
          "evalue": "ignored",
          "traceback": [
            "\u001b[0;31m---------------------------------------------------------------------------\u001b[0m",
            "\u001b[0;31merror\u001b[0m                                     Traceback (most recent call last)",
            "\u001b[0;32m<ipython-input-9-6d7882d868e9>\u001b[0m in \u001b[0;36m<module>\u001b[0;34m()\u001b[0m\n\u001b[1;32m      8\u001b[0m \u001b[0mimg\u001b[0m \u001b[0;34m=\u001b[0m \u001b[0mImage\u001b[0m\u001b[0;34m.\u001b[0m\u001b[0mopen\u001b[0m\u001b[0;34m(\u001b[0m\u001b[0;34m\"/content/angry1.jpg\"\u001b[0m\u001b[0;34m)\u001b[0m\u001b[0;34m\u001b[0m\u001b[0;34m\u001b[0m\u001b[0m\n\u001b[1;32m      9\u001b[0m \u001b[0mface_cascade\u001b[0m \u001b[0;34m=\u001b[0m \u001b[0mcv2\u001b[0m\u001b[0;34m.\u001b[0m\u001b[0mCascadeClassifier\u001b[0m\u001b[0;34m(\u001b[0m\u001b[0;34m'haarcascade_frontalface_default.xml'\u001b[0m\u001b[0;34m)\u001b[0m\u001b[0;34m\u001b[0m\u001b[0;34m\u001b[0m\u001b[0m\n\u001b[0;32m---> 10\u001b[0;31m \u001b[0mfaces\u001b[0m \u001b[0;34m=\u001b[0m \u001b[0mface_cascade\u001b[0m\u001b[0;34m.\u001b[0m\u001b[0mdetectMultiScale\u001b[0m\u001b[0;34m(\u001b[0m\u001b[0mnp\u001b[0m\u001b[0;34m.\u001b[0m\u001b[0masarray\u001b[0m\u001b[0;34m(\u001b[0m\u001b[0mimg\u001b[0m\u001b[0;34m)\u001b[0m\u001b[0;34m,\u001b[0m \u001b[0;36m1.3\u001b[0m\u001b[0;34m,\u001b[0m \u001b[0;36m5\u001b[0m\u001b[0;34m)\u001b[0m\u001b[0;34m\u001b[0m\u001b[0;34m\u001b[0m\u001b[0m\n\u001b[0m\u001b[1;32m     11\u001b[0m \u001b[0;32mfor\u001b[0m \u001b[0;34m(\u001b[0m\u001b[0mx\u001b[0m\u001b[0;34m,\u001b[0m \u001b[0my\u001b[0m\u001b[0;34m,\u001b[0m \u001b[0mw\u001b[0m\u001b[0;34m,\u001b[0m \u001b[0mh\u001b[0m\u001b[0;34m)\u001b[0m \u001b[0;32min\u001b[0m \u001b[0mfaces\u001b[0m\u001b[0;34m:\u001b[0m\u001b[0;34m\u001b[0m\u001b[0;34m\u001b[0m\u001b[0m\n\u001b[1;32m     12\u001b[0m   \u001b[0;32mif\u001b[0m \u001b[0mlen\u001b[0m\u001b[0;34m(\u001b[0m\u001b[0mfaces\u001b[0m\u001b[0;34m)\u001b[0m \u001b[0;34m==\u001b[0m \u001b[0;36m1\u001b[0m\u001b[0;34m:\u001b[0m \u001b[0;31m#Use simple check if one face is detected, or multiple (measurement error unless multiple persons on image)\u001b[0m\u001b[0;34m\u001b[0m\u001b[0;34m\u001b[0m\u001b[0m\n",
            "\u001b[0;31merror\u001b[0m: OpenCV(3.4.3) /io/opencv/modules/objdetect/src/cascadedetect.cpp:1698: error: (-215:Assertion failed) !empty() in function 'detectMultiScale'\n"
          ]
        }
      ]
    },
    {
      "cell_type": "code",
      "metadata": {
        "id": "cCUvLKhQ-xWP",
        "colab_type": "code",
        "outputId": "34e8553f-3bcb-4299-8b3a-d2e7323f0348",
        "colab": {
          "base_uri": "https://localhost:8080/",
          "height": 385
        }
      },
      "source": [
        "import PIL\n",
        "from PIL import Image\n",
        "import cv2\n",
        "img=Image.open('/content/photo.jpg')\n",
        "test_image = img.resize((48,48),Image.ANTIALIAS)\n",
        "test_image = np.array(test_image)\n",
        "gray = cv2.cvtColor(test_image, cv2.COLOR_BGR2GRAY)\n",
        "\n",
        "#scale pixels values to lie between 0 and 1 because we did same to our train and test set\n",
        "gray = gray/255\n",
        "\n",
        "#reshaping image (-1 is used to automatically fit an integer at it's place to match dimension of original image)\n",
        "gray = gray.reshape(-1, 48, 48, 1)\n",
        "model3=  tf.keras.models.load_model(\"C:\\\\Users\\\\Ramakrishna\\\\Downloads\\\\Adam model.h5\")\n",
        "res = model3.predict(gray)\n",
        "\n",
        "#argmax returns index of max value\n",
        "result_num = np.argmax(res)\n",
        "res = model3.predict(gray)\n",
        "\n",
        "#argmax returns index of max value\n",
        "result_num = np.argmax(res)\n",
        "labels = ['Angry','Disgust','Fear','Happy','Sad' , 'Surprise','Neutral']\n",
        "# this is for plotting purpose\n",
        "index = np.arange(len(labels))\n"
      ],
      "execution_count": 0,
      "outputs": [
        {
          "output_type": "error",
          "ename": "OSError",
          "evalue": "ignored",
          "traceback": [
            "\u001b[0;31m---------------------------------------------------------------------------\u001b[0m",
            "\u001b[0;31mOSError\u001b[0m                                   Traceback (most recent call last)",
            "\u001b[0;32m<ipython-input-21-44aa08ff2ebb>\u001b[0m in \u001b[0;36m<module>\u001b[0;34m()\u001b[0m\n\u001b[1;32m     12\u001b[0m \u001b[0;31m#reshaping image (-1 is used to automatically fit an integer at it's place to match dimension of original image)\u001b[0m\u001b[0;34m\u001b[0m\u001b[0;34m\u001b[0m\u001b[0;34m\u001b[0m\u001b[0m\n\u001b[1;32m     13\u001b[0m \u001b[0mgray\u001b[0m \u001b[0;34m=\u001b[0m \u001b[0mgray\u001b[0m\u001b[0;34m.\u001b[0m\u001b[0mreshape\u001b[0m\u001b[0;34m(\u001b[0m\u001b[0;34m-\u001b[0m\u001b[0;36m1\u001b[0m\u001b[0;34m,\u001b[0m \u001b[0;36m48\u001b[0m\u001b[0;34m,\u001b[0m \u001b[0;36m48\u001b[0m\u001b[0;34m,\u001b[0m \u001b[0;36m1\u001b[0m\u001b[0;34m)\u001b[0m\u001b[0;34m\u001b[0m\u001b[0;34m\u001b[0m\u001b[0m\n\u001b[0;32m---> 14\u001b[0;31m \u001b[0mmodel3\u001b[0m\u001b[0;34m=\u001b[0m  \u001b[0mtf\u001b[0m\u001b[0;34m.\u001b[0m\u001b[0mkeras\u001b[0m\u001b[0;34m.\u001b[0m\u001b[0mmodels\u001b[0m\u001b[0;34m.\u001b[0m\u001b[0mload_model\u001b[0m\u001b[0;34m(\u001b[0m\u001b[0;34m\"C:\\\\Users\\\\Ramakrishna\\\\Downloads\\\\Adam model.h5\"\u001b[0m\u001b[0;34m)\u001b[0m\u001b[0;34m\u001b[0m\u001b[0;34m\u001b[0m\u001b[0m\n\u001b[0m\u001b[1;32m     15\u001b[0m \u001b[0mres\u001b[0m \u001b[0;34m=\u001b[0m \u001b[0mmodel3\u001b[0m\u001b[0;34m.\u001b[0m\u001b[0mpredict\u001b[0m\u001b[0;34m(\u001b[0m\u001b[0mgray\u001b[0m\u001b[0;34m)\u001b[0m\u001b[0;34m\u001b[0m\u001b[0;34m\u001b[0m\u001b[0m\n\u001b[1;32m     16\u001b[0m \u001b[0;34m\u001b[0m\u001b[0m\n",
            "\u001b[0;32m/usr/local/lib/python3.6/dist-packages/tensorflow_core/python/keras/saving/save.py\u001b[0m in \u001b[0;36mload_model\u001b[0;34m(filepath, custom_objects, compile)\u001b[0m\n\u001b[1;32m    144\u001b[0m \u001b[0;34m\u001b[0m\u001b[0m\n\u001b[1;32m    145\u001b[0m   \u001b[0;32mif\u001b[0m \u001b[0misinstance\u001b[0m\u001b[0;34m(\u001b[0m\u001b[0mfilepath\u001b[0m\u001b[0;34m,\u001b[0m \u001b[0msix\u001b[0m\u001b[0;34m.\u001b[0m\u001b[0mstring_types\u001b[0m\u001b[0;34m)\u001b[0m\u001b[0;34m:\u001b[0m\u001b[0;34m\u001b[0m\u001b[0;34m\u001b[0m\u001b[0m\n\u001b[0;32m--> 146\u001b[0;31m     \u001b[0mloader_impl\u001b[0m\u001b[0;34m.\u001b[0m\u001b[0mparse_saved_model\u001b[0m\u001b[0;34m(\u001b[0m\u001b[0mfilepath\u001b[0m\u001b[0;34m)\u001b[0m\u001b[0;34m\u001b[0m\u001b[0;34m\u001b[0m\u001b[0m\n\u001b[0m\u001b[1;32m    147\u001b[0m     \u001b[0;32mreturn\u001b[0m \u001b[0msaved_model_load\u001b[0m\u001b[0;34m.\u001b[0m\u001b[0mload\u001b[0m\u001b[0;34m(\u001b[0m\u001b[0mfilepath\u001b[0m\u001b[0;34m,\u001b[0m \u001b[0mcompile\u001b[0m\u001b[0;34m)\u001b[0m\u001b[0;34m\u001b[0m\u001b[0;34m\u001b[0m\u001b[0m\n\u001b[1;32m    148\u001b[0m \u001b[0;34m\u001b[0m\u001b[0m\n",
            "\u001b[0;32m/usr/local/lib/python3.6/dist-packages/tensorflow_core/python/saved_model/loader_impl.py\u001b[0m in \u001b[0;36mparse_saved_model\u001b[0;34m(export_dir)\u001b[0m\n\u001b[1;32m     81\u001b[0m                   (export_dir,\n\u001b[1;32m     82\u001b[0m                    \u001b[0mconstants\u001b[0m\u001b[0;34m.\u001b[0m\u001b[0mSAVED_MODEL_FILENAME_PBTXT\u001b[0m\u001b[0;34m,\u001b[0m\u001b[0;34m\u001b[0m\u001b[0;34m\u001b[0m\u001b[0m\n\u001b[0;32m---> 83\u001b[0;31m                    constants.SAVED_MODEL_FILENAME_PB))\n\u001b[0m\u001b[1;32m     84\u001b[0m \u001b[0;34m\u001b[0m\u001b[0m\n\u001b[1;32m     85\u001b[0m \u001b[0;34m\u001b[0m\u001b[0m\n",
            "\u001b[0;31mOSError\u001b[0m: SavedModel file does not exist at: C:\\Users\\Ramakrishna\\Downloads\\Adam model.h5/{saved_model.pbtxt|saved_model.pb}"
          ]
        }
      ]
    },
    {
      "cell_type": "code",
      "metadata": {
        "id": "haXuhWutkjqI",
        "colab_type": "code",
        "outputId": "f4835357-2f8d-4ba1-c815-9cf13341aaed",
        "colab": {
          "base_uri": "https://localhost:8080/",
          "height": 441
        }
      },
      "source": [
        "x=\"\"\n",
        "for i in range(len(res[0])):\n",
        "    x=x+get_label(i)+\":\"+str(res[0][i])+\"\\n\"\n",
        "str1=\"Probabilities are \\n\" + x+\"\\n\"+\"Emotion is \"+get_label(result_num)\n",
        "print(str1)\n",
        "df = pd.DataFrame({'Emotions':[ 'Angry','Disgust', 'Fear','Happy',\"Sad\",'Surprise','Neutral'], 'Probability':res[0]})\n",
        "ax = df.plot.barh(x='Emotions', y='Probability')\n",
        "    "
      ],
      "execution_count": 0,
      "outputs": [
        {
          "output_type": "stream",
          "text": [
            "Probabilities are \n",
            "Angry:0.8943278\n",
            "Disgust:0.0010292687\n",
            "Fear:0.10356202\n",
            "Happy:1.1779299e-05\n",
            "Sad:0.00092716253\n",
            "Surprise:4.288029e-05\n",
            "Neutral:9.906312e-05\n",
            "\n",
            "Emotion is Angry\n"
          ],
          "name": "stdout"
        },
        {
          "output_type": "display_data",
          "data": {
            "image/png": "[encoded data removed]",
            "text/plain": [
              "<Figure size 432x288 with 1 Axes>"
            ]
          },
          "metadata": {
            "tags": []
          }
        }
      ]
    },
    {
      "cell_type": "markdown",
      "metadata": {
        "id": "1Ka3RX4lgzby",
        "colab_type": "text"
      },
      "source": [
        "# Sample LoG for some image"
      ]
    },
    {
      "cell_type": "code",
      "metadata": {
        "id": "rdni7K_0ewK1",
        "colab_type": "code",
        "outputId": "77c74fc1-22f0-4c17-daf8-7f73b4c5f53f",
        "colab": {
          "base_uri": "https://localhost:8080/",
          "height": 230
        }
      },
      "source": [
        "!pip install mahotas"
      ],
      "execution_count": 0,
      "outputs": [
        {
          "output_type": "stream",
          "text": [
            "Collecting mahotas\n",
            "\u001b[?25l  Downloading https://files.pythonhosted.org/packages/27/4b/72581c4316b2fb08cbcb3309d9f2eccd40f09f6af6117545e75f4015c505/mahotas-1.4.8.tar.gz (1.5MB)\n",
            "\u001b[K     |████████████████████████████████| 1.5MB 2.7MB/s \n",
            "\u001b[?25hRequirement already satisfied: numpy in /usr/local/lib/python3.6/dist-packages (from mahotas) (1.17.3)\n",
            "Building wheels for collected packages: mahotas\n",
            "  Building wheel for mahotas (setup.py) ... \u001b[?25l\u001b[?25hdone\n",
            "  Created wheel for mahotas: filename=mahotas-1.4.8-cp36-cp36m-linux_x86_64.whl size=4264010 sha256=6e0ca6d40f7803ca3389706ca9a87d45464ef4c97cd4028220ff6d2815015830\n",
            "  Stored in directory: /root/.cache/pip/wheels/3e/8b/93/690deca49a46242df274db70dbef26c0a6fa86e378b677e1ab\n",
            "Successfully built mahotas\n",
            "Installing collected packages: mahotas\n",
            "Successfully installed mahotas-1.4.8\n"
          ],
          "name": "stdout"
        }
      ]
    },
    {
      "cell_type": "code",
      "metadata": {
        "id": "IYV2Xeg78IVt",
        "colab_type": "code",
        "colab": {}
      },
      "source": [
        "from PIL import Image\n",
        "import cv2\n",
        "def LoG(data):\n",
        "  \n",
        "  data = cv2.Laplacian(cv2.GaussianBlur(data,(3,3),0),cv2.CV_64F)\n",
        "  return data.reshape(48,48,1)\n"
      ],
      "execution_count": 0,
      "outputs": []
    },
    {
      "cell_type": "code",
      "metadata": {
        "id": "hAH1TunODD9a",
        "colab_type": "code",
        "colab": {}
      },
      "source": [
        ""
      ],
      "execution_count": 0,
      "outputs": []
    },
    {
      "cell_type": "code",
      "metadata": {
        "id": "nv8un6skgGUc",
        "colab_type": "code",
        "colab": {}
      },
      "source": [
        "xx=X_train\n",
        "for i in range(xx.shape[0]):\n",
        "  xx[i]=LoG(xx[i])"
      ],
      "execution_count": 0,
      "outputs": []
    },
    {
      "cell_type": "code",
      "metadata": {
        "id": "ohjZ-zlbgX5l",
        "colab_type": "code",
        "outputId": "51d8ad17-a57c-4532-874b-cb14d421137c",
        "colab": {
          "base_uri": "https://localhost:8080/",
          "height": 180
        }
      },
      "source": [
        "# Change to float datatype\n",
        "train_data = X_train.astype('float32')\n",
        "test_data = X_test.astype('float32')\n",
        "\n",
        "# Scale the data to lie between 0 to 1\n",
        "train_data /= 255\n",
        "test_data /= 255\n",
        "\n",
        "# Change the labels from integer to categorical data\n",
        "train_labels_one_hot = to_categorical(y_train)\n",
        "test_labels_one_hot = to_categorical(y_test)\n",
        "a=LoG(X_train[7])\n",
        "\n",
        "plt.subplot(1,3,3)\n",
        "plt.imshow(np.squeeze(xx[100]), cmap='gray')\n",
        "plt.title(\"Ground Truth : {}\".format(get_label(int(y_test[100]))))\n",
        "\n",
        "plt.subplot(1,3,1)\n",
        "plt.imshow(np.squeeze(X_train[12]), cmap='gray')\n",
        "plt.title(\"Ground Truth : {}\".format(get_label(int(y_test[12]))))"
      ],
      "execution_count": 0,
      "outputs": [
        {
          "output_type": "execute_result",
          "data": {
            "text/plain": [
              "Text(0.5, 1.0, 'Ground Truth : Sad')"
            ]
          },
          "metadata": {
            "tags": []
          },
          "execution_count": 110
        },
        {
          "output_type": "display_data",
          "data": {
            "image/png": "[encoded data removed]",
            "text/plain": [
              "<Figure size 432x288 with 2 Axes>"
            ]
          },
          "metadata": {
            "tags": []
          }
        }
      ]
    },
    {
      "cell_type": "markdown",
      "metadata": {
        "id": "gJjr2ilqhQpK",
        "colab_type": "text"
      },
      "source": [
        "# Log Model"
      ]
    },
    {
      "cell_type": "code",
      "metadata": {
        "id": "8rJGbL8uho4a",
        "colab_type": "code",
        "outputId": "b53fd53a-473d-4069-85b9-585a53432161",
        "colab": {
          "base_uri": "https://localhost:8080/",
          "height": 650
        }
      },
      "source": [
        "\n",
        "model5 = createModel()\n",
        "batch_size = 256\n",
        "epochs = 100\n",
        "model5.compile(optimizer='adam', loss='categorical_crossentropy', metrics=['accuracy'])\n",
        "model5.summary()"
      ],
      "execution_count": 0,
      "outputs": [
        {
          "output_type": "stream",
          "text": [
            "Model: \"sequential_10\"\n",
            "_________________________________________________________________\n",
            "Layer (type)                 Output Shape              Param #   \n",
            "=================================================================\n",
            "conv2d_37 (Conv2D)           (None, 48, 48, 32)        320       \n",
            "_________________________________________________________________\n",
            "conv2d_38 (Conv2D)           (None, 46, 46, 32)        9248      \n",
            "_________________________________________________________________\n",
            "max_pooling2d_28 (MaxPooling (None, 23, 23, 32)        0         \n",
            "_________________________________________________________________\n",
            "dropout_37 (Dropout)         (None, 23, 23, 32)        0         \n",
            "_________________________________________________________________\n",
            "conv2d_39 (Conv2D)           (None, 23, 23, 64)        18496     \n",
            "_________________________________________________________________\n",
            "max_pooling2d_29 (MaxPooling (None, 11, 11, 64)        0         \n",
            "_________________________________________________________________\n",
            "dropout_38 (Dropout)         (None, 11, 11, 64)        0         \n",
            "_________________________________________________________________\n",
            "conv2d_40 (Conv2D)           (None, 11, 11, 128)       73856     \n",
            "_________________________________________________________________\n",
            "max_pooling2d_30 (MaxPooling (None, 5, 5, 128)         0         \n",
            "_________________________________________________________________\n",
            "dropout_39 (Dropout)         (None, 5, 5, 128)         0         \n",
            "_________________________________________________________________\n",
            "flatten_10 (Flatten)         (None, 3200)              0         \n",
            "_________________________________________________________________\n",
            "dense_19 (Dense)             (None, 512)               1638912   \n",
            "_________________________________________________________________\n",
            "dropout_40 (Dropout)         (None, 512)               0         \n",
            "_________________________________________________________________\n",
            "dense_20 (Dense)             (None, 7)                 3591      \n",
            "=================================================================\n",
            "Total params: 1,744,423\n",
            "Trainable params: 1,744,423\n",
            "Non-trainable params: 0\n",
            "_________________________________________________________________\n"
          ],
          "name": "stdout"
        }
      ]
    },
    {
      "cell_type": "code",
      "metadata": {
        "id": "YBRF6El2hbTq",
        "colab_type": "code",
        "outputId": "26dc3937-f6a5-4a2f-e5ef-a3025bde8920",
        "colab": {
          "base_uri": "https://localhost:8080/",
          "height": 1000
        }
      },
      "source": [
        "\n",
        "history = model5.fit(train_data, train_labels_one_hot, batch_size=batch_size, epochs=epochs, verbose=1, \n",
        "                   validation_data=(test_data, test_labels_one_hot))"
      ],
      "execution_count": 0,
      "outputs": [
        {
          "output_type": "stream",
          "text": [
            "Train on 28709 samples, validate on 3589 samples\n",
            "Epoch 1/100\n",
            "28709/28709 [==============================] - 10s 364us/step - loss: 1.7351 - acc: 0.2959 - val_loss: 2.1175 - val_acc: 0.1549\n",
            "Epoch 2/100\n",
            "28709/28709 [==============================] - 9s 309us/step - loss: 1.4615 - acc: 0.4420 - val_loss: 3.0961 - val_acc: 0.1697\n",
            "Epoch 3/100\n",
            "28709/28709 [==============================] - 9s 310us/step - loss: 1.3546 - acc: 0.4825 - val_loss: 2.3943 - val_acc: 0.1446\n",
            "Epoch 4/100\n",
            "28709/28709 [==============================] - 9s 307us/step - loss: 1.2764 - acc: 0.5123 - val_loss: 2.3944 - val_acc: 0.1429\n",
            "Epoch 5/100\n",
            "28709/28709 [==============================] - 9s 308us/step - loss: 1.2230 - acc: 0.5385 - val_loss: 2.4777 - val_acc: 0.1304\n",
            "Epoch 6/100\n",
            "28709/28709 [==============================] - 9s 309us/step - loss: 1.1764 - acc: 0.5547 - val_loss: 2.9662 - val_acc: 0.1304\n",
            "Epoch 7/100\n",
            "28709/28709 [==============================] - 9s 308us/step - loss: 1.1345 - acc: 0.5711 - val_loss: 3.2539 - val_acc: 0.1318\n",
            "Epoch 8/100\n",
            "28709/28709 [==============================] - 9s 310us/step - loss: 1.1040 - acc: 0.5828 - val_loss: 3.0104 - val_acc: 0.1312\n",
            "Epoch 9/100\n",
            "28709/28709 [==============================] - 9s 308us/step - loss: 1.0621 - acc: 0.6017 - val_loss: 4.4908 - val_acc: 0.1365\n",
            "Epoch 10/100\n",
            "28709/28709 [==============================] - 9s 306us/step - loss: 1.0253 - acc: 0.6131 - val_loss: 3.6288 - val_acc: 0.1340\n",
            "Epoch 11/100\n",
            "28709/28709 [==============================] - 9s 308us/step - loss: 0.9893 - acc: 0.6267 - val_loss: 4.9494 - val_acc: 0.1301\n",
            "Epoch 12/100\n",
            "28709/28709 [==============================] - 9s 309us/step - loss: 0.9554 - acc: 0.6403 - val_loss: 5.8312 - val_acc: 0.1326\n",
            "Epoch 13/100\n",
            "28709/28709 [==============================] - 9s 309us/step - loss: 0.9219 - acc: 0.6538 - val_loss: 5.5537 - val_acc: 0.1298\n",
            "Epoch 14/100\n",
            "28709/28709 [==============================] - 9s 309us/step - loss: 0.8903 - acc: 0.6698 - val_loss: 8.0684 - val_acc: 0.1312\n",
            "Epoch 15/100\n",
            "28709/28709 [==============================] - 9s 309us/step - loss: 0.8563 - acc: 0.6827 - val_loss: 5.1569 - val_acc: 0.1337\n",
            "Epoch 16/100\n",
            "28709/28709 [==============================] - 9s 310us/step - loss: 0.8252 - acc: 0.6929 - val_loss: 5.2998 - val_acc: 0.1337\n",
            "Epoch 17/100\n",
            "28709/28709 [==============================] - 9s 309us/step - loss: 0.7924 - acc: 0.7057 - val_loss: 5.9500 - val_acc: 0.1491\n",
            "Epoch 18/100\n",
            "28709/28709 [==============================] - 9s 310us/step - loss: 0.7634 - acc: 0.7157 - val_loss: 5.0621 - val_acc: 0.1680\n",
            "Epoch 19/100\n",
            "28709/28709 [==============================] - 9s 309us/step - loss: 0.7388 - acc: 0.7276 - val_loss: 6.7649 - val_acc: 0.1558\n",
            "Epoch 20/100\n",
            "28709/28709 [==============================] - 9s 308us/step - loss: 0.7105 - acc: 0.7356 - val_loss: 6.6868 - val_acc: 0.1558\n",
            "Epoch 21/100\n",
            "28709/28709 [==============================] - 9s 308us/step - loss: 0.6875 - acc: 0.7449 - val_loss: 7.2843 - val_acc: 0.1574\n",
            "Epoch 22/100\n",
            "28709/28709 [==============================] - 9s 307us/step - loss: 0.6533 - acc: 0.7573 - val_loss: 6.9996 - val_acc: 0.1552\n",
            "Epoch 23/100\n",
            "28709/28709 [==============================] - 9s 310us/step - loss: 0.6386 - acc: 0.7624 - val_loss: 7.2263 - val_acc: 0.1558\n",
            "Epoch 24/100\n",
            "28709/28709 [==============================] - 9s 310us/step - loss: 0.6267 - acc: 0.7670 - val_loss: 7.4713 - val_acc: 0.1421\n",
            "Epoch 25/100\n",
            "28709/28709 [==============================] - 9s 308us/step - loss: 0.6011 - acc: 0.7767 - val_loss: 7.4027 - val_acc: 0.1376\n",
            "Epoch 26/100\n",
            "28709/28709 [==============================] - 9s 310us/step - loss: 0.5794 - acc: 0.7830 - val_loss: 8.8314 - val_acc: 0.1460\n",
            "Epoch 27/100\n",
            "28709/28709 [==============================] - 9s 309us/step - loss: 0.5621 - acc: 0.7924 - val_loss: 6.7944 - val_acc: 0.1563\n",
            "Epoch 28/100\n",
            "28709/28709 [==============================] - 9s 311us/step - loss: 0.5571 - acc: 0.7939 - val_loss: 9.1420 - val_acc: 0.1566\n",
            "Epoch 29/100\n",
            "28709/28709 [==============================] - 9s 311us/step - loss: 0.5293 - acc: 0.8039 - val_loss: 8.9028 - val_acc: 0.1605\n",
            "Epoch 30/100\n",
            "28709/28709 [==============================] - 9s 310us/step - loss: 0.5199 - acc: 0.8079 - val_loss: 10.1258 - val_acc: 0.1636\n",
            "Epoch 31/100\n",
            "28709/28709 [==============================] - 9s 308us/step - loss: 0.4995 - acc: 0.8174 - val_loss: 10.2563 - val_acc: 0.1449\n",
            "Epoch 32/100\n",
            "28709/28709 [==============================] - 9s 309us/step - loss: 0.5010 - acc: 0.8162 - val_loss: 9.7332 - val_acc: 0.1677\n",
            "Epoch 33/100\n",
            "28709/28709 [==============================] - 9s 310us/step - loss: 0.4894 - acc: 0.8191 - val_loss: 9.9784 - val_acc: 0.1521\n",
            "Epoch 34/100\n",
            "28709/28709 [==============================] - 9s 309us/step - loss: 0.4694 - acc: 0.8281 - val_loss: 9.8656 - val_acc: 0.1477\n",
            "Epoch 35/100\n",
            "28709/28709 [==============================] - 9s 309us/step - loss: 0.4603 - acc: 0.8316 - val_loss: 9.9488 - val_acc: 0.1471\n",
            "Epoch 36/100\n",
            "28709/28709 [==============================] - 9s 309us/step - loss: 0.4440 - acc: 0.8386 - val_loss: 9.5343 - val_acc: 0.1627\n",
            "Epoch 37/100\n",
            "28709/28709 [==============================] - 9s 307us/step - loss: 0.4445 - acc: 0.8372 - val_loss: 10.5958 - val_acc: 0.1318\n",
            "Epoch 38/100\n",
            "28709/28709 [==============================] - 9s 313us/step - loss: 0.4430 - acc: 0.8390 - val_loss: 9.6626 - val_acc: 0.1485\n",
            "Epoch 39/100\n",
            "28709/28709 [==============================] - 9s 309us/step - loss: 0.4264 - acc: 0.8440 - val_loss: 9.9661 - val_acc: 0.1610\n",
            "Epoch 40/100\n",
            "28709/28709 [==============================] - 9s 309us/step - loss: 0.4132 - acc: 0.8493 - val_loss: 10.2368 - val_acc: 0.1530\n",
            "Epoch 41/100\n",
            "28709/28709 [==============================] - 9s 307us/step - loss: 0.4095 - acc: 0.8507 - val_loss: 11.1016 - val_acc: 0.1404\n",
            "Epoch 42/100\n",
            "28709/28709 [==============================] - 9s 309us/step - loss: 0.4083 - acc: 0.8517 - val_loss: 11.6494 - val_acc: 0.1304\n",
            "Epoch 43/100\n",
            "28709/28709 [==============================] - 9s 308us/step - loss: 0.3985 - acc: 0.8550 - val_loss: 10.6328 - val_acc: 0.1312\n",
            "Epoch 44/100\n",
            "28709/28709 [==============================] - 9s 308us/step - loss: 0.3877 - acc: 0.8604 - val_loss: 11.4480 - val_acc: 0.1323\n",
            "Epoch 45/100\n",
            "28709/28709 [==============================] - 9s 306us/step - loss: 0.3864 - acc: 0.8583 - val_loss: 8.4907 - val_acc: 0.1418\n",
            "Epoch 46/100\n",
            "28709/28709 [==============================] - 9s 310us/step - loss: 0.3755 - acc: 0.8628 - val_loss: 10.2883 - val_acc: 0.1415\n",
            "Epoch 47/100\n",
            "28709/28709 [==============================] - 9s 308us/step - loss: 0.3759 - acc: 0.8622 - val_loss: 9.4488 - val_acc: 0.1438\n",
            "Epoch 48/100\n",
            "28709/28709 [==============================] - 9s 308us/step - loss: 0.3697 - acc: 0.8654 - val_loss: 8.2599 - val_acc: 0.1449\n",
            "Epoch 49/100\n",
            "28709/28709 [==============================] - 9s 310us/step - loss: 0.3617 - acc: 0.8698 - val_loss: 9.1347 - val_acc: 0.1552\n",
            "Epoch 50/100\n",
            "28709/28709 [==============================] - 9s 310us/step - loss: 0.3530 - acc: 0.8734 - val_loss: 11.2224 - val_acc: 0.1346\n",
            "Epoch 51/100\n",
            "28709/28709 [==============================] - 9s 309us/step - loss: 0.3537 - acc: 0.8737 - val_loss: 9.8451 - val_acc: 0.1463\n",
            "Epoch 52/100\n",
            "28709/28709 [==============================] - 9s 306us/step - loss: 0.3469 - acc: 0.8734 - val_loss: 11.5536 - val_acc: 0.1360\n",
            "Epoch 53/100\n",
            "28709/28709 [==============================] - 9s 309us/step - loss: 0.3354 - acc: 0.8782 - val_loss: 9.1459 - val_acc: 0.1524\n",
            "Epoch 54/100\n",
            "28709/28709 [==============================] - 9s 308us/step - loss: 0.3349 - acc: 0.8784 - val_loss: 10.4619 - val_acc: 0.1443\n",
            "Epoch 55/100\n",
            "28709/28709 [==============================] - 9s 308us/step - loss: 0.3320 - acc: 0.8801 - val_loss: 11.8718 - val_acc: 0.1310\n",
            "Epoch 56/100\n",
            "28709/28709 [==============================] - 9s 308us/step - loss: 0.3266 - acc: 0.8807 - val_loss: 10.0131 - val_acc: 0.1362\n",
            "Epoch 57/100\n",
            "28709/28709 [==============================] - 9s 308us/step - loss: 0.3215 - acc: 0.8821 - val_loss: 10.6651 - val_acc: 0.1360\n",
            "Epoch 58/100\n",
            "28709/28709 [==============================] - 9s 308us/step - loss: 0.3251 - acc: 0.8823 - val_loss: 9.3926 - val_acc: 0.1390\n",
            "Epoch 59/100\n",
            "28709/28709 [==============================] - 9s 309us/step - loss: 0.3253 - acc: 0.8814 - val_loss: 7.6551 - val_acc: 0.1452\n",
            "Epoch 60/100\n",
            "28709/28709 [==============================] - 9s 306us/step - loss: 0.3138 - acc: 0.8861 - val_loss: 7.1443 - val_acc: 0.1468\n",
            "Epoch 61/100\n",
            "28709/28709 [==============================] - 9s 309us/step - loss: 0.3180 - acc: 0.8846 - val_loss: 6.8666 - val_acc: 0.2313\n",
            "Epoch 62/100\n",
            "28709/28709 [==============================] - 9s 309us/step - loss: 0.3099 - acc: 0.8888 - val_loss: 8.6219 - val_acc: 0.1402\n",
            "Epoch 63/100\n",
            "28709/28709 [==============================] - 9s 309us/step - loss: 0.3081 - acc: 0.8905 - val_loss: 9.3764 - val_acc: 0.1413\n",
            "Epoch 64/100\n",
            "28709/28709 [==============================] - 9s 310us/step - loss: 0.3035 - acc: 0.8899 - val_loss: 9.2052 - val_acc: 0.1390\n",
            "Epoch 65/100\n",
            "28709/28709 [==============================] - 9s 308us/step - loss: 0.2940 - acc: 0.8949 - val_loss: 8.9737 - val_acc: 0.1382\n",
            "Epoch 66/100\n",
            "28709/28709 [==============================] - 9s 309us/step - loss: 0.3003 - acc: 0.8918 - val_loss: 11.6924 - val_acc: 0.1329\n",
            "Epoch 67/100\n",
            "28709/28709 [==============================] - 9s 308us/step - loss: 0.2938 - acc: 0.8929 - val_loss: 10.1015 - val_acc: 0.1407\n",
            "Epoch 68/100\n",
            "28709/28709 [==============================] - 9s 310us/step - loss: 0.2856 - acc: 0.8966 - val_loss: 10.7811 - val_acc: 0.1349\n",
            "Epoch 69/100\n",
            "28709/28709 [==============================] - 9s 308us/step - loss: 0.2815 - acc: 0.8987 - val_loss: 11.9249 - val_acc: 0.1321\n",
            "Epoch 70/100\n",
            "28709/28709 [==============================] - 9s 309us/step - loss: 0.2929 - acc: 0.8948 - val_loss: 8.9059 - val_acc: 0.1496\n",
            "Epoch 71/100\n",
            "28709/28709 [==============================] - 9s 310us/step - loss: 0.2861 - acc: 0.8979 - val_loss: 11.3902 - val_acc: 0.1326\n",
            "Epoch 72/100\n",
            "28709/28709 [==============================] - 9s 311us/step - loss: 0.2835 - acc: 0.8984 - val_loss: 12.4268 - val_acc: 0.1312\n",
            "Epoch 73/100\n",
            "28709/28709 [==============================] - 9s 311us/step - loss: 0.2790 - acc: 0.8999 - val_loss: 12.3923 - val_acc: 0.1323\n",
            "Epoch 74/100\n",
            "28709/28709 [==============================] - 9s 309us/step - loss: 0.2779 - acc: 0.9001 - val_loss: 11.8003 - val_acc: 0.1390\n",
            "Epoch 75/100\n",
            "28709/28709 [==============================] - 9s 309us/step - loss: 0.2730 - acc: 0.9014 - val_loss: 11.4608 - val_acc: 0.1354\n",
            "Epoch 76/100\n",
            "28709/28709 [==============================] - 9s 308us/step - loss: 0.2658 - acc: 0.9046 - val_loss: 11.1042 - val_acc: 0.1379\n",
            "Epoch 77/100\n",
            "28709/28709 [==============================] - 9s 309us/step - loss: 0.2633 - acc: 0.9034 - val_loss: 12.6562 - val_acc: 0.1346\n",
            "Epoch 78/100\n",
            "28709/28709 [==============================] - 9s 308us/step - loss: 0.2675 - acc: 0.9037 - val_loss: 11.9655 - val_acc: 0.1340\n",
            "Epoch 79/100\n",
            "28709/28709 [==============================] - 9s 309us/step - loss: 0.2701 - acc: 0.9012 - val_loss: 11.2081 - val_acc: 0.1376\n",
            "Epoch 80/100\n",
            "28709/28709 [==============================] - 9s 307us/step - loss: 0.2627 - acc: 0.9053 - val_loss: 11.2549 - val_acc: 0.1374\n",
            "Epoch 81/100\n",
            "28709/28709 [==============================] - 9s 309us/step - loss: 0.2651 - acc: 0.9039 - val_loss: 10.4850 - val_acc: 0.1402\n",
            "Epoch 82/100\n",
            "28709/28709 [==============================] - 9s 308us/step - loss: 0.2663 - acc: 0.9033 - val_loss: 12.5896 - val_acc: 0.1357\n",
            "Epoch 83/100\n",
            "28709/28709 [==============================] - 9s 309us/step - loss: 0.2536 - acc: 0.9073 - val_loss: 13.0615 - val_acc: 0.1312\n",
            "Epoch 84/100\n",
            "28709/28709 [==============================] - 9s 308us/step - loss: 0.2583 - acc: 0.9068 - val_loss: 11.3254 - val_acc: 0.1404\n",
            "Epoch 85/100\n",
            "28709/28709 [==============================] - 9s 310us/step - loss: 0.2570 - acc: 0.9091 - val_loss: 12.4762 - val_acc: 0.1340\n",
            "Epoch 86/100\n",
            "28709/28709 [==============================] - 9s 309us/step - loss: 0.2641 - acc: 0.9055 - val_loss: 11.3243 - val_acc: 0.1362\n",
            "Epoch 87/100\n",
            "28709/28709 [==============================] - 9s 309us/step - loss: 0.2539 - acc: 0.9080 - val_loss: 11.6593 - val_acc: 0.1357\n",
            "Epoch 88/100\n",
            "28709/28709 [==============================] - 9s 309us/step - loss: 0.2495 - acc: 0.9090 - val_loss: 11.6074 - val_acc: 0.1351\n",
            "Epoch 89/100\n",
            "28709/28709 [==============================] - 9s 308us/step - loss: 0.2543 - acc: 0.9090 - val_loss: 11.9272 - val_acc: 0.1393\n",
            "Epoch 90/100\n",
            "28709/28709 [==============================] - 9s 309us/step - loss: 0.2467 - acc: 0.9105 - val_loss: 12.5893 - val_acc: 0.1351\n",
            "Epoch 91/100\n",
            "28709/28709 [==============================] - 9s 310us/step - loss: 0.2475 - acc: 0.9126 - val_loss: 12.2077 - val_acc: 0.1321\n",
            "Epoch 92/100\n",
            "28709/28709 [==============================] - 9s 310us/step - loss: 0.2379 - acc: 0.9142 - val_loss: 12.7896 - val_acc: 0.1312\n",
            "Epoch 93/100\n",
            "28709/28709 [==============================] - 9s 309us/step - loss: 0.2306 - acc: 0.9164 - val_loss: 12.4107 - val_acc: 0.1326\n",
            "Epoch 94/100\n",
            "28709/28709 [==============================] - 9s 309us/step - loss: 0.2385 - acc: 0.9150 - val_loss: 12.1969 - val_acc: 0.1340\n",
            "Epoch 95/100\n",
            "28709/28709 [==============================] - 9s 308us/step - loss: 0.2384 - acc: 0.9160 - val_loss: 12.3461 - val_acc: 0.1351\n",
            "Epoch 96/100\n",
            "28709/28709 [==============================] - 9s 310us/step - loss: 0.2379 - acc: 0.9161 - val_loss: 12.4101 - val_acc: 0.1343\n",
            "Epoch 97/100\n",
            "28709/28709 [==============================] - 9s 309us/step - loss: 0.2340 - acc: 0.9158 - val_loss: 11.5911 - val_acc: 0.1323\n",
            "Epoch 98/100\n",
            "28709/28709 [==============================] - 9s 308us/step - loss: 0.2288 - acc: 0.9174 - val_loss: 12.4882 - val_acc: 0.1310\n",
            "Epoch 99/100\n",
            "28709/28709 [==============================] - 9s 309us/step - loss: 0.2352 - acc: 0.9159 - val_loss: 12.2039 - val_acc: 0.1301\n",
            "Epoch 100/100\n",
            "28709/28709 [==============================] - 9s 308us/step - loss: 0.2298 - acc: 0.9173 - val_loss: 11.0997 - val_acc: 0.1360\n"
          ],
          "name": "stdout"
        }
      ]
    },
    {
      "cell_type": "code",
      "metadata": {
        "id": "mFbn2JKzhfZ3",
        "colab_type": "code",
        "outputId": "6edf80c2-7484-4605-a268-bed6aa3e22c8",
        "colab": {
          "base_uri": "https://localhost:8080/",
          "height": 34
        }
      },
      "source": [
        "los5,acc5=model5.evaluate(test_data, test_labels_one_hot)"
      ],
      "execution_count": 0,
      "outputs": [
        {
          "output_type": "stream",
          "text": [
            "3589/3589 [==============================] - 1s 192us/step\n"
          ],
          "name": "stdout"
        }
      ]
    },
    {
      "cell_type": "code",
      "metadata": {
        "id": "FXazSUf4lkNY",
        "colab_type": "code",
        "outputId": "8c3c72a0-eeb7-41d7-813b-65ba8b52e0df",
        "colab": {
          "base_uri": "https://localhost:8080/",
          "height": 295
        }
      },
      "source": [
        "loss_curves(history)"
      ],
      "execution_count": 0,
      "outputs": [
        {
          "output_type": "display_data",
          "data": {
            "image/png": "[encoded data removed]",
            "text/plain": [
              "<Figure size 432x288 with 1 Axes>"
            ]
          },
          "metadata": {
            "tags": []
          }
        }
      ]
    },
    {
      "cell_type": "markdown",
      "metadata": {
        "id": "EFaHPDICBFvU",
        "colab_type": "text"
      },
      "source": [
        "# RunTime Image\n"
      ]
    },
    {
      "cell_type": "code",
      "metadata": {
        "colab_type": "code",
        "id": "HZSQAklaBKmW",
        "colab": {}
      },
      "source": [
        "from IPython.display import display, Javascript\n",
        "from google.colab.output import eval_js\n",
        "from base64 import b64decode\n",
        "\n",
        "def take_photo(filename='photo.jpg', quality=0.8):\n",
        "  js = Javascript('''\n",
        "    async function takePhoto(quality) {\n",
        "      const div = document.createElement('div');\n",
        "      const capture = document.createElement('button');\n",
        "      capture.textContent = 'Capture';\n",
        "      div.appendChild(capture);\n",
        "\n",
        "      const video = document.createElement('video');\n",
        "      video.style.display = 'block';\n",
        "      const stream = await navigator.mediaDevices.getUserMedia({video: true});\n",
        "\n",
        "      document.body.appendChild(div);\n",
        "      div.appendChild(video);\n",
        "      0.\n",
        "      video.srcObject = stream;\n",
        "      await video.play();\n",
        "\n",
        "      // Resize the output to fit the video element.\n",
        "      google.colab.output.setIframeHeight(document.documentElement.scrollHeight, true);\n",
        "\n",
        "      // Wait for Capture to be clicked.\n",
        "      await new Promise((resolve) => capture.onclick = resolve);\n",
        "\n",
        "      const canvas = document.createElement('canvas');\n",
        "      canvas.width = video.videoWidth;\n",
        "      canvas.height = video.videoHeight;\n",
        "      canvas.getContext('2d').drawImage(video, 0, 0);\n",
        "      stream.getVideoTracks()[0].stop();\n",
        "      div.remove();\n",
        "      return canvas.toDataURL('image/jpeg', quality);\n",
        "    }\n",
        "    ''')\n",
        "  display(js)\n",
        "  data = eval_js('takePhoto({})'.format(quality))\n",
        "  binary = b64decode(data.split(',')[1])\n",
        "  with open(filename, 'wb') as f:\n",
        "    f.write(binary)\n",
        "  return filename"
      ],
      "execution_count": 0,
      "outputs": []
    },
    {
      "cell_type": "code",
      "metadata": {
        "id": "kNMMlrifBK6F",
        "colab_type": "code",
        "outputId": "6b2caa19-0663-4271-e867-d4775417acbc",
        "colab": {
          "base_uri": "https://localhost:8080/",
          "height": 534
        }
      },
      "source": [
        "from IPython.display import Image\n",
        "try:\n",
        "  filename = take_photo()\n",
        "  print('Saved to {}'.format(filename))\n",
        "  \n",
        "  # Show the image which was just taken.\n",
        "  display(Image(filename))\n",
        "except Exception as err:\n",
        "  # Errors will be thrown if the user does not have a webcam or if they do not\n",
        "  # grant the page permission to access it.\n",
        "  print(str(err))"
      ],
      "execution_count": 0,
      "outputs": [
        {
          "output_type": "display_data",
          "data": {
            "application/javascript": [
              "\n",
              "    async function takePhoto(quality) {\n",
              "      const div = document.createElement('div');\n",
              "      const capture = document.createElement('button');\n",
              "      capture.textContent = 'Capture';\n",
              "      div.appendChild(capture);\n",
              "\n",
              "      const video = document.createElement('video');\n",
              "      video.style.display = 'block';\n",
              "      const stream = await navigator.mediaDevices.getUserMedia({video: true});\n",
              "\n",
              "      document.body.appendChild(div);\n",
              "      div.appendChild(video);\n",
              "      0.\n",
              "      video.srcObject = stream;\n",
              "      await video.play();\n",
              "\n",
              "      // Resize the output to fit the video element.\n",
              "      google.colab.output.setIframeHeight(document.documentElement.scrollHeight, true);\n",
              "\n",
              "      // Wait for Capture to be clicked.\n",
              "      await new Promise((resolve) => capture.onclick = resolve);\n",
              "\n",
              "      const canvas = document.createElement('canvas');\n",
              "      canvas.width = video.videoWidth;\n",
              "      canvas.height = video.videoHeight;\n",
              "      canvas.getContext('2d').drawImage(video, 0, 0);\n",
              "      stream.getVideoTracks()[0].stop();\n",
              "      div.remove();\n",
              "      return canvas.toDataURL('image/jpeg', quality);\n",
              "    }\n",
              "    "
            ],
            "text/plain": [
              "<IPython.core.display.Javascript object>"
            ]
          },
          "metadata": {
            "tags": []
          }
        },
        {
          "output_type": "stream",
          "text": [
            "Saved to photo.jpg\n"
          ],
          "name": "stdout"
        },
        {
          "output_type": "display_data",
          "data": {
            "image/jpeg": "[encoded data removed]",
            "text/plain": [
              "<IPython.core.display.Image object>"
            ]
          },
          "metadata": {
            "tags": []
          }
        }
      ]
    },
    {
      "cell_type": "code",
      "metadata": {
        "id": "jrxlaXvzB5Nv",
        "colab_type": "code",
        "colab": {}
      },
      "source": [
        ""
      ],
      "execution_count": 0,
      "outputs": []
    },
    {
      "cell_type": "code",
      "metadata": {
        "id": "lEdvrtqmBQWk",
        "colab_type": "code",
        "outputId": "79ba1cdf-5149-4a55-a605-d0d8c9d8274e",
        "colab": {
          "base_uri": "https://localhost:8080/",
          "height": 268
        }
      },
      "source": [
        "#Cropping image\n",
        "\n",
        "from PIL import Image\n",
        "import cv2\n",
        "import matplotlib.pyplot as plt\n",
        "\n",
        "faces = []\n",
        "\n",
        "img = Image.open(\"/content/pic.jpg\")\n",
        "face_cascade = cv2.CascadeClassifier('haarcascade_frontalface_default.xml')\n",
        "faces = face_cascade.detectMultiScale(np.asarray(img), 1.3, 5)\n",
        "for (x, y, w, h) in faces:\n",
        "  if len(faces) == 1: #Use simple check if one face is detected, or multiple (measurement error unless multiple persons on image)\n",
        "    crop_img = img.crop((x,y,x+w,y+h))\n",
        "  else:\n",
        "    print(\"multiple faces detected, passing over image\")\n",
        "\n",
        "plt.imshow(crop_img)\n",
        "crop_img.save('photo.jpg')"
      ],
      "execution_count": 0,
      "outputs": [
        {
          "output_type": "display_data",
          "data": {
            "image/png": "[encoded data removed]",
            "text/plain": [
              "<Figure size 432x288 with 1 Axes>"
            ]
          },
          "metadata": {
            "tags": []
          }
        }
      ]
    },
    {
      "cell_type": "code",
      "metadata": {
        "id": "3zGYqG3sB6JZ",
        "colab_type": "code",
        "colab": {}
      },
      "source": [
        ""
      ],
      "execution_count": 0,
      "outputs": []
    },
    {
      "cell_type": "code",
      "metadata": {
        "id": "a81PNgOiBWu6",
        "colab_type": "code",
        "outputId": "0ee4cb66-81f9-441a-c592-324d8dc8e348",
        "colab": {
          "base_uri": "https://localhost:8080/",
          "height": 238
        }
      },
      "source": [
        "\n",
        "import PIL\n",
        "from PIL import Image\n",
        "import cv2\n",
        "img=Image.open('/content/photo.jpg')\n",
        "test_image = img.resize((48,48),Image.ANTIALIAS)\n",
        "test_image = np.array(test_image)\n",
        "gray = cv2.cvtColor(test_image, cv2.COLOR_BGR2GRAY)\n",
        "gray = LoG(gray).reshape(-1, 48, 48, 1)\n",
        "gray=gray/255\n",
        "plt.imshow(np.squeeze(gray),cmap='gray')\n",
        "res = model5.predict(gray)\n",
        "\n",
        "#argmax returns index of max value\n",
        "result_num = np.argmax(res)\n",
        "labels = ['Angry','Disgust','Fear','Happy','Sad' , 'Surprise','Neutral']\n",
        "# this is for plotting purpose\n",
        "index = np.arange(len(labels))\n",
        "plt.figure(figsize=[6,4])\n",
        "plt.imshow(img, cmap='gray')\n",
        "\n",
        "plt.show()\n"
      ],
      "execution_count": 0,
      "outputs": [
        {
          "output_type": "error",
          "ename": "NameError",
          "evalue": "ignored",
          "traceback": [
            "\u001b[0;31m---------------------------------------------------------------------------\u001b[0m",
            "\u001b[0;31mNameError\u001b[0m                                 Traceback (most recent call last)",
            "\u001b[0;32m<ipython-input-19-81bf643fb826>\u001b[0m in \u001b[0;36m<module>\u001b[0;34m()\u001b[0m\n\u001b[1;32m      7\u001b[0m \u001b[0mtest_image\u001b[0m \u001b[0;34m=\u001b[0m \u001b[0mnp\u001b[0m\u001b[0;34m.\u001b[0m\u001b[0marray\u001b[0m\u001b[0;34m(\u001b[0m\u001b[0mtest_image\u001b[0m\u001b[0;34m)\u001b[0m\u001b[0;34m\u001b[0m\u001b[0;34m\u001b[0m\u001b[0m\n\u001b[1;32m      8\u001b[0m \u001b[0mgray\u001b[0m \u001b[0;34m=\u001b[0m \u001b[0mcv2\u001b[0m\u001b[0;34m.\u001b[0m\u001b[0mcvtColor\u001b[0m\u001b[0;34m(\u001b[0m\u001b[0mtest_image\u001b[0m\u001b[0;34m,\u001b[0m \u001b[0mcv2\u001b[0m\u001b[0;34m.\u001b[0m\u001b[0mCOLOR_BGR2GRAY\u001b[0m\u001b[0;34m)\u001b[0m\u001b[0;34m\u001b[0m\u001b[0;34m\u001b[0m\u001b[0m\n\u001b[0;32m----> 9\u001b[0;31m \u001b[0mgray\u001b[0m \u001b[0;34m=\u001b[0m \u001b[0mLoG\u001b[0m\u001b[0;34m(\u001b[0m\u001b[0mgray\u001b[0m\u001b[0;34m)\u001b[0m\u001b[0;34m.\u001b[0m\u001b[0mreshape\u001b[0m\u001b[0;34m(\u001b[0m\u001b[0;34m-\u001b[0m\u001b[0;36m1\u001b[0m\u001b[0;34m,\u001b[0m \u001b[0;36m48\u001b[0m\u001b[0;34m,\u001b[0m \u001b[0;36m48\u001b[0m\u001b[0;34m,\u001b[0m \u001b[0;36m1\u001b[0m\u001b[0;34m)\u001b[0m\u001b[0;34m\u001b[0m\u001b[0;34m\u001b[0m\u001b[0m\n\u001b[0m\u001b[1;32m     10\u001b[0m \u001b[0mgray\u001b[0m\u001b[0;34m=\u001b[0m\u001b[0mgray\u001b[0m\u001b[0;34m/\u001b[0m\u001b[0;36m255\u001b[0m\u001b[0;34m\u001b[0m\u001b[0;34m\u001b[0m\u001b[0m\n\u001b[1;32m     11\u001b[0m \u001b[0mplt\u001b[0m\u001b[0;34m.\u001b[0m\u001b[0mimshow\u001b[0m\u001b[0;34m(\u001b[0m\u001b[0mnp\u001b[0m\u001b[0;34m.\u001b[0m\u001b[0msqueeze\u001b[0m\u001b[0;34m(\u001b[0m\u001b[0mgray\u001b[0m\u001b[0;34m)\u001b[0m\u001b[0;34m,\u001b[0m\u001b[0mcmap\u001b[0m\u001b[0;34m=\u001b[0m\u001b[0;34m'gray'\u001b[0m\u001b[0;34m)\u001b[0m\u001b[0;34m\u001b[0m\u001b[0;34m\u001b[0m\u001b[0m\n",
            "\u001b[0;31mNameError\u001b[0m: name 'LoG' is not defined"
          ]
        }
      ]
    },
    {
      "cell_type": "code",
      "metadata": {
        "id": "h5fCzc66BiHM",
        "colab_type": "code",
        "outputId": "79fd8751-a218-4d4d-ce8d-2a630d856ee5",
        "colab": {
          "base_uri": "https://localhost:8080/",
          "height": 238
        }
      },
      "source": [
        "x=\"\"\n",
        "for i in range(len(res[0])):\n",
        "    x=x+get_label(i)+\":\"+str(res[0][i])+\"\\n\"\n",
        "str1=\"Probabilities are \\n\" + x+\"\\n\"+\"Emotion is \"+get_label(result_num)\n",
        "print(str1)\n",
        "df = pd.DataFrame({'Emotions':[ 'Angry','Disgust', 'Fear','Happy',\"Sad\",'Surprise','Neutral'], 'Probability':res[0]})\n",
        "ax = df.plot.barh(x='Emotions', y='Probability')\n",
        "    "
      ],
      "execution_count": 0,
      "outputs": [
        {
          "output_type": "error",
          "ename": "NameError",
          "evalue": "ignored",
          "traceback": [
            "\u001b[0;31m---------------------------------------------------------------------------\u001b[0m",
            "\u001b[0;31mNameError\u001b[0m                                 Traceback (most recent call last)",
            "\u001b[0;32m<ipython-input-20-9f8027d20ef5>\u001b[0m in \u001b[0;36m<module>\u001b[0;34m()\u001b[0m\n\u001b[1;32m      1\u001b[0m \u001b[0mx\u001b[0m\u001b[0;34m=\u001b[0m\u001b[0;34m\"\"\u001b[0m\u001b[0;34m\u001b[0m\u001b[0;34m\u001b[0m\u001b[0m\n\u001b[0;32m----> 2\u001b[0;31m \u001b[0;32mfor\u001b[0m \u001b[0mi\u001b[0m \u001b[0;32min\u001b[0m \u001b[0mrange\u001b[0m\u001b[0;34m(\u001b[0m\u001b[0mlen\u001b[0m\u001b[0;34m(\u001b[0m\u001b[0mres\u001b[0m\u001b[0;34m[\u001b[0m\u001b[0;36m0\u001b[0m\u001b[0;34m]\u001b[0m\u001b[0;34m)\u001b[0m\u001b[0;34m)\u001b[0m\u001b[0;34m:\u001b[0m\u001b[0;34m\u001b[0m\u001b[0;34m\u001b[0m\u001b[0m\n\u001b[0m\u001b[1;32m      3\u001b[0m     \u001b[0mx\u001b[0m\u001b[0;34m=\u001b[0m\u001b[0mx\u001b[0m\u001b[0;34m+\u001b[0m\u001b[0mget_label\u001b[0m\u001b[0;34m(\u001b[0m\u001b[0mi\u001b[0m\u001b[0;34m)\u001b[0m\u001b[0;34m+\u001b[0m\u001b[0;34m\":\"\u001b[0m\u001b[0;34m+\u001b[0m\u001b[0mstr\u001b[0m\u001b[0;34m(\u001b[0m\u001b[0mres\u001b[0m\u001b[0;34m[\u001b[0m\u001b[0;36m0\u001b[0m\u001b[0;34m]\u001b[0m\u001b[0;34m[\u001b[0m\u001b[0mi\u001b[0m\u001b[0;34m]\u001b[0m\u001b[0;34m)\u001b[0m\u001b[0;34m+\u001b[0m\u001b[0;34m\"\\n\"\u001b[0m\u001b[0;34m\u001b[0m\u001b[0;34m\u001b[0m\u001b[0m\n\u001b[1;32m      4\u001b[0m \u001b[0mstr1\u001b[0m\u001b[0;34m=\u001b[0m\u001b[0;34m\"Probabilities are \\n\"\u001b[0m \u001b[0;34m+\u001b[0m \u001b[0mx\u001b[0m\u001b[0;34m+\u001b[0m\u001b[0;34m\"\\n\"\u001b[0m\u001b[0;34m+\u001b[0m\u001b[0;34m\"Emotion is \"\u001b[0m\u001b[0;34m+\u001b[0m\u001b[0mget_label\u001b[0m\u001b[0;34m(\u001b[0m\u001b[0mresult_num\u001b[0m\u001b[0;34m)\u001b[0m\u001b[0;34m\u001b[0m\u001b[0;34m\u001b[0m\u001b[0m\n\u001b[1;32m      5\u001b[0m \u001b[0mprint\u001b[0m\u001b[0;34m(\u001b[0m\u001b[0mstr1\u001b[0m\u001b[0;34m)\u001b[0m\u001b[0;34m\u001b[0m\u001b[0;34m\u001b[0m\u001b[0m\n",
            "\u001b[0;31mNameError\u001b[0m: name 'res' is not defined"
          ]
        }
      ]
    },
    {
      "cell_type": "code",
      "metadata": {
        "id": "s5vC-QqIPS1K",
        "colab_type": "code",
        "outputId": "edcffa79-b865-48e1-abea-6b37b83011ea",
        "colab": {
          "base_uri": "https://localhost:8080/",
          "height": 72
        }
      },
      "source": [
        "!pip install opencv-contrib-python\n"
      ],
      "execution_count": 0,
      "outputs": [
        {
          "output_type": "stream",
          "text": [
            "Requirement already satisfied: opencv-contrib-python in /usr/local/lib/python3.6/dist-packages (3.4.3.18)\n",
            "Requirement already satisfied: numpy>=1.11.3 in /usr/local/lib/python3.6/dist-packages (from opencv-contrib-python) (1.17.3)\n"
          ],
          "name": "stdout"
        }
      ]
    },
    {
      "cell_type": "code",
      "metadata": {
        "id": "lkDWhkJDQj8E",
        "colab_type": "code",
        "outputId": "51637c3e-6371-4ab2-c636-5e014a8ceaee",
        "colab": {
          "base_uri": "https://localhost:8080/",
          "height": 238
        }
      },
      "source": [
        "import cv2\n",
        "import numpy as np\n",
        "\n",
        "img = cv2.imread('pic.jpg')\n",
        "gray= cv2.cvtColor(img,cv2.COLOR_BGR2GRAY)\n",
        "\n",
        "kp = sift.detect(gray,None)\n",
        "\n",
        "img=cv2.drawKeypoints(gray,kp)\n",
        "\n",
        "cv2.imwrite('sift_keypoints.jpg',img)\n",
        "img=cv2.drawKeypoints(gray,kp,flags=cv2.DRAW_MATCHES_FLAGS_DRAW_RICH_KEYPOINTS)\n",
        "cv2.imwrite('sift_keypoints.jpg',img)"
      ],
      "execution_count": 0,
      "outputs": [
        {
          "output_type": "error",
          "ename": "NameError",
          "evalue": "ignored",
          "traceback": [
            "\u001b[0;31m---------------------------------------------------------------------------\u001b[0m",
            "\u001b[0;31mNameError\u001b[0m                                 Traceback (most recent call last)",
            "\u001b[0;32m<ipython-input-187-a81892cb1cc5>\u001b[0m in \u001b[0;36m<module>\u001b[0;34m()\u001b[0m\n\u001b[1;32m      5\u001b[0m \u001b[0mgray\u001b[0m\u001b[0;34m=\u001b[0m \u001b[0mcv2\u001b[0m\u001b[0;34m.\u001b[0m\u001b[0mcvtColor\u001b[0m\u001b[0;34m(\u001b[0m\u001b[0mimg\u001b[0m\u001b[0;34m,\u001b[0m\u001b[0mcv2\u001b[0m\u001b[0;34m.\u001b[0m\u001b[0mCOLOR_BGR2GRAY\u001b[0m\u001b[0;34m)\u001b[0m\u001b[0;34m\u001b[0m\u001b[0;34m\u001b[0m\u001b[0m\n\u001b[1;32m      6\u001b[0m \u001b[0;34m\u001b[0m\u001b[0m\n\u001b[0;32m----> 7\u001b[0;31m \u001b[0mkp\u001b[0m \u001b[0;34m=\u001b[0m \u001b[0msift\u001b[0m\u001b[0;34m.\u001b[0m\u001b[0mdetect\u001b[0m\u001b[0;34m(\u001b[0m\u001b[0mgray\u001b[0m\u001b[0;34m,\u001b[0m\u001b[0;32mNone\u001b[0m\u001b[0;34m)\u001b[0m\u001b[0;34m\u001b[0m\u001b[0;34m\u001b[0m\u001b[0m\n\u001b[0m\u001b[1;32m      8\u001b[0m \u001b[0;34m\u001b[0m\u001b[0m\n\u001b[1;32m      9\u001b[0m \u001b[0mimg\u001b[0m\u001b[0;34m=\u001b[0m\u001b[0mcv2\u001b[0m\u001b[0;34m.\u001b[0m\u001b[0mdrawKeypoints\u001b[0m\u001b[0;34m(\u001b[0m\u001b[0mgray\u001b[0m\u001b[0;34m,\u001b[0m\u001b[0mkp\u001b[0m\u001b[0;34m)\u001b[0m\u001b[0;34m\u001b[0m\u001b[0;34m\u001b[0m\u001b[0m\n",
            "\u001b[0;31mNameError\u001b[0m: name 'sift' is not defined"
          ]
        }
      ]
    },
    {
      "cell_type": "code",
      "metadata": {
        "id": "kZJqMX0bEjwP",
        "colab_type": "code",
        "outputId": "814259a2-f1ea-4e8b-fec7-c5a5bf2b02e8",
        "colab": {
          "base_uri": "https://localhost:8080/",
          "height": 238
        }
      },
      "source": [
        "import cv2\n",
        "img = cv2.imread('Nithish.jpg',0)\n",
        "\n",
        "# Create SURF object. You can specify params here or later.\n",
        "# Here I set Hessian Threshold to 400\n",
        "surf = cv2.SURF(400)\n",
        "\n",
        "# Find keypoints and descriptors directly\n",
        "kp, des = surf.detectAndCompute(img,None)\n",
        "\n",
        "len(kp)\n",
        "\n"
      ],
      "execution_count": 0,
      "outputs": [
        {
          "output_type": "error",
          "ename": "AttributeError",
          "evalue": "ignored",
          "traceback": [
            "\u001b[0;31m---------------------------------------------------------------------------\u001b[0m",
            "\u001b[0;31mAttributeError\u001b[0m                            Traceback (most recent call last)",
            "\u001b[0;32m<ipython-input-182-7eed38ff29a9>\u001b[0m in \u001b[0;36m<module>\u001b[0;34m()\u001b[0m\n\u001b[1;32m      4\u001b[0m \u001b[0;31m# Create SURF object. You can specify params here or later.\u001b[0m\u001b[0;34m\u001b[0m\u001b[0;34m\u001b[0m\u001b[0;34m\u001b[0m\u001b[0m\n\u001b[1;32m      5\u001b[0m \u001b[0;31m# Here I set Hessian Threshold to 400\u001b[0m\u001b[0;34m\u001b[0m\u001b[0;34m\u001b[0m\u001b[0;34m\u001b[0m\u001b[0m\n\u001b[0;32m----> 6\u001b[0;31m \u001b[0msurf\u001b[0m \u001b[0;34m=\u001b[0m \u001b[0mcv2\u001b[0m\u001b[0;34m.\u001b[0m\u001b[0mSURF\u001b[0m\u001b[0;34m(\u001b[0m\u001b[0;36m400\u001b[0m\u001b[0;34m)\u001b[0m\u001b[0;34m\u001b[0m\u001b[0;34m\u001b[0m\u001b[0m\n\u001b[0m\u001b[1;32m      7\u001b[0m \u001b[0;34m\u001b[0m\u001b[0m\n\u001b[1;32m      8\u001b[0m \u001b[0;31m# Find keypoints and descriptors directly\u001b[0m\u001b[0;34m\u001b[0m\u001b[0;34m\u001b[0m\u001b[0;34m\u001b[0m\u001b[0m\n",
            "\u001b[0;31mAttributeError\u001b[0m: module 'cv2.cv2' has no attribute 'SURF'"
          ]
        }
      ]
    },
    {
      "cell_type": "code",
      "metadata": {
        "id": "OCG5uBuxO66A",
        "colab_type": "code",
        "colab": {}
      },
      "source": [
        "# Check present Hessian threshold\n",
        "print(surf.hessianThreshold)\n",
        "#400.0\n",
        "\n",
        "# We set it to some 50000. Remember, it is just for representing in picture.\n",
        "# In actual cases, it is better to have a value 300-500\n",
        "surf.hessianThreshold = 50000\n",
        "\n",
        "# Again compute keypoints and check its number.\n",
        "kp, des = surf.detectAndCompute(img,None)\n",
        "\n",
        "print len(kp)\n",
        "#47"
      ],
      "execution_count": 0,
      "outputs": []
    },
    {
      "cell_type": "code",
      "metadata": {
        "id": "eOIrponqO9u_",
        "colab_type": "code",
        "outputId": "7cbb24b4-dd22-4371-a2fd-fa01119da286",
        "colab": {
          "base_uri": "https://localhost:8080/",
          "height": 202
        }
      },
      "source": [
        "img2 = cv2.drawKeypoints(img,kp,None,(255,0,0),4)\n",
        "\n",
        "plt.imshow(img2),plt.show()"
      ],
      "execution_count": 0,
      "outputs": [
        {
          "output_type": "error",
          "ename": "NameError",
          "evalue": "ignored",
          "traceback": [
            "\u001b[0;31m---------------------------------------------------------------------------\u001b[0m",
            "\u001b[0;31mNameError\u001b[0m                                 Traceback (most recent call last)",
            "\u001b[0;32m<ipython-input-188-6e21b8dab7a0>\u001b[0m in \u001b[0;36m<module>\u001b[0;34m()\u001b[0m\n\u001b[0;32m----> 1\u001b[0;31m \u001b[0mimg2\u001b[0m \u001b[0;34m=\u001b[0m \u001b[0mcv2\u001b[0m\u001b[0;34m.\u001b[0m\u001b[0mdrawKeypoints\u001b[0m\u001b[0;34m(\u001b[0m\u001b[0mimg\u001b[0m\u001b[0;34m,\u001b[0m\u001b[0mkp\u001b[0m\u001b[0;34m,\u001b[0m\u001b[0;32mNone\u001b[0m\u001b[0;34m,\u001b[0m\u001b[0;34m(\u001b[0m\u001b[0;36m255\u001b[0m\u001b[0;34m,\u001b[0m\u001b[0;36m0\u001b[0m\u001b[0;34m,\u001b[0m\u001b[0;36m0\u001b[0m\u001b[0;34m)\u001b[0m\u001b[0;34m,\u001b[0m\u001b[0;36m4\u001b[0m\u001b[0;34m)\u001b[0m\u001b[0;34m\u001b[0m\u001b[0;34m\u001b[0m\u001b[0m\n\u001b[0m\u001b[1;32m      2\u001b[0m \u001b[0;34m\u001b[0m\u001b[0m\n\u001b[1;32m      3\u001b[0m \u001b[0mplt\u001b[0m\u001b[0;34m.\u001b[0m\u001b[0mimshow\u001b[0m\u001b[0;34m(\u001b[0m\u001b[0mimg2\u001b[0m\u001b[0;34m)\u001b[0m\u001b[0;34m,\u001b[0m\u001b[0mplt\u001b[0m\u001b[0;34m.\u001b[0m\u001b[0mshow\u001b[0m\u001b[0;34m(\u001b[0m\u001b[0;34m)\u001b[0m\u001b[0;34m\u001b[0m\u001b[0;34m\u001b[0m\u001b[0m\n",
            "\u001b[0;31mNameError\u001b[0m: name 'kp' is not defined"
          ]
        }
      ]
    },
    {
      "cell_type": "code",
      "metadata": {
        "id": "q8crxJlkfCNF",
        "colab_type": "code",
        "outputId": "e24c15b9-b24d-41b1-f481-50746c151401",
        "colab": {
          "base_uri": "https://localhost:8080/",
          "height": 286
        }
      },
      "source": [
        "\n",
        "from PIL import Image\n",
        "import cv2\n",
        "import matplotlib.pyplot as plt\n",
        "\n",
        "faces = []\n",
        "\n",
        "img = Image.open(\"/content/Itha Venkata Siva Ramakrishna.jpg\")\n",
        "face_cascade = cv2.CascadeClassifier('haarcascade_frontalface_default.xml')\n",
        "faces = face_cascade.detectMultiScale(np.asarray(img), 1.3, 5)\n",
        "for (x, y, w, h) in faces:\n",
        "  if len(faces) == 1: #Use simple check if one face is detected, or multiple (measurement error unless multiple persons on image)\n",
        "    crop_img = img.crop((x,y,x+w,y+h))\n",
        "  else:\n",
        "    print(\"multiple faces detected, passing over image\")\n",
        "\n",
        "plt.imshow(crop_img)\n",
        "\n"
      ],
      "execution_count": 0,
      "outputs": [
        {
          "output_type": "execute_result",
          "data": {
            "text/plain": [
              "<matplotlib.image.AxesImage at 0x7f388dfb09e8>"
            ]
          },
          "metadata": {
            "tags": []
          },
          "execution_count": 204
        },
        {
          "output_type": "display_data",
          "data": {
            "image/png": "[encoded data removed]",
            "text/plain": [
              "<Figure size 432x288 with 1 Axes>"
            ]
          },
          "metadata": {
            "tags": []
          }
        }
      ]
    },
    {
      "cell_type": "code",
      "metadata": {
        "id": "Q0dzq5Umftlo",
        "colab_type": "code",
        "outputId": "9388048d-e2b2-44d5-d326-6d1e6879769d",
        "colab": {
          "base_uri": "https://localhost:8080/",
          "height": 258
        }
      },
      "source": [
        "crop_img.save('photo.jpg')\n",
        "import PIL\n",
        "from PIL import Image\n",
        "import cv2\n",
        "\n",
        "img=Image.open('/content/photo.jpg')\n",
        "test_image = img.resize((48,48),Image.ANTIALIAS)\n",
        "test_image = np.array(test_image)\n",
        "gray = cv2.cvtColor(test_image, cv2.COLOR_BGR2GRAY)\n",
        "gray/=255\n",
        "gray = LoG(gray).reshape(-1, 48, 48, 1)\n",
        "plt.imshow(np.squeeze(gray),cmap='gray')\n"
      ],
      "execution_count": 0,
      "outputs": [
        {
          "output_type": "error",
          "ename": "TypeError",
          "evalue": "ignored",
          "traceback": [
            "\u001b[0;31m---------------------------------------------------------------------------\u001b[0m",
            "\u001b[0;31mTypeError\u001b[0m                                 Traceback (most recent call last)",
            "\u001b[0;32m<ipython-input-206-dea34c545636>\u001b[0m in \u001b[0;36m<module>\u001b[0;34m()\u001b[0m\n\u001b[1;32m      8\u001b[0m \u001b[0mtest_image\u001b[0m \u001b[0;34m=\u001b[0m \u001b[0mnp\u001b[0m\u001b[0;34m.\u001b[0m\u001b[0marray\u001b[0m\u001b[0;34m(\u001b[0m\u001b[0mtest_image\u001b[0m\u001b[0;34m)\u001b[0m\u001b[0;34m\u001b[0m\u001b[0;34m\u001b[0m\u001b[0m\n\u001b[1;32m      9\u001b[0m \u001b[0mgray\u001b[0m \u001b[0;34m=\u001b[0m \u001b[0mcv2\u001b[0m\u001b[0;34m.\u001b[0m\u001b[0mcvtColor\u001b[0m\u001b[0;34m(\u001b[0m\u001b[0mtest_image\u001b[0m\u001b[0;34m,\u001b[0m \u001b[0mcv2\u001b[0m\u001b[0;34m.\u001b[0m\u001b[0mCOLOR_BGR2GRAY\u001b[0m\u001b[0;34m)\u001b[0m\u001b[0;34m\u001b[0m\u001b[0;34m\u001b[0m\u001b[0m\n\u001b[0;32m---> 10\u001b[0;31m \u001b[0mgray\u001b[0m\u001b[0;34m/=\u001b[0m\u001b[0;36m255\u001b[0m\u001b[0;34m\u001b[0m\u001b[0;34m\u001b[0m\u001b[0m\n\u001b[0m\u001b[1;32m     11\u001b[0m \u001b[0mgray\u001b[0m \u001b[0;34m=\u001b[0m \u001b[0mLoG\u001b[0m\u001b[0;34m(\u001b[0m\u001b[0mgray\u001b[0m\u001b[0;34m)\u001b[0m\u001b[0;34m.\u001b[0m\u001b[0mreshape\u001b[0m\u001b[0;34m(\u001b[0m\u001b[0;34m-\u001b[0m\u001b[0;36m1\u001b[0m\u001b[0;34m,\u001b[0m \u001b[0;36m48\u001b[0m\u001b[0;34m,\u001b[0m \u001b[0;36m48\u001b[0m\u001b[0;34m,\u001b[0m \u001b[0;36m1\u001b[0m\u001b[0;34m)\u001b[0m\u001b[0;34m\u001b[0m\u001b[0;34m\u001b[0m\u001b[0m\n\u001b[1;32m     12\u001b[0m \u001b[0mplt\u001b[0m\u001b[0;34m.\u001b[0m\u001b[0mimshow\u001b[0m\u001b[0;34m(\u001b[0m\u001b[0mnp\u001b[0m\u001b[0;34m.\u001b[0m\u001b[0msqueeze\u001b[0m\u001b[0;34m(\u001b[0m\u001b[0mgray\u001b[0m\u001b[0;34m)\u001b[0m\u001b[0;34m,\u001b[0m\u001b[0mcmap\u001b[0m\u001b[0;34m=\u001b[0m\u001b[0;34m'gray'\u001b[0m\u001b[0;34m)\u001b[0m\u001b[0;34m\u001b[0m\u001b[0;34m\u001b[0m\u001b[0m\n",
            "\u001b[0;31mTypeError\u001b[0m: No loop matching the specified signature and casting was found for ufunc true_divide"
          ]
        }
      ]
    },
    {
      "cell_type": "code",
      "metadata": {
        "id": "-RGjlGcpgkuB",
        "colab_type": "code",
        "outputId": "79c96a00-e25f-4dca-ef28-775da941176f",
        "colab": {
          "base_uri": "https://localhost:8080/",
          "height": 268
        }
      },
      "source": [
        "\n",
        "from PIL import Image\n",
        "import cv2\n",
        "import matplotlib.pyplot as plt\n",
        "\n",
        "faces = []\n",
        "\n",
        "img = Image.open(\"/content/emotion_surprise.png\")\n",
        "plt.imshow(img)\n",
        "face_cascade = cv2.CascadeClassifier('haarcascade_frontalface_default.xml')\n",
        "faces = face_cascade.detectMultiScale(np.asarray(img), 1.3, 5)\n",
        "for (x, y, w, h) in faces:\n",
        "  if len(faces) == 1: #Use simple check if one face is detected, or multiple (measurement error unless multiple persons on image)\n",
        "    crop_img = img.crop((x,y,x+w,y+h))\n",
        "  else:\n",
        "    print(\"multiple faces detected, passing over image\")\n",
        "\n",
        "\n",
        "crop_img.save('photo.jpg')\n"
      ],
      "execution_count": 0,
      "outputs": [
        {
          "output_type": "display_data",
          "data": {
            "image/png": "[encoded data removed]",
            "text/plain": [
              "<Figure size 432x288 with 1 Axes>"
            ]
          },
          "metadata": {
            "tags": []
          }
        }
      ]
    },
    {
      "cell_type": "code",
      "metadata": {
        "id": "ARpNMhgQ7XYc",
        "colab_type": "code",
        "outputId": "15d2aa6e-00be-4a75-f4b5-c34b084844a4",
        "colab": {
          "base_uri": "https://localhost:8080/",
          "height": 286
        }
      },
      "source": [
        "plt.imshow(crop_img)"
      ],
      "execution_count": 0,
      "outputs": [
        {
          "output_type": "execute_result",
          "data": {
            "text/plain": [
              "<matplotlib.image.AxesImage at 0x7f23ce253400>"
            ]
          },
          "metadata": {
            "tags": []
          },
          "execution_count": 26
        },
        {
          "output_type": "display_data",
          "data": {
            "image/png": "[encoded data removed]",
            "text/plain": [
              "<Figure size 432x288 with 1 Axes>"
            ]
          },
          "metadata": {
            "tags": []
          }
        }
      ]
    },
    {
      "cell_type": "code",
      "metadata": {
        "id": "XdmljqgN7nru",
        "colab_type": "code",
        "outputId": "054d6eee-50f0-46fe-9d36-9b590bf989af",
        "colab": {
          "base_uri": "https://localhost:8080/",
          "height": 238
        }
      },
      "source": [
        "crop_img.save('photo.jpg')\n",
        "import PIL\n",
        "from PIL import Image\n",
        "import cv2\n",
        "\n",
        "img=Image.open('/content/photo.jpg')\n",
        "test_image = img.resize((48,48),Image.ANTIALIAS)\n",
        "test_image = np.array(test_image)\n",
        "gray = cv2.cvtColor(test_image, cv2.COLOR_BGR2GRAY)\n",
        "gray/=255\n",
        "gray = gray.reshape(-1, 48, 48, 1)\n",
        "plt.imshow(np.squeeze(gray),cmap='gray')\n"
      ],
      "execution_count": 0,
      "outputs": [
        {
          "output_type": "error",
          "ename": "TypeError",
          "evalue": "ignored",
          "traceback": [
            "\u001b[0;31m---------------------------------------------------------------------------\u001b[0m",
            "\u001b[0;31mTypeError\u001b[0m                                 Traceback (most recent call last)",
            "\u001b[0;32m<ipython-input-29-5bc0f76bd990>\u001b[0m in \u001b[0;36m<module>\u001b[0;34m()\u001b[0m\n\u001b[1;32m      8\u001b[0m \u001b[0mtest_image\u001b[0m \u001b[0;34m=\u001b[0m \u001b[0mnp\u001b[0m\u001b[0;34m.\u001b[0m\u001b[0marray\u001b[0m\u001b[0;34m(\u001b[0m\u001b[0mtest_image\u001b[0m\u001b[0;34m)\u001b[0m\u001b[0;34m\u001b[0m\u001b[0;34m\u001b[0m\u001b[0m\n\u001b[1;32m      9\u001b[0m \u001b[0mgray\u001b[0m \u001b[0;34m=\u001b[0m \u001b[0mcv2\u001b[0m\u001b[0;34m.\u001b[0m\u001b[0mcvtColor\u001b[0m\u001b[0;34m(\u001b[0m\u001b[0mtest_image\u001b[0m\u001b[0;34m,\u001b[0m \u001b[0mcv2\u001b[0m\u001b[0;34m.\u001b[0m\u001b[0mCOLOR_BGR2GRAY\u001b[0m\u001b[0;34m)\u001b[0m\u001b[0;34m\u001b[0m\u001b[0;34m\u001b[0m\u001b[0m\n\u001b[0;32m---> 10\u001b[0;31m \u001b[0mgray\u001b[0m\u001b[0;34m/=\u001b[0m\u001b[0;36m255\u001b[0m\u001b[0;34m\u001b[0m\u001b[0;34m\u001b[0m\u001b[0m\n\u001b[0m\u001b[1;32m     11\u001b[0m \u001b[0mgray\u001b[0m \u001b[0;34m=\u001b[0m \u001b[0mgray\u001b[0m\u001b[0;34m.\u001b[0m\u001b[0mreshape\u001b[0m\u001b[0;34m(\u001b[0m\u001b[0;34m-\u001b[0m\u001b[0;36m1\u001b[0m\u001b[0;34m,\u001b[0m \u001b[0;36m48\u001b[0m\u001b[0;34m,\u001b[0m \u001b[0;36m48\u001b[0m\u001b[0;34m,\u001b[0m \u001b[0;36m1\u001b[0m\u001b[0;34m)\u001b[0m\u001b[0;34m\u001b[0m\u001b[0;34m\u001b[0m\u001b[0m\n\u001b[1;32m     12\u001b[0m \u001b[0mplt\u001b[0m\u001b[0;34m.\u001b[0m\u001b[0mimshow\u001b[0m\u001b[0;34m(\u001b[0m\u001b[0mnp\u001b[0m\u001b[0;34m.\u001b[0m\u001b[0msqueeze\u001b[0m\u001b[0;34m(\u001b[0m\u001b[0mgray\u001b[0m\u001b[0;34m)\u001b[0m\u001b[0;34m,\u001b[0m\u001b[0mcmap\u001b[0m\u001b[0;34m=\u001b[0m\u001b[0;34m'gray'\u001b[0m\u001b[0;34m)\u001b[0m\u001b[0;34m\u001b[0m\u001b[0;34m\u001b[0m\u001b[0m\n",
            "\u001b[0;31mTypeError\u001b[0m: No loop matching the specified signature and casting was found for ufunc true_divide"
          ]
        }
      ]
    },
    {
      "cell_type": "code",
      "metadata": {
        "id": "Q2o4RnyZ7z0s",
        "colab_type": "code",
        "colab": {}
      },
      "source": [
        ""
      ],
      "execution_count": 0,
      "outputs": []
    }
  ]
}